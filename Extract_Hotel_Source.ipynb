{
 "cells": [
  {
   "cell_type": "markdown",
   "id": "848e2804",
   "metadata": {},
   "source": [
    "#  Task 1 (Top 25 hotels)"
   ]
  },
  {
   "cell_type": "code",
   "execution_count": null,
   "id": "6fdc1d8c",
   "metadata": {},
   "outputs": [],
   "source": [
    "import requests\n",
    "from bs4 import BeautifulSoup\n",
    "    \n",
    "# URL of the Booking.com search results page\n",
    "url = 'https://www.tripadvisor.com.ph/Restaurants-g298573-Manila_Metro_Manila_Luzon.html'\n",
    "# Send an HTTP GET request to the URL\n",
    "response = requests.get(url)\n",
    "\n",
    "# Check if the request was successful (status code 200)\n",
    "if response.status_code == 200:\n",
    "    html_content = response.text\n",
    "    # Print the HTML content\n",
    "    print(html_content)\n",
    "else:\n",
    "    print('Failed to retrieve the webpage. Status code:', response.status_code)\n"
   ]
  },
  {
   "cell_type": "markdown",
   "id": "cc644ec2",
   "metadata": {},
   "source": [
    "#  25 Hotels"
   ]
  },
  {
   "cell_type": "markdown",
   "id": "d8e70292",
   "metadata": {},
   "source": [
    "# 1. airobedz MAKATI - Palanan"
   ]
  },
  {
   "cell_type": "code",
   "execution_count": 1,
   "id": "00e884bb",
   "metadata": {},
   "outputs": [
    {
     "name": "stdout",
     "output_type": "stream",
     "text": [
      "airobedz MAKATI - Palanan\n"
     ]
    }
   ],
   "source": [
    "import requests\n",
    "from bs4 import BeautifulSoup\n",
    "\n",
    "# Define the URL\n",
    "url = \"https://www.booking.com/hotel/ph/airobedz-makati-makati1.en-gb.html?aid=306395&label=manila-FQAtFrQpwv6S9K4IrmV3gAS392865645013%3Apl%3Ata%3Ap1720%3Ap2%3Aac%3Aap%3Aneg%3Afi%3Atiaud-146342137030%3Akwd-139454200%3Alp9066820%3Ali%3Adec%3Adm%3Appccp%3DUmFuZG9tSVYkc2RlIyh9YZVcNNsENnH02-pWD53qm9c&sid=fc9096d21bc731377561807eebb08b70&dest_id=-2437894;dest_type=city;dist=0;group_adults=2;group_children=0;hapos=1;hpos=1;nflt=ht_id%3D204;no_rooms=1;req_adults=2;room1=A%2CA;sb_price_type=total;sr_order=popularity;srepoch=1694947268;srpvid=768c46fb585a0098;type=total;ucfs=1&#hotelTmpl\"\n",
    "\n",
    "# Send an HTTP GET request to the URL\n",
    "response = requests.get(url)\n",
    "\n",
    "# Check if the request was successful (status code 200)\n",
    "if response.status_code == 200:\n",
    "    # Parse the HTML content\n",
    "    soup = BeautifulSoup(response.text, 'html.parser')\n",
    "\n",
    "    # Find the h2 element with the specified class\n",
    "    h2_element = soup.find(\"h2\", class_=\"d2fee87262 pp-header__title\")\n",
    "\n",
    "    # Extract and print the text content of the h2 element\n",
    "    if h2_element:\n",
    "        print(h2_element.text.strip())\n",
    "    else:\n",
    "        print(\"H2 element not found.\")\n",
    "else:\n",
    "    print(\"Failed to retrieve the page. Status code:\", response.status_code)\n"
   ]
  },
  {
   "cell_type": "code",
   "execution_count": 40,
   "id": "c3266a61",
   "metadata": {},
   "outputs": [
    {
     "name": "stdout",
     "output_type": "stream",
     "text": [
      "The location is 5487 Boyle Street, Palanan, Makati, 1235 Manila, Philippines\n"
     ]
    }
   ],
   "source": [
    "import requests\n",
    "from bs4 import BeautifulSoup\n",
    "\n",
    "# Define the URL\n",
    "url = \"https://www.booking.com/hotel/ph/airobedz-makati-makati1.en-gb.html?aid=306395&label=manila-FQAtFrQpwv6S9K4IrmV3gAS392865645013%3Apl%3Ata%3Ap1720%3Ap2%3Aac%3Aap%3Aneg%3Afi%3Atiaud-146342137030%3Akwd-139454200%3Alp9066820%3Ali%3Adec%3Adm%3Appccp%3DUmFuZG9tSVYkc2RlIyh9YZVcNNsENnH02-pWD53qm9c&sid=fc9096d21bc731377561807eebb08b70&dest_id=-2437894;dest_type=city;dist=0;group_adults=2;group_children=0;hapos=1;hpos=1;nflt=ht_id%3D204;no_rooms=1;req_adults=2;room1=A%2CA;sb_price_type=total;sr_order=popularity;srepoch=1694947268;srpvid=768c46fb585a0098;type=total;ucfs=1&#hotelTmpl\"\n",
    "\n",
    "# Send an HTTP GET request to the URL\n",
    "response = requests.get(url)\n",
    "\n",
    "# Check if the request was successful (status code 200)\n",
    "if response.status_code == 200:\n",
    "    # Parse the HTML content\n",
    "    soup = BeautifulSoup(response.text, 'html.parser')\n",
    "\n",
    "    # Find the span element with the specified class and extract the address\n",
    "    address_element = soup.find(\"span\", class_=\"hp_address_subtitle\")\n",
    "\n",
    "    if address_element:\n",
    "        address = address_element.text.strip()\n",
    "        print(\"The location is\" ,address)\n",
    "    else:\n",
    "        print(\"Address element not found.\")\n",
    "else:\n",
    "    print(\"Failed to retrieve the page. Status code:\", response.status_code)\n"
   ]
  },
  {
   "cell_type": "code",
   "execution_count": 42,
   "id": "6a79836a",
   "metadata": {},
   "outputs": [
    {
     "name": "stdout",
     "output_type": "stream",
     "text": [
      "The amenities are:\n",
      "Free WiFi\n",
      "Private parking\n",
      "Non-smoking rooms\n",
      "24-hour front desk\n",
      "Lift\n"
     ]
    }
   ],
   "source": [
    "import requests\n",
    "from bs4 import BeautifulSoup\n",
    "\n",
    "# Define the URL\n",
    "url = \"https://www.booking.com/hotel/ph/airobedz-makati-makati1.en-gb.html?aid=306395&label=manila-FQAtFrQpwv6S9K4IrmV3gAS392865645013%3Apl%3Ata%3Ap1720%3Ap2%3Aac%3Aap%3Aneg%3Afi%3Atiaud-146342137030%3Akwd-139454200%3Alp9066820%3Ali%3Adec%3Adm%3Appccp%3DUmFuZG9tSVYkc2RlIyh9YZVcNNsENnH02-pWD53qm9c&sid=fc9096d21bc731377561807eebb08b70&dest_id=-2437894;dest_type=city;dist=0;group_adults=2;group_children=0;hapos=1;hpos=1;nflt=ht_id%3D204;no_rooms=1;req_adults=2;room1=A%2CA;sb_price_type=total;sr_order=popularity;srepoch=1694947268;srpvid=768c46fb585a0098;type=total;ucfs=1&#hotelTmpl\"\n",
    "\n",
    "# Send an HTTP GET request to the URL\n",
    "response = requests.get(url)\n",
    "\n",
    "# Check if the request was successful (status code 200)\n",
    "if response.status_code == 200:\n",
    "    # Parse the HTML content\n",
    "    soup = BeautifulSoup(response.text, 'html.parser')\n",
    "\n",
    "    # Find the ul element with the specified class\n",
    "    facility_ul = soup.find(\"ul\", class_=\"c807d72881 e5e0727360 e10711a42e\")\n",
    "\n",
    "    if facility_ul:\n",
    "        # Find all the list items within the ul and extract their text\n",
    "        facility_items = facility_ul.find_all(\"li\")\n",
    "\n",
    "        # Print the header\n",
    "        print(\"The amenities are:\")\n",
    "\n",
    "        # Loop through the list items and print their text\n",
    "        for item in facility_items:\n",
    "            print(item.text.strip())\n",
    "    else:\n",
    "        print(\"Facility ul not found.\")\n",
    "else:\n",
    "    print(\"Failed to retrieve the page. Status code:\", response.status_code)\n"
   ]
  },
  {
   "cell_type": "code",
   "execution_count": 48,
   "id": "34cc26c4",
   "metadata": {},
   "outputs": [
    {
     "name": "stdout",
     "output_type": "stream",
     "text": [
      "The Room types are:\n",
      "Standard Single Room\n",
      "Standard Double Room\n",
      "Deluxe Double Room\n",
      "Standard Twin Room\n"
     ]
    }
   ],
   "source": [
    "import requests\n",
    "from bs4 import BeautifulSoup\n",
    "\n",
    "# URL of the page to scrape\n",
    "url = \"https://www.booking.com/hotel/ph/airobedz-makati-makati1.en-gb.html?aid=306395&label=manila-FQAtFrQpwv6S9K4IrmV3gAS392865645013%3Apl%3Ata%3Ap1720%3Ap2%3Aac%3Aap%3Aneg%3Afi%3Atiaud-146342137030%3Akwd-139454200%3Alp9066820%3Ali%3Adec%3Adm%3Appccp%3DUmFuZG9tSVYkc2RlIyh9YZVcNNsENnH02-pWD53qm9c&sid=fc9096d21bc731377561807eebb08b70&dest_id=-2437894;dest_type=city;dist=0;group_adults=2;group_children=0;hapos=1;hpos=1;nflt=ht_id%3D204;no_rooms=1;req_adults=2;room1=A%2CA;sb_price_type=total;sr_order=popularity;srepoch=1694947268;srpvid=768c46fb585a0098;type=total;ucfs=1#hotelTmpl\"\n",
    "\n",
    "# Send an HTTP GET request to the URL\n",
    "response = requests.get(url)\n",
    "\n",
    "# Check if the request was successful (status code 200)\n",
    "if response.status_code == 200:\n",
    "    # Parse the HTML content of the page\n",
    "    soup = BeautifulSoup(response.text, 'html.parser')\n",
    "\n",
    "    # Find all the room type elements\n",
    "    room_type_elements = soup.find_all(\"a\", class_=\"a83ed08757 f88a5204c2 d1c4779e7a js-legacy-room-name b98133fb50\")\n",
    "\n",
    "    # Extract and print the room types\n",
    "    room_types = [element.find(\"span\").text for element in room_type_elements]\n",
    "\n",
    "    # Print the header\n",
    "    print(\"The Room types are:\")\n",
    "\n",
    "    for room_type in room_types:\n",
    "        print(room_type)\n",
    "else:\n",
    "    print(\"Failed to retrieve the page. Status code:\", response.status_code)\n"
   ]
  },
  {
   "cell_type": "code",
   "execution_count": 51,
   "id": "80ac3a64",
   "metadata": {
    "scrolled": true
   },
   "outputs": [
    {
     "name": "stdout",
     "output_type": "stream",
     "text": [
      "Review 1: No text found\n",
      "Review 2:\n",
      "“this place is very accomodating and nice surroundings.”\n",
      "\n",
      "Review 3:\n",
      "“I like the fact that they were very approachable and accommodating. The location was accessible. The staff were very helpful and very attentive. The room was great. The air-conditioning was good. It was a great place to rest after a tiring day.”\n",
      "\n",
      "Review 4:\n",
      "“The place is near my event location. It is clean and peaceful.”\n",
      "\n",
      "Review 5:\n",
      "“Comfortable room/bed with little kitchenette and TV.”\n",
      "\n"
     ]
    }
   ],
   "source": [
    "import requests\n",
    "from bs4 import BeautifulSoup\n",
    "\n",
    "# URL of the page to scrape\n",
    "url = \"https://www.booking.com/hotel/ph/airobedz-makati-makati1.en-gb.html?aid=306395&label=manila-FQAtFrQpwv6S9K4IrmV3gAS392865645013%3Apl%3Ata%3Ap1720%3Ap2%3Aac%3Aap%3Aneg%3Afi%3Atiaud-146342137030%3Akwd-139454200%3Alp9066820%3Ali%3Adec%3Adm%3Appccp%3DUmFuZG9tSVYkc2RlIyh9YZVcNNsENnH02-pWD53qm9c&sid=fc9096d21bc731377561807eebb08b70&dest_id=-2437894;dest_type=city;dist=0;group_adults=2;group_children=0;hapos=1;hpos=1;nflt=ht_id%3D204;no_rooms=1;req_adults=2;room1=A%2CA;sb_price_type=total;sr_order=popularity;srepoch=1694947268;srpvid=768c46fb585a0098;type=total;ucfs=1#hotelTmpl\"\n",
    "\n",
    "# Send an HTTP GET request to the URL\n",
    "response = requests.get(url)\n",
    "\n",
    "# Check if the request was successful (status code 200)\n",
    "if response.status_code == 200:\n",
    "    # Parse the HTML content of the page\n",
    "    soup = BeautifulSoup(response.text, 'html.parser')\n",
    "\n",
    "    # Find all the review elements\n",
    "    review_elements = soup.find_all(\"div\", class_=\"aca0ade214 aaf30230d9 cd2e7d62b0\")\n",
    "\n",
    "    # Print 5 review texts\n",
    "    for i, review_element in enumerate(review_elements[:5], start=1):\n",
    "        review_text_element = review_element.find(\"div\", class_=\"a53cbfa6de c688f151a2\")\n",
    "        if review_text_element:\n",
    "            review_text = review_text_element.text.strip()\n",
    "            print(f\"Review {i}:\")\n",
    "            print(review_text)\n",
    "            print()\n",
    "        else:\n",
    "            print(f\"Review {i}: No text found\")\n",
    "else:\n",
    "    print(\"Failed to retrieve the page. Status code:\", response.status_code)\n"
   ]
  },
  {
   "cell_type": "code",
   "execution_count": 1,
   "id": "79c354a2",
   "metadata": {},
   "outputs": [],
   "source": [
    "import requests\n",
    "from bs4 import BeautifulSoup\n",
    "\n",
    "# URL of the webpage\n",
    "url = \"https://www.booking.com/hotel/ph/airobedz-makati-makati1.en-gb.html?aid=306395&label=manila-FQAtFrQpwv6S9K4IrmV3gAS392865645013%3Apl%3Ata%3Ap1720%3Ap2%3Aac%3Aap%3Aneg%3Afi%3Atiaud-146342137030%3Akwd-139454200%3Alp9066820%3Ali%3Adec%3Adm%3Appccp%3DUmFuZG9tSVYkc2RlIyh9YZVcNNsENnH02-pWD53qm9c&sid=fc9096d21bc731377561807eebb08b70&dest_id=-2437894;dest_type=city;dist=0;group_adults=2;group_children=0;hapos=1;hpos=1;nflt=ht_id%3D204;no_rooms=1;req_adults=2;room1=A%2CA;sb_price_type=total;sr_order=popularity;srepoch=1694947268;srpvid=768c46fb585a0098;type=total;ucfs=1&#hotelTmpl\"\n",
    "\n",
    "# Send an HTTP GET request to the URL\n",
    "response = requests.get(url)\n",
    "\n",
    "# Check if the request was successful (status code 200)\n",
    "if response.status_code == 200:\n",
    "    # Parse the HTML content\n",
    "    soup = BeautifulSoup(response.content, 'html.parser')\n",
    "    \n",
    "    # Find the list with class \"c807d72881\" containing nearby locations\n",
    "    nearby_locations_list = soup.find(class_=\"c807d72881\")\n",
    "\n",
    "    # Check if the nearby locations list was found\n",
    "    if nearby_locations_list:\n",
    "        # Find all list items (li elements) within the nearby locations list\n",
    "        list_items = nearby_locations_list.find_all('li')\n",
    "\n",
    "        # Extract and print the text of each nearby location\n",
    "        for item in list_items:\n",
    "            location_name = item.find(class_=\"aaee4e7cd3 e7a57abb1e fb60b9836d\")\n",
    "            if location_name:\n",
    "                print(location_name.text)\n",
    "    else:\n",
    "        print(\"Nearby locations list not found on the webpage.\")\n",
    "else:\n",
    "    print(f\"Failed to retrieve the webpage. Status code: {response.status_code}\")\n"
   ]
  },
  {
   "cell_type": "markdown",
   "id": "c5ed7903",
   "metadata": {},
   "source": [
    "# 2. Ramada Encore by Wyndham Makati"
   ]
  },
  {
   "cell_type": "code",
   "execution_count": 67,
   "id": "8cf4c4c7",
   "metadata": {},
   "outputs": [
    {
     "name": "stdout",
     "output_type": "stream",
     "text": [
      "Ramada Encore by Wyndham Makati\n"
     ]
    }
   ],
   "source": [
    "import requests\n",
    "from bs4 import BeautifulSoup\n",
    "\n",
    "# Define the URL\n",
    "url = \"https://www.booking.com/hotel/ph/ramada-encore-makati.en-gb.html?aid=306395&label=manila-FQAtFrQpwv6S9K4IrmV3gAS392865645013%3Apl%3Ata%3Ap1720%3Ap2%3Aac%3Aap%3Aneg%3Afi%3Atiaud-146342137030%3Akwd-139454200%3Alp9066820%3Ali%3Adec%3Adm%3Appccp%3DUmFuZG9tSVYkc2RlIyh9YZVcNNsENnH02-pWD53qm9c&sid=fc9096d21bc731377561807eebb08b70&dest_id=-2437894;dest_type=city;dist=0;group_adults=2;group_children=0;hapos=2;hpos=2;nflt=ht_id%3D204;no_rooms=1;req_adults=2;req_children=0;room1=A%2CA;sb_price_type=total;sr_order=popularity;srepoch=1694947268;srpvid=768c46fb585a0098;type=total;ucfs=1&#hotelTmpl\"\n",
    "\n",
    "# Send an HTTP GET request to the URL\n",
    "response = requests.get(url)\n",
    "\n",
    "# Check if the request was successful (status code 200)\n",
    "if response.status_code == 200:\n",
    "    # Parse the HTML content\n",
    "    soup = BeautifulSoup(response.text, 'html.parser')\n",
    "\n",
    "    # Find the h2 element with the specified class\n",
    "    h2_element = soup.find(\"h2\", class_=\"d2fee87262 pp-header__title\")\n",
    "\n",
    "    # Extract and print the text content of the h2 element\n",
    "    if h2_element:\n",
    "        print(h2_element.text.strip())\n",
    "    else:\n",
    "        print(\"H2 element not found.\")\n",
    "else:\n",
    "    print(\"Failed to retrieve the page. Status code:\", response.status_code)\n"
   ]
  },
  {
   "cell_type": "code",
   "execution_count": 68,
   "id": "6e0bcc3d",
   "metadata": {},
   "outputs": [
    {
     "name": "stdout",
     "output_type": "stream",
     "text": [
      "The location is 9630 Kamagong Street, San Antonio Village, Makati, 1203 Manila, Philippines\n"
     ]
    }
   ],
   "source": [
    "import requests\n",
    "from bs4 import BeautifulSoup\n",
    "\n",
    "# Define the URL\n",
    "url = \"https://www.booking.com/hotel/ph/ramada-encore-makati.en-gb.html?aid=306395&label=manila-FQAtFrQpwv6S9K4IrmV3gAS392865645013%3Apl%3Ata%3Ap1720%3Ap2%3Aac%3Aap%3Aneg%3Afi%3Atiaud-146342137030%3Akwd-139454200%3Alp9066820%3Ali%3Adec%3Adm%3Appccp%3DUmFuZG9tSVYkc2RlIyh9YZVcNNsENnH02-pWD53qm9c&sid=fc9096d21bc731377561807eebb08b70&dest_id=-2437894;dest_type=city;dist=0;group_adults=2;group_children=0;hapos=2;hpos=2;nflt=ht_id%3D204;no_rooms=1;req_adults=2;req_children=0;room1=A%2CA;sb_price_type=total;sr_order=popularity;srepoch=1694947268;srpvid=768c46fb585a0098;type=total;ucfs=1&#hotelTmpl\"\n",
    "\n",
    "# Send an HTTP GET request to the URL\n",
    "response = requests.get(url)\n",
    "\n",
    "# Check if the request was successful (status code 200)\n",
    "if response.status_code == 200:\n",
    "    # Parse the HTML content\n",
    "    soup = BeautifulSoup(response.text, 'html.parser')\n",
    "\n",
    "    # Find the span element with the specified class and extract the address\n",
    "    address_element = soup.find(\"span\", class_=\"hp_address_subtitle\")\n",
    "\n",
    "    if address_element:\n",
    "        address = address_element.text.strip()\n",
    "        print(\"The location is\" ,address)\n",
    "    else:\n",
    "        print(\"Address element not found.\")\n",
    "else:\n",
    "    print(\"Failed to retrieve the page. Status code:\", response.status_code)\n"
   ]
  },
  {
   "cell_type": "code",
   "execution_count": 69,
   "id": "ae4b39e6",
   "metadata": {},
   "outputs": [
    {
     "name": "stdout",
     "output_type": "stream",
     "text": [
      "The Room types are:\n",
      "King Room\n",
      "Standard Twin Room\n",
      "Deluxe Double or Twin Room\n"
     ]
    }
   ],
   "source": [
    "import requests\n",
    "from bs4 import BeautifulSoup\n",
    "\n",
    "# URL of the page to scrape\n",
    "url = \"https://www.booking.com/hotel/ph/ramada-encore-makati.en-gb.html?aid=306395&label=manila-FQAtFrQpwv6S9K4IrmV3gAS392865645013%3Apl%3Ata%3Ap1720%3Ap2%3Aac%3Aap%3Aneg%3Afi%3Atiaud-146342137030%3Akwd-139454200%3Alp9066820%3Ali%3Adec%3Adm%3Appccp%3DUmFuZG9tSVYkc2RlIyh9YZVcNNsENnH02-pWD53qm9c&sid=fc9096d21bc731377561807eebb08b70&dest_id=-2437894;dest_type=city;dist=0;group_adults=2;group_children=0;hapos=2;hpos=2;nflt=ht_id%3D204;no_rooms=1;req_adults=2;req_children=0;room1=A%2CA;sb_price_type=total;sr_order=popularity;srepoch=1694947268;srpvid=768c46fb585a0098;type=total;ucfs=1&#hotelTmpl\"\n",
    "\n",
    "# Send an HTTP GET request to the URL\n",
    "response = requests.get(url)\n",
    "\n",
    "# Check if the request was successful (status code 200)\n",
    "if response.status_code == 200:\n",
    "    # Parse the HTML content of the page\n",
    "    soup = BeautifulSoup(response.text, 'html.parser')\n",
    "\n",
    "    # Find all the room type elements\n",
    "    room_type_elements = soup.find_all(\"a\", class_=\"a83ed08757 f88a5204c2 d1c4779e7a js-legacy-room-name b98133fb50\")\n",
    "\n",
    "    # Extract and print the room types\n",
    "    room_types = [element.find(\"span\").text for element in room_type_elements]\n",
    "\n",
    "    # Print the header\n",
    "    print(\"The Room types are:\")\n",
    "\n",
    "    for room_type in room_types:\n",
    "        print(room_type)\n",
    "else:\n",
    "    print(\"Failed to retrieve the page. Status code:\", response.status_code)\n"
   ]
  },
  {
   "cell_type": "code",
   "execution_count": 71,
   "id": "04876719",
   "metadata": {},
   "outputs": [
    {
     "name": "stdout",
     "output_type": "stream",
     "text": [
      "Review 1: No text found\n",
      "Review 2: No text found\n",
      "Review 3: No text found\n",
      "Review 4: No text found\n",
      "Review 5: No text found\n",
      "Review 6: No text found\n",
      "Review 7: No text found\n",
      "Review 8: No text found\n",
      "Review 9: No text found\n",
      "Review 10: No text found\n",
      "Review 11: No text found\n",
      "Review 12: No text found\n",
      "Review 13:\n",
      "“Check in & check out is a breeze 👌. The staff are friendly and are hospitable. There is a big supermarket about 10 minutes walk from the hotel, which is great for last minute shopping.”\n",
      "\n",
      "Review 14:\n",
      "“The staff were kind, courteous, attentive and friendly. The breakfast food was a mix of hot and cold dishes, with fruits, yogurt, tea and coffee. Tasty dishes like pancit bihon and beef menudo! WOW! WiFi speed was reasonably fast. The room was...”\n",
      "\n",
      "Review 15:\n",
      "“It was comfortable and situated a grab taxi from Manila sights and numerous shopping Malls”\n",
      "\n",
      "Review 16:\n",
      "“The room was nice and big. The beds were comfortable.”\n",
      "\n",
      "Review 17:\n",
      "“We loved the breakfast buffet. Very convenient for us being a family of five. Hot shower. Staff and services were efficient.”\n",
      "\n",
      "Review 18:\n",
      "“nicely room, comfortable, clean and a nice view on the skyline of Makati. The rooftop is amazing also and offer a correct food. The staff is very kind and helpful.”\n",
      "\n",
      "Review 19:\n",
      "“Large room, great hot shower. The breakfast was good with fresh eggs cooked your way. The staff went out of their way to make you  comfortable. The first night, I was on the 2nd fool roadside room. It was so noisy due to the lack of soundproofing...”\n",
      "\n",
      "Review 20:\n",
      "“It was a very adequate range of breakfast. Fresh omelette was briskly made to order and the quality was great.\r\n",
      "Staff were very attentive and well trained”\n",
      "\n",
      "Review 21:\n",
      "“Rooftop restaurant was great; good choice of meals and cold drinks and cool location and views. Room was comfy, beakfast was excellent.”\n",
      "\n",
      "Review 22:\n",
      "“Breakfast  good location reasonable selection First class \"eggs\" all styles a good start to the day\r\n",
      "Attitude of staff is excellent all areas”\n",
      "\n",
      "Review 23: No text found\n",
      "Review 24: No text found\n"
     ]
    }
   ],
   "source": [
    "import requests\n",
    "from bs4 import BeautifulSoup\n",
    "\n",
    "# URL of the page to scrape\n",
    "url = \"https://www.booking.com/hotel/ph/ramada-encore-makati.en-gb.html?aid=306395&label=manila-FQAtFrQpwv6S9K4IrmV3gAS392865645013%3Apl%3Ata%3Ap1720%3Ap2%3Aac%3Aap%3Aneg%3Afi%3Atiaud-146342137030%3Akwd-139454200%3Alp9066820%3Ali%3Adec%3Adm%3Appccp%3DUmFuZG9tSVYkc2RlIyh9YZVcNNsENnH02-pWD53qm9c&sid=fc9096d21bc731377561807eebb08b70&dest_id=-2437894;dest_type=city;dist=0;group_adults=2;group_children=0;hapos=2;hpos=2;nflt=ht_id%3D204;no_rooms=1;req_adults=2;req_children=0;room1=A%2CA;sb_price_type=total;sr_order=popularity;srepoch=1694947268;srpvid=768c46fb585a0098;type=total;ucfs=1&#hotelTmpl\"\n",
    "\n",
    "# Send an HTTP GET request to the URL\n",
    "response = requests.get(url)\n",
    "\n",
    "# Check if the request was successful (status code 200)\n",
    "if response.status_code == 200:\n",
    "    # Parse the HTML content of the page\n",
    "    soup = BeautifulSoup(response.text, 'html.parser')\n",
    "\n",
    "    # Find all the review elements\n",
    "    review_elements = soup.find_all(\"div\", class_=\"aca0ade214 aaf30230d9 cd2e7d62b0\")\n",
    "\n",
    "    # Print all review texts\n",
    "    for i, review_element in enumerate(review_elements, start=1):\n",
    "        review_text_element = review_element.find(\"div\", class_=\"a53cbfa6de c688f151a2\")\n",
    "        if review_text_element:\n",
    "            review_text = review_text_element.text.strip()\n",
    "            print(f\"Review {i}:\")\n",
    "            print(review_text)\n",
    "            print()\n",
    "        else:\n",
    "            print(f\"Review {i}: No text found\")\n",
    "else:\n",
    "    print(\"Failed to retrieve the page. Status code:\", response.status_code)\n"
   ]
  },
  {
   "cell_type": "markdown",
   "id": "587ed626",
   "metadata": {},
   "source": [
    "#  3. Lub d Philippines Makati"
   ]
  },
  {
   "cell_type": "code",
   "execution_count": 72,
   "id": "6d810904",
   "metadata": {},
   "outputs": [
    {
     "name": "stdout",
     "output_type": "stream",
     "text": [
      "Lub d Philippines Makati\n"
     ]
    }
   ],
   "source": [
    "import requests\n",
    "from bs4 import BeautifulSoup\n",
    "\n",
    "# Define the URL\n",
    "url = 'https://www.booking.com/hotel/ph/lub-d-makati-philippines.en-gb.html?aid=306395&label=manila-FQAtFrQpwv6S9K4IrmV3gAS392865645013%3Apl%3Ata%3Ap1720%3Ap2%3Aac%3Aap%3Aneg%3Afi%3Atiaud-146342137030%3Akwd-139454200%3Alp9066820%3Ali%3Adec%3Adm%3Appccp%3DUmFuZG9tSVYkc2RlIyh9YZVcNNsENnH02-pWD53qm9c&sid=fc9096d21bc731377561807eebb08b70&dest_id=-2437894;dest_type=city;dist=0;group_adults=2;group_children=0;hapos=3;hpos=3;nflt=ht_id%3D204;no_rooms=1;req_adults=2;req_children=0;room1=A%2CA;sb_price_type=total;sr_order=popularity;srepoch=1694947268;srpvid=768c46fb585a0098;type=total;ucfs=1&#hotelTmpl'\n",
    "\n",
    "# Send an HTTP GET request to the URL\n",
    "response = requests.get(url)\n",
    "\n",
    "# Check if the request was successful (status code 200)\n",
    "if response.status_code == 200:\n",
    "    # Parse the HTML content\n",
    "    soup = BeautifulSoup(response.text, 'html.parser')\n",
    "\n",
    "    # Find the h2 element with the specified class\n",
    "    h2_element = soup.find(\"h2\", class_=\"d2fee87262 pp-header__title\")\n",
    "\n",
    "    # Extract and print the text content of the h2 element\n",
    "    if h2_element:\n",
    "        print(h2_element.text.strip())\n",
    "    else:\n",
    "        print(\"H2 element not found.\")\n",
    "else:\n",
    "    print(\"Failed to retrieve the page. Status code:\", response.status_code)\n"
   ]
  },
  {
   "cell_type": "code",
   "execution_count": 73,
   "id": "d7df8f8e",
   "metadata": {},
   "outputs": [
    {
     "name": "stdout",
     "output_type": "stream",
     "text": [
      "The location is 7820 Makati Avenue Barangay Poblacion,, Makati, 1210 Manila, Philippines\n"
     ]
    }
   ],
   "source": [
    "import requests\n",
    "from bs4 import BeautifulSoup\n",
    "\n",
    "\n",
    "# Define the URL\n",
    "url = 'https://www.booking.com/hotel/ph/lub-d-makati-philippines.en-gb.html?aid=306395&label=manila-FQAtFrQpwv6S9K4IrmV3gAS392865645013%3Apl%3Ata%3Ap1720%3Ap2%3Aac%3Aap%3Aneg%3Afi%3Atiaud-146342137030%3Akwd-139454200%3Alp9066820%3Ali%3Adec%3Adm%3Appccp%3DUmFuZG9tSVYkc2RlIyh9YZVcNNsENnH02-pWD53qm9c&sid=fc9096d21bc731377561807eebb08b70&dest_id=-2437894;dest_type=city;dist=0;group_adults=2;group_children=0;hapos=3;hpos=3;nflt=ht_id%3D204;no_rooms=1;req_adults=2;req_children=0;room1=A%2CA;sb_price_type=total;sr_order=popularity;srepoch=1694947268;srpvid=768c46fb585a0098;type=total;ucfs=1&#hotelTmpl'\n",
    "\n",
    "# Send an HTTP GET request to the URL\n",
    "response = requests.get(url)\n",
    "\n",
    "# Check if the request was successful (status code 200)\n",
    "if response.status_code == 200:\n",
    "    # Parse the HTML content\n",
    "    soup = BeautifulSoup(response.text, 'html.parser')\n",
    "\n",
    "    # Find the span element with the specified class and extract the address\n",
    "    address_element = soup.find(\"span\", class_=\"hp_address_subtitle\")\n",
    "\n",
    "    if address_element:\n",
    "        address = address_element.text.strip()\n",
    "        print(\"The location is\" ,address)\n",
    "    else:\n",
    "        print(\"Address element not found.\")\n",
    "else:\n",
    "    print(\"Failed to retrieve the page. Status code:\", response.status_code)\n"
   ]
  },
  {
   "cell_type": "code",
   "execution_count": 74,
   "id": "0ad5e5a3",
   "metadata": {},
   "outputs": [
    {
     "name": "stdout",
     "output_type": "stream",
     "text": [
      "The Room types are:\n",
      "Single Bed in Dormitory Room\n",
      "Single Bed in Female Dormitory Room\n",
      "Deluxe Room\n",
      "Quadruple Room with Private Bathroom\n",
      "Deluxe Twin Room\n",
      "Family Room with Private Bathroom\n"
     ]
    }
   ],
   "source": [
    "import requests\n",
    "from bs4 import BeautifulSoup\n",
    "\n",
    "# URL of the page to scrape\n",
    "url = 'https://www.booking.com/hotel/ph/lub-d-makati-philippines.en-gb.html?aid=306395&label=manila-FQAtFrQpwv6S9K4IrmV3gAS392865645013%3Apl%3Ata%3Ap1720%3Ap2%3Aac%3Aap%3Aneg%3Afi%3Atiaud-146342137030%3Akwd-139454200%3Alp9066820%3Ali%3Adec%3Adm%3Appccp%3DUmFuZG9tSVYkc2RlIyh9YZVcNNsENnH02-pWD53qm9c&sid=fc9096d21bc731377561807eebb08b70&dest_id=-2437894;dest_type=city;dist=0;group_adults=2;group_children=0;hapos=3;hpos=3;nflt=ht_id%3D204;no_rooms=1;req_adults=2;req_children=0;room1=A%2CA;sb_price_type=total;sr_order=popularity;srepoch=1694947268;srpvid=768c46fb585a0098;type=total;ucfs=1&#hotelTmpl'\n",
    "\n",
    "# Send an HTTP GET request to the URL\n",
    "response = requests.get(url)\n",
    "\n",
    "# Check if the request was successful (status code 200)\n",
    "if response.status_code == 200:\n",
    "    # Parse the HTML content of the page\n",
    "    soup = BeautifulSoup(response.text, 'html.parser')\n",
    "\n",
    "    # Find all the room type elements\n",
    "    room_type_elements = soup.find_all(\"a\", class_=\"a83ed08757 f88a5204c2 d1c4779e7a js-legacy-room-name b98133fb50\")\n",
    "\n",
    "    # Extract and print the room types\n",
    "    room_types = [element.find(\"span\").text for element in room_type_elements]\n",
    "\n",
    "    # Print the header\n",
    "    print(\"The Room types are:\")\n",
    "\n",
    "    for room_type in room_types:\n",
    "        print(room_type)\n",
    "else:\n",
    "    print(\"Failed to retrieve the page. Status code:\", response.status_code)\n"
   ]
  },
  {
   "cell_type": "code",
   "execution_count": 75,
   "id": "b4d423e9",
   "metadata": {},
   "outputs": [
    {
     "name": "stdout",
     "output_type": "stream",
     "text": [
      "Review 1: No text found\n",
      "Review 2: No text found\n",
      "Review 3:\n",
      "“Closed to church . Buffet breakfast also good and staff were spectacular. Attended to our needs right away and fast service especially the security personnel were very helpful.”\n",
      "\n",
      "Review 4:\n",
      "“You feel welcome the moment you step in. A nice up class backpacker place with something for everyone. A pool table, PlayStation, chill hangout places, bar and restaurant.\r\n",
      "\r\n",
      "The rooms were very nice and I liked the bed especially. Will definitely...”\n",
      "\n",
      "Review 5:\n",
      "“Location is great with many cafès, bars, and restaurants in the vicinity. The staff is so nicee and the restaurant food is excellent! Highly recommended.”\n",
      "\n",
      "Review 6:\n",
      "“Room was clean and a good size, we knit stayed here a night while passing through Manila but would stay again if needed to. There isn’t much to do near the hotel but that might just be the area of Makati”\n",
      "\n",
      "Review 7:\n",
      "“I was staying in an 8 bed shared room and either the bed and the room themselves were amazing!\n",
      "I had breakfast and lunch at the restaurant they have at level 13 and it was really good as well.\n",
      "It was located in the city’s CBD, there were a lot of...”\n",
      "\n",
      "Review 8:\n",
      "“The restaurant had really nice food and breakfast. Staff were lovely and bedrooms were so comfy”\n",
      "\n",
      "Review 9:\n",
      "“The good location. It is near to several shopping malls.”\n",
      "\n",
      "Review 10:\n",
      "“Everything is very nice. Facility, staff, room  are all perfect.😇”\n",
      "\n",
      "Review 11:\n",
      "“Good location. Room is spacious with lockers and mirrors. Bathroom is clean. Staff are helpful.”\n",
      "\n",
      "Review 12:\n",
      "“The staffs is so helpful and accommodating. The room is clean and so inviting. We have a great and fantastic time spend and will assured that we're coming back.”\n",
      "\n",
      "Review 13: No text found\n",
      "Review 14: No text found\n"
     ]
    }
   ],
   "source": [
    "import requests\n",
    "from bs4 import BeautifulSoup\n",
    "\n",
    "# URL of the page to scrape\n",
    "url = 'https://www.booking.com/hotel/ph/lub-d-makati-philippines.en-gb.html?aid=306395&label=manila-FQAtFrQpwv6S9K4IrmV3gAS392865645013%3Apl%3Ata%3Ap1720%3Ap2%3Aac%3Aap%3Aneg%3Afi%3Atiaud-146342137030%3Akwd-139454200%3Alp9066820%3Ali%3Adec%3Adm%3Appccp%3DUmFuZG9tSVYkc2RlIyh9YZVcNNsENnH02-pWD53qm9c&sid=fc9096d21bc731377561807eebb08b70&dest_id=-2437894;dest_type=city;dist=0;group_adults=2;group_children=0;hapos=3;hpos=3;nflt=ht_id%3D204;no_rooms=1;req_adults=2;req_children=0;room1=A%2CA;sb_price_type=total;sr_order=popularity;srepoch=1694947268;srpvid=768c46fb585a0098;type=total;ucfs=1&#hotelTmpl'\n",
    "\n",
    "# Send an HTTP GET request to the URL\n",
    "response = requests.get(url)\n",
    "\n",
    "# Check if the request was successful (status code 200)\n",
    "if response.status_code == 200:\n",
    "    # Parse the HTML content of the page\n",
    "    soup = BeautifulSoup(response.text, 'html.parser')\n",
    "\n",
    "    # Find all the review elements\n",
    "    review_elements = soup.find_all(\"div\", class_=\"aca0ade214 aaf30230d9 cd2e7d62b0\")\n",
    "\n",
    "    # Print all review texts\n",
    "    for i, review_element in enumerate(review_elements, start=1):\n",
    "        review_text_element = review_element.find(\"div\", class_=\"a53cbfa6de c688f151a2\")\n",
    "        if review_text_element:\n",
    "            review_text = review_text_element.text.strip()\n",
    "            print(f\"Review {i}:\")\n",
    "            print(review_text)\n",
    "            print()\n",
    "        else:\n",
    "            print(f\"Review {i}: No text found\")\n",
    "else:\n",
    "    print(\"Failed to retrieve the page. Status code:\", response.status_code)\n"
   ]
  },
  {
   "cell_type": "markdown",
   "id": "aaa998e3",
   "metadata": {},
   "source": [
    "#  4. Manila Prince Hotel"
   ]
  },
  {
   "cell_type": "code",
   "execution_count": 76,
   "id": "d02fd98a",
   "metadata": {},
   "outputs": [
    {
     "name": "stdout",
     "output_type": "stream",
     "text": [
      "Manila Prince Hotel\n"
     ]
    }
   ],
   "source": [
    "import requests\n",
    "from bs4 import BeautifulSoup\n",
    "\n",
    "# Define the URL\n",
    "url = 'https://www.booking.com/hotel/ph/manila-prince.en-gb.html?aid=306395&label=manila-FQAtFrQpwv6S9K4IrmV3gAS392865645013%3Apl%3Ata%3Ap1720%3Ap2%3Aac%3Aap%3Aneg%3Afi%3Atiaud-146342137030%3Akwd-139454200%3Alp9066820%3Ali%3Adec%3Adm%3Appccp%3DUmFuZG9tSVYkc2RlIyh9YZVcNNsENnH02-pWD53qm9c&sid=fc9096d21bc731377561807eebb08b70&dest_id=-2437894;dest_type=city;dist=0;group_adults=2;group_children=0;hapos=5;hpos=5;nflt=ht_id%3D204;no_rooms=1;req_adults=2;req_children=0;room1=A%2CA;sb_price_type=total;sr_order=popularity;srepoch=1694947268;srpvid=768c46fb585a0098;type=total;ucfs=1&#hotelTmpl'\n",
    "\n",
    "# Send an HTTP GET request to the URL\n",
    "response = requests.get(url)\n",
    "\n",
    "# Check if the request was successful (status code 200)\n",
    "if response.status_code == 200:\n",
    "    # Parse the HTML content\n",
    "    soup = BeautifulSoup(response.text, 'html.parser')\n",
    "\n",
    "    # Find the h2 element with the specified class\n",
    "    h2_element = soup.find(\"h2\", class_=\"d2fee87262 pp-header__title\")\n",
    "\n",
    "    # Extract and print the text content of the h2 element\n",
    "    if h2_element:\n",
    "        print(h2_element.text.strip())\n",
    "    else:\n",
    "        print(\"H2 element not found.\")\n",
    "else:\n",
    "    print(\"Failed to retrieve the page. Status code:\", response.status_code)\n"
   ]
  },
  {
   "cell_type": "code",
   "execution_count": 77,
   "id": "28d242a0",
   "metadata": {},
   "outputs": [
    {
     "name": "stdout",
     "output_type": "stream",
     "text": [
      "The location is 1000 San Marcelino St. Ermita, 1000 Manila, Philippines\n"
     ]
    }
   ],
   "source": [
    "import requests\n",
    "from bs4 import BeautifulSoup\n",
    "\n",
    "\n",
    "# Define the URL\n",
    "url = 'https://www.booking.com/hotel/ph/manila-prince.en-gb.html?aid=306395&label=manila-FQAtFrQpwv6S9K4IrmV3gAS392865645013%3Apl%3Ata%3Ap1720%3Ap2%3Aac%3Aap%3Aneg%3Afi%3Atiaud-146342137030%3Akwd-139454200%3Alp9066820%3Ali%3Adec%3Adm%3Appccp%3DUmFuZG9tSVYkc2RlIyh9YZVcNNsENnH02-pWD53qm9c&sid=fc9096d21bc731377561807eebb08b70&dest_id=-2437894;dest_type=city;dist=0;group_adults=2;group_children=0;hapos=5;hpos=5;nflt=ht_id%3D204;no_rooms=1;req_adults=2;req_children=0;room1=A%2CA;sb_price_type=total;sr_order=popularity;srepoch=1694947268;srpvid=768c46fb585a0098;type=total;ucfs=1&#hotelTmpl'\n",
    "\n",
    "# Send an HTTP GET request to the URL\n",
    "response = requests.get(url)\n",
    "\n",
    "# Check if the request was successful (status code 200)\n",
    "if response.status_code == 200:\n",
    "    # Parse the HTML content\n",
    "    soup = BeautifulSoup(response.text, 'html.parser')\n",
    "\n",
    "    # Find the span element with the specified class and extract the address\n",
    "    address_element = soup.find(\"span\", class_=\"hp_address_subtitle\")\n",
    "\n",
    "    if address_element:\n",
    "        address = address_element.text.strip()\n",
    "        print(\"The location is\" ,address)\n",
    "    else:\n",
    "        print(\"Address element not found.\")\n",
    "else:\n",
    "    print(\"Failed to retrieve the page. Status code:\", response.status_code)\n"
   ]
  },
  {
   "cell_type": "code",
   "execution_count": 78,
   "id": "c2bf4312",
   "metadata": {},
   "outputs": [
    {
     "name": "stdout",
     "output_type": "stream",
     "text": [
      "The Room types are:\n",
      "Deluxe Room\n",
      "Executive Suite\n",
      "Presidential Suite\n"
     ]
    }
   ],
   "source": [
    "import requests\n",
    "from bs4 import BeautifulSoup\n",
    "\n",
    "# URL of the page to scrape\n",
    "url = 'https://www.booking.com/hotel/ph/manila-prince.en-gb.html?aid=306395&label=manila-FQAtFrQpwv6S9K4IrmV3gAS392865645013%3Apl%3Ata%3Ap1720%3Ap2%3Aac%3Aap%3Aneg%3Afi%3Atiaud-146342137030%3Akwd-139454200%3Alp9066820%3Ali%3Adec%3Adm%3Appccp%3DUmFuZG9tSVYkc2RlIyh9YZVcNNsENnH02-pWD53qm9c&sid=fc9096d21bc731377561807eebb08b70&dest_id=-2437894;dest_type=city;dist=0;group_adults=2;group_children=0;hapos=5;hpos=5;nflt=ht_id%3D204;no_rooms=1;req_adults=2;req_children=0;room1=A%2CA;sb_price_type=total;sr_order=popularity;srepoch=1694947268;srpvid=768c46fb585a0098;type=total;ucfs=1&#hotelTmpl'\n",
    "\n",
    "# Send an HTTP GET request to the URL\n",
    "response = requests.get(url)\n",
    "\n",
    "# Check if the request was successful (status code 200)\n",
    "if response.status_code == 200:\n",
    "    # Parse the HTML content of the page\n",
    "    soup = BeautifulSoup(response.text, 'html.parser')\n",
    "\n",
    "    # Find all the room type elements\n",
    "    room_type_elements = soup.find_all(\"a\", class_=\"a83ed08757 f88a5204c2 d1c4779e7a js-legacy-room-name b98133fb50\")\n",
    "\n",
    "    # Extract and print the room types\n",
    "    room_types = [element.find(\"span\").text for element in room_type_elements]\n",
    "\n",
    "    # Print the header\n",
    "    print(\"The Room types are:\")\n",
    "\n",
    "    for room_type in room_types:\n",
    "        print(room_type)\n",
    "else:\n",
    "    print(\"Failed to retrieve the page. Status code:\", response.status_code)\n"
   ]
  },
  {
   "cell_type": "code",
   "execution_count": 79,
   "id": "fa667694",
   "metadata": {},
   "outputs": [
    {
     "name": "stdout",
     "output_type": "stream",
     "text": [
      "Review 1: No text found\n",
      "Review 2:\n",
      "“Super friendly staff and comfortable beds. It's also really calm if you need to rest.”\n",
      "\n",
      "Review 3:\n",
      "“Location was great. Staff are superb. Breakfast was awesome and the swimming pool is wonderful. I like my Kungsizd bed most. It was very comfortable.There's nothing not to like un here.”\n",
      "\n",
      "Review 4:\n",
      "“Everything was done with class,breakfast was good and house keeping came right away when needed.”\n",
      "\n",
      "Review 5:\n",
      "“Love the ambience of the hotel, walking distance to the historic places, very clean rooms, amenities and pool excellent. Staff members are the real asset of the hotel, they are the best in customer service especially the bellboys.”\n",
      "\n",
      "Review 6:\n",
      "“Hotel staff are amazing, hotel is very clean, superb location! Staff were the gem in that hotel.”\n",
      "\n",
      "Review 7:\n",
      "“The staff are very accommodating and polite. I would like to commend Justin from the restaurant (breakfast time) he is very  caring to all guest. The room and hallway are very clean. The room is spacious.”\n",
      "\n",
      "Review 8:\n",
      "“Rooms are clean and nice 😄 . Worth  the money we paid”\n",
      "\n",
      "Review 9:\n",
      "“Foods for breakfast are delicious.\n",
      "Staff were helpful and accomodating.”\n",
      "\n",
      "Review 10:\n",
      "“It's in the middle of the city near Rizal Park. The rooms are large. The food was good. The staff is professional and the place is clean.”\n",
      "\n",
      "Review 11:\n",
      "“The hotel is very beautiful and spacious. Bad is huge and room is very clean. Great breakfast as well, staff helps a lot if needed”\n",
      "\n",
      "Review 12: No text found\n",
      "Review 13: No text found\n"
     ]
    }
   ],
   "source": [
    "import requests\n",
    "from bs4 import BeautifulSoup\n",
    "\n",
    "# URL of the page to scrape\n",
    "url = 'https://www.booking.com/hotel/ph/manila-prince.en-gb.html?aid=306395&label=manila-FQAtFrQpwv6S9K4IrmV3gAS392865645013%3Apl%3Ata%3Ap1720%3Ap2%3Aac%3Aap%3Aneg%3Afi%3Atiaud-146342137030%3Akwd-139454200%3Alp9066820%3Ali%3Adec%3Adm%3Appccp%3DUmFuZG9tSVYkc2RlIyh9YZVcNNsENnH02-pWD53qm9c&sid=fc9096d21bc731377561807eebb08b70&dest_id=-2437894;dest_type=city;dist=0;group_adults=2;group_children=0;hapos=5;hpos=5;nflt=ht_id%3D204;no_rooms=1;req_adults=2;req_children=0;room1=A%2CA;sb_price_type=total;sr_order=popularity;srepoch=1694947268;srpvid=768c46fb585a0098;type=total;ucfs=1&#hotelTmpl'\n",
    "\n",
    "# Send an HTTP GET request to the URL\n",
    "response = requests.get(url)\n",
    "\n",
    "# Check if the request was successful (status code 200)\n",
    "if response.status_code == 200:\n",
    "    # Parse the HTML content of the page\n",
    "    soup = BeautifulSoup(response.text, 'html.parser')\n",
    "\n",
    "    # Find all the review elements\n",
    "    review_elements = soup.find_all(\"div\", class_=\"aca0ade214 aaf30230d9 cd2e7d62b0\")\n",
    "\n",
    "    # Print all review texts\n",
    "    for i, review_element in enumerate(review_elements, start=1):\n",
    "        review_text_element = review_element.find(\"div\", class_=\"a53cbfa6de c688f151a2\")\n",
    "        if review_text_element:\n",
    "            review_text = review_text_element.text.strip()\n",
    "            print(f\"Review {i}:\")\n",
    "            print(review_text)\n",
    "            print()\n",
    "        else:\n",
    "            print(f\"Review {i}: No text found\")\n",
    "else:\n",
    "    print(\"Failed to retrieve the page. Status code:\", response.status_code)\n"
   ]
  },
  {
   "cell_type": "markdown",
   "id": "2bdd2a83",
   "metadata": {},
   "source": [
    "#  5. Hotel 101 - Manila"
   ]
  },
  {
   "cell_type": "code",
   "execution_count": 80,
   "id": "82e5d092",
   "metadata": {},
   "outputs": [
    {
     "name": "stdout",
     "output_type": "stream",
     "text": [
      "Hotel 101 - Manila\n"
     ]
    }
   ],
   "source": [
    "import requests\n",
    "from bs4 import BeautifulSoup\n",
    "\n",
    "# Define the URL\n",
    "url = 'https://www.booking.com/hotel/ph/101-manila.en-gb.html?aid=306395&label=manila-FQAtFrQpwv6S9K4IrmV3gAS392865645013%3Apl%3Ata%3Ap1720%3Ap2%3Aac%3Aap%3Aneg%3Afi%3Atiaud-146342137030%3Akwd-139454200%3Alp9066820%3Ali%3Adec%3Adm%3Appccp%3DUmFuZG9tSVYkc2RlIyh9YZVcNNsENnH02-pWD53qm9c&sid=fc9096d21bc731377561807eebb08b70&dest_id=-2437894;dest_type=city;dist=0;group_adults=2;group_children=0;hapos=6;hpos=6;nflt=ht_id%3D204;no_rooms=1;req_adults=2;req_children=0;room1=A%2CA;sb_price_type=total;sr_order=popularity;srepoch=1694947268;srpvid=768c46fb585a0098;type=total;ucfs=1&#hotelTmpl'\n",
    "\n",
    "# Send an HTTP GET request to the URL\n",
    "response = requests.get(url)\n",
    "\n",
    "# Check if the request was successful (status code 200)\n",
    "if response.status_code == 200:\n",
    "    # Parse the HTML content\n",
    "    soup = BeautifulSoup(response.text, 'html.parser')\n",
    "\n",
    "    # Find the h2 element with the specified class\n",
    "    h2_element = soup.find(\"h2\", class_=\"d2fee87262 pp-header__title\")\n",
    "\n",
    "    # Extract and print the text content of the h2 element\n",
    "    if h2_element:\n",
    "        print(h2_element.text.strip())\n",
    "    else:\n",
    "        print(\"H2 element not found.\")\n",
    "else:\n",
    "    print(\"Failed to retrieve the page. Status code:\", response.status_code)\n"
   ]
  },
  {
   "cell_type": "code",
   "execution_count": 81,
   "id": "e2c197f0",
   "metadata": {},
   "outputs": [
    {
     "name": "stdout",
     "output_type": "stream",
     "text": [
      "The location is EDSA Extension, Mall of Asia Complex, , Pasay, 1300 Manila, Philippines\n"
     ]
    }
   ],
   "source": [
    "import requests\n",
    "from bs4 import BeautifulSoup\n",
    "\n",
    "\n",
    "# Define the URL\n",
    "url = 'https://www.booking.com/hotel/ph/101-manila.en-gb.html?aid=306395&label=manila-FQAtFrQpwv6S9K4IrmV3gAS392865645013%3Apl%3Ata%3Ap1720%3Ap2%3Aac%3Aap%3Aneg%3Afi%3Atiaud-146342137030%3Akwd-139454200%3Alp9066820%3Ali%3Adec%3Adm%3Appccp%3DUmFuZG9tSVYkc2RlIyh9YZVcNNsENnH02-pWD53qm9c&sid=fc9096d21bc731377561807eebb08b70&dest_id=-2437894;dest_type=city;dist=0;group_adults=2;group_children=0;hapos=6;hpos=6;nflt=ht_id%3D204;no_rooms=1;req_adults=2;req_children=0;room1=A%2CA;sb_price_type=total;sr_order=popularity;srepoch=1694947268;srpvid=768c46fb585a0098;type=total;ucfs=1&#hotelTmpl'\n",
    "\n",
    "# Send an HTTP GET request to the URL\n",
    "response = requests.get(url)\n",
    "\n",
    "# Check if the request was successful (status code 200)\n",
    "if response.status_code == 200:\n",
    "    # Parse the HTML content\n",
    "    soup = BeautifulSoup(response.text, 'html.parser')\n",
    "\n",
    "    # Find the span element with the specified class and extract the address\n",
    "    address_element = soup.find(\"span\", class_=\"hp_address_subtitle\")\n",
    "\n",
    "    if address_element:\n",
    "        address = address_element.text.strip()\n",
    "        print(\"The location is\" ,address)\n",
    "    else:\n",
    "        print(\"Address element not found.\")\n",
    "else:\n",
    "    print(\"Failed to retrieve the page. Status code:\", response.status_code)\n"
   ]
  },
  {
   "cell_type": "code",
   "execution_count": 82,
   "id": "606d58ac",
   "metadata": {},
   "outputs": [
    {
     "name": "stdout",
     "output_type": "stream",
     "text": [
      "The Room types are:\n",
      "Double or Twin Room\n",
      "Triple Room\n"
     ]
    }
   ],
   "source": [
    "import requests\n",
    "from bs4 import BeautifulSoup\n",
    "\n",
    "# URL of the page to scrape\n",
    "url = 'https://www.booking.com/hotel/ph/101-manila.en-gb.html?aid=306395&label=manila-FQAtFrQpwv6S9K4IrmV3gAS392865645013%3Apl%3Ata%3Ap1720%3Ap2%3Aac%3Aap%3Aneg%3Afi%3Atiaud-146342137030%3Akwd-139454200%3Alp9066820%3Ali%3Adec%3Adm%3Appccp%3DUmFuZG9tSVYkc2RlIyh9YZVcNNsENnH02-pWD53qm9c&sid=fc9096d21bc731377561807eebb08b70&dest_id=-2437894;dest_type=city;dist=0;group_adults=2;group_children=0;hapos=6;hpos=6;nflt=ht_id%3D204;no_rooms=1;req_adults=2;req_children=0;room1=A%2CA;sb_price_type=total;sr_order=popularity;srepoch=1694947268;srpvid=768c46fb585a0098;type=total;ucfs=1&#hotelTmpl'\n",
    "\n",
    "# Send an HTTP GET request to the URL\n",
    "response = requests.get(url)\n",
    "\n",
    "# Check if the request was successful (status code 200)\n",
    "if response.status_code == 200:\n",
    "    # Parse the HTML content of the page\n",
    "    soup = BeautifulSoup(response.text, 'html.parser')\n",
    "\n",
    "    # Find all the room type elements\n",
    "    room_type_elements = soup.find_all(\"a\", class_=\"a83ed08757 f88a5204c2 d1c4779e7a js-legacy-room-name b98133fb50\")\n",
    "\n",
    "    # Extract and print the room types\n",
    "    room_types = [element.find(\"span\").text for element in room_type_elements]\n",
    "\n",
    "    # Print the header\n",
    "    print(\"The Room types are:\")\n",
    "\n",
    "    for room_type in room_types:\n",
    "        print(room_type)\n",
    "else:\n",
    "    print(\"Failed to retrieve the page. Status code:\", response.status_code)\n"
   ]
  },
  {
   "cell_type": "code",
   "execution_count": 83,
   "id": "2d4cb034",
   "metadata": {},
   "outputs": [
    {
     "name": "stdout",
     "output_type": "stream",
     "text": [
      "Review 1: No text found\n",
      "Review 2: No text found\n",
      "Review 3:\n",
      "“heater didn't work but eventually house maintenance fixed it. All other things worked. liked the room because it was quiet so it was easy to get rest on the comfy bed. staff were very nice too.”\n",
      "\n",
      "Review 4:\n",
      "“Its my 2nd time here. Staff are very approachable theyre always greeting and smiling.\n",
      "The bellman is very kind.\n",
      "They give all my request very quick, and the operator Jane is very sweet .\n",
      "I will surely comeback.”\n",
      "\n",
      "Review 5:\n",
      "“We found the hotel to be more than adequate for the price, staff were friendly and efficient bed was comfortable no complaints it’s not 5 star but it’s great for what it is and the price”\n",
      "\n",
      "Review 6:\n",
      "“I though the breakfast is included when i placed my online reservation but its not a big deal. The location is good very accessible and near the biggest shopping mall were I also did the early morning walk at the back of MOA😃”\n",
      "\n",
      "Review 7:\n",
      "“Room well furnished…couldnt get the hot water working on our first vist but never mentioned it…..gkad it worked fine in the second room.\r\n",
      "\r\n",
      "Breakfast was ok, bacon wasnt great but everything else was nice.”\n",
      "\n",
      "Review 8:\n",
      "“Close to malls, close airport, staff was great to assist always.”\n",
      "\n",
      "Review 9:\n",
      "“I like the location it's near MOA and Airport. The staff are very accomodating. On our 2nd day I requested a transfer to a new room since our room is on the 3rd floor and beside the busy street. I can hear all the noise outside. So, they gave us ...”\n",
      "\n",
      "Review 10:\n",
      "“we stayed this hotel for the FIBA World Cup 2023. \r\n",
      "good :\r\n",
      "walking distance to the venue, Mall of Asia Arena,  \r\n",
      "lots of restaurants, cafes, taking out places in the nearby area,\r\n",
      "7-11 store on the ground floor, \r\n",
      "easy access to LRT and MRT...”\n",
      "\n",
      "Review 11:\n",
      "“The location is conveient from Manila Airport and it is very near MOA.\r\n",
      "My wife and kids like the room where they stayed.”\n",
      "\n",
      "Review 12:\n",
      "“Good space to stay. Will come back once in the city again”\n",
      "\n",
      "Review 13: No text found\n",
      "Review 14: No text found\n"
     ]
    }
   ],
   "source": [
    "import requests\n",
    "from bs4 import BeautifulSoup\n",
    "\n",
    "# URL of the page to scrape\n",
    "url = 'https://www.booking.com/hotel/ph/101-manila.en-gb.html?aid=306395&label=manila-FQAtFrQpwv6S9K4IrmV3gAS392865645013%3Apl%3Ata%3Ap1720%3Ap2%3Aac%3Aap%3Aneg%3Afi%3Atiaud-146342137030%3Akwd-139454200%3Alp9066820%3Ali%3Adec%3Adm%3Appccp%3DUmFuZG9tSVYkc2RlIyh9YZVcNNsENnH02-pWD53qm9c&sid=fc9096d21bc731377561807eebb08b70&dest_id=-2437894;dest_type=city;dist=0;group_adults=2;group_children=0;hapos=6;hpos=6;nflt=ht_id%3D204;no_rooms=1;req_adults=2;req_children=0;room1=A%2CA;sb_price_type=total;sr_order=popularity;srepoch=1694947268;srpvid=768c46fb585a0098;type=total;ucfs=1&#hotelTmpl'\n",
    "\n",
    "# Send an HTTP GET request to the URL\n",
    "response = requests.get(url)\n",
    "\n",
    "# Check if the request was successful (status code 200)\n",
    "if response.status_code == 200:\n",
    "    # Parse the HTML content of the page\n",
    "    soup = BeautifulSoup(response.text, 'html.parser')\n",
    "\n",
    "    # Find all the review elements\n",
    "    review_elements = soup.find_all(\"div\", class_=\"aca0ade214 aaf30230d9 cd2e7d62b0\")\n",
    "\n",
    "    # Print all review texts\n",
    "    for i, review_element in enumerate(review_elements, start=1):\n",
    "        review_text_element = review_element.find(\"div\", class_=\"a53cbfa6de c688f151a2\")\n",
    "        if review_text_element:\n",
    "            review_text = review_text_element.text.strip()\n",
    "            print(f\"Review {i}:\")\n",
    "            print(review_text)\n",
    "            print()\n",
    "        else:\n",
    "            print(f\"Review {i}: No text found\")\n",
    "else:\n",
    "    print(\"Failed to retrieve the page. Status code:\", response.status_code)\n"
   ]
  },
  {
   "cell_type": "markdown",
   "id": "a2699e42",
   "metadata": {},
   "source": [
    "#  6. Airo Hotel Manila"
   ]
  },
  {
   "cell_type": "code",
   "execution_count": 84,
   "id": "10f2e3bd",
   "metadata": {},
   "outputs": [
    {
     "name": "stdout",
     "output_type": "stream",
     "text": [
      "Airo Hotel Manila\n"
     ]
    }
   ],
   "source": [
    "import requests\n",
    "from bs4 import BeautifulSoup\n",
    "\n",
    "# Define the URL\n",
    "url = 'https://www.booking.com/hotel/ph/airo.en-gb.html?aid=306395&label=manila-FQAtFrQpwv6S9K4IrmV3gAS392865645013%3Apl%3Ata%3Ap1720%3Ap2%3Aac%3Aap%3Aneg%3Afi%3Atiaud-146342137030%3Akwd-139454200%3Alp9066820%3Ali%3Adec%3Adm%3Appccp%3DUmFuZG9tSVYkc2RlIyh9YZVcNNsENnH02-pWD53qm9c&sid=fc9096d21bc731377561807eebb08b70&dest_id=-2437894;dest_type=city;dist=0;group_adults=2;group_children=0;hapos=7;hpos=7;nflt=ht_id%3D204;no_rooms=1;req_adults=2;req_children=0;room1=A%2CA;sb_price_type=total;sr_order=popularity;srepoch=1694947268;srpvid=768c46fb585a0098;type=total;ucfs=1&#hotelTmpl'\n",
    "\n",
    "# Send an HTTP GET request to the URL\n",
    "\n",
    "response = requests.get(url)\n",
    "\n",
    "# Check if the request was successful (status code 200)\n",
    "if response.status_code == 200:\n",
    "    # Parse the HTML content\n",
    "    soup = BeautifulSoup(response.text, 'html.parser')\n",
    "\n",
    "    # Find the h2 element with the specified class\n",
    "    h2_element = soup.find(\"h2\", class_=\"d2fee87262 pp-header__title\")\n",
    "\n",
    "    # Extract and print the text content of the h2 element\n",
    "    if h2_element:\n",
    "        print(h2_element.text.strip())\n",
    "    else:\n",
    "        print(\"H2 element not found.\")\n",
    "else:\n",
    "    print(\"Failed to retrieve the page. Status code:\", response.status_code)\n"
   ]
  },
  {
   "cell_type": "code",
   "execution_count": 85,
   "id": "ee4ee377",
   "metadata": {},
   "outputs": [
    {
     "name": "stdout",
     "output_type": "stream",
     "text": [
      "The location is A. Flores, 1000 Manila, Philippines\n"
     ]
    }
   ],
   "source": [
    "import requests\n",
    "from bs4 import BeautifulSoup\n",
    "\n",
    "\n",
    "# Define the URL\n",
    "url = 'https://www.booking.com/hotel/ph/airo.en-gb.html?aid=306395&label=manila-FQAtFrQpwv6S9K4IrmV3gAS392865645013%3Apl%3Ata%3Ap1720%3Ap2%3Aac%3Aap%3Aneg%3Afi%3Atiaud-146342137030%3Akwd-139454200%3Alp9066820%3Ali%3Adec%3Adm%3Appccp%3DUmFuZG9tSVYkc2RlIyh9YZVcNNsENnH02-pWD53qm9c&sid=fc9096d21bc731377561807eebb08b70&dest_id=-2437894;dest_type=city;dist=0;group_adults=2;group_children=0;hapos=7;hpos=7;nflt=ht_id%3D204;no_rooms=1;req_adults=2;req_children=0;room1=A%2CA;sb_price_type=total;sr_order=popularity;srepoch=1694947268;srpvid=768c46fb585a0098;type=total;ucfs=1&#hotelTmpl'\n",
    "\n",
    "# Send an HTTP GET request to the URL\n",
    "response = requests.get(url)\n",
    "\n",
    "# Check if the request was successful (status code 200)\n",
    "if response.status_code == 200:\n",
    "    # Parse the HTML content\n",
    "    soup = BeautifulSoup(response.text, 'html.parser')\n",
    "\n",
    "    # Find the span element with the specified class and extract the address\n",
    "    address_element = soup.find(\"span\", class_=\"hp_address_subtitle\")\n",
    "\n",
    "    if address_element:\n",
    "        address = address_element.text.strip()\n",
    "        print(\"The location is\" ,address)\n",
    "    else:\n",
    "        print(\"Address element not found.\")\n",
    "else:\n",
    "    print(\"Failed to retrieve the page. Status code:\", response.status_code)\n"
   ]
  },
  {
   "cell_type": "code",
   "execution_count": 86,
   "id": "7739266b",
   "metadata": {},
   "outputs": [
    {
     "name": "stdout",
     "output_type": "stream",
     "text": [
      "The Room types are:\n",
      "Standard Single Room\n",
      "Standard Double Room\n",
      "Deluxe Twin Room\n",
      "Deluxe Double Room\n"
     ]
    }
   ],
   "source": [
    "import requests\n",
    "from bs4 import BeautifulSoup\n",
    "\n",
    "# URL of the page to scrape\n",
    "url = 'https://www.booking.com/hotel/ph/airo.en-gb.html?aid=306395&label=manila-FQAtFrQpwv6S9K4IrmV3gAS392865645013%3Apl%3Ata%3Ap1720%3Ap2%3Aac%3Aap%3Aneg%3Afi%3Atiaud-146342137030%3Akwd-139454200%3Alp9066820%3Ali%3Adec%3Adm%3Appccp%3DUmFuZG9tSVYkc2RlIyh9YZVcNNsENnH02-pWD53qm9c&sid=fc9096d21bc731377561807eebb08b70&dest_id=-2437894;dest_type=city;dist=0;group_adults=2;group_children=0;hapos=7;hpos=7;nflt=ht_id%3D204;no_rooms=1;req_adults=2;req_children=0;room1=A%2CA;sb_price_type=total;sr_order=popularity;srepoch=1694947268;srpvid=768c46fb585a0098;type=total;ucfs=1&#hotelTmpl'\n",
    "\n",
    "# Send an HTTP GET request to the URL\n",
    "response = requests.get(url)\n",
    "\n",
    "# Check if the request was successful (status code 200)\n",
    "if response.status_code == 200:\n",
    "    # Parse the HTML content of the page\n",
    "    soup = BeautifulSoup(response.text, 'html.parser')\n",
    "\n",
    "    # Find all the room type elements\n",
    "    room_type_elements = soup.find_all(\"a\", class_=\"a83ed08757 f88a5204c2 d1c4779e7a js-legacy-room-name b98133fb50\")\n",
    "\n",
    "    # Extract and print the room types\n",
    "    room_types = [element.find(\"span\").text for element in room_type_elements]\n",
    "\n",
    "    # Print the header\n",
    "    print(\"The Room types are:\")\n",
    "\n",
    "    for room_type in room_types:\n",
    "        print(room_type)\n",
    "else:\n",
    "    print(\"Failed to retrieve the page. Status code:\", response.status_code)\n"
   ]
  },
  {
   "cell_type": "code",
   "execution_count": 87,
   "id": "4a51700e",
   "metadata": {},
   "outputs": [
    {
     "name": "stdout",
     "output_type": "stream",
     "text": [
      "Review 1: No text found\n",
      "Review 2:\n",
      "“Location is walking distance to the US Embassy. It was clean, staff was very accommodating and helpful, the room was 20sqm which was a really decent size for me, they also had basic toiletries and clean towels. With the amount that I paid, it was...”\n",
      "\n",
      "Review 3:\n",
      "“I like everything. I would try to come back again.”\n",
      "\n",
      "Review 4:\n",
      "“The room was clean and big. Location is very good, close to the old part of Manila. The price was very good. It is possible to have a very nice breakfast at a nearby location.”\n",
      "\n",
      "Review 5:\n",
      "“Booked this hotel during our Medical exam at St Lukes Ext, it was just a five minute walk from the hotel.  \n",
      "We also stayed again here during our interview at USEM which is also just few minutes walk from the hotel.”\n",
      "\n",
      "Review 6:\n",
      "“Room is not that big but given to location its ok.”\n",
      "\n",
      "Review 7:\n",
      "“Super convenient because it's just beside a 7/11!”\n",
      "\n",
      "Review 8:\n",
      "“We love the comfort of the room and aircon is very cold. Area also accessible to different restaurants/fastfood chain.”\n",
      "\n",
      "Review 9:\n",
      "“I like the bathroom especially the hot and cold shower. 5points for the bathroom”\n",
      "\n",
      "Review 10:\n",
      "“The room was fine: comfortable bed, hot running water, working AC. \n",
      "But the best part of my stay was staff! Guys were really helpful and found time to manage my problems that didn’t concern my stay at the hotel. thank you!\n",
      "Not far from airport...”\n",
      "\n",
      "Review 11:\n",
      "“Staff was very accommodating. Very polite and professional. 👍👍👍👍.. room was clean..”\n",
      "\n",
      "Review 12: No text found\n",
      "Review 13: No text found\n"
     ]
    }
   ],
   "source": [
    "import requests\n",
    "from bs4 import BeautifulSoup\n",
    "\n",
    "# URL of the page to scrape\n",
    "url = 'https://www.booking.com/hotel/ph/airo.en-gb.html?aid=306395&label=manila-FQAtFrQpwv6S9K4IrmV3gAS392865645013%3Apl%3Ata%3Ap1720%3Ap2%3Aac%3Aap%3Aneg%3Afi%3Atiaud-146342137030%3Akwd-139454200%3Alp9066820%3Ali%3Adec%3Adm%3Appccp%3DUmFuZG9tSVYkc2RlIyh9YZVcNNsENnH02-pWD53qm9c&sid=fc9096d21bc731377561807eebb08b70&dest_id=-2437894;dest_type=city;dist=0;group_adults=2;group_children=0;hapos=7;hpos=7;nflt=ht_id%3D204;no_rooms=1;req_adults=2;req_children=0;room1=A%2CA;sb_price_type=total;sr_order=popularity;srepoch=1694947268;srpvid=768c46fb585a0098;type=total;ucfs=1&#hotelTmpl'\n",
    "\n",
    "# Send an HTTP GET request to the URL\n",
    "response = requests.get(url)\n",
    "\n",
    "# Check if the request was successful (status code 200)\n",
    "if response.status_code == 200:\n",
    "    # Parse the HTML content of the page\n",
    "    soup = BeautifulSoup(response.text, 'html.parser')\n",
    "\n",
    "    # Find all the review elements\n",
    "    review_elements = soup.find_all(\"div\", class_=\"aca0ade214 aaf30230d9 cd2e7d62b0\")\n",
    "\n",
    "    # Print all review texts\n",
    "    for i, review_element in enumerate(review_elements, start=1):\n",
    "        review_text_element = review_element.find(\"div\", class_=\"a53cbfa6de c688f151a2\")\n",
    "        if review_text_element:\n",
    "            review_text = review_text_element.text.strip()\n",
    "            print(f\"Review {i}:\")\n",
    "            print(review_text)\n",
    "            print()\n",
    "        else:\n",
    "            print(f\"Review {i}: No text found\")\n",
    "else:\n",
    "    print(\"Failed to retrieve the page. Status code:\", response.status_code)\n"
   ]
  },
  {
   "cell_type": "markdown",
   "id": "aaa7468e",
   "metadata": {},
   "source": [
    "#  7. The Mini Suites Eton Tower Makati"
   ]
  },
  {
   "cell_type": "code",
   "execution_count": 88,
   "id": "3cbb584b",
   "metadata": {},
   "outputs": [
    {
     "name": "stdout",
     "output_type": "stream",
     "text": [
      "The Mini Suites Eton Tower Makati\n"
     ]
    }
   ],
   "source": [
    "import requests\n",
    "from bs4 import BeautifulSoup\n",
    "\n",
    "# Define the URL\n",
    "url = 'https://www.booking.com/hotel/ph/the-mini-suites-eton-tower-makati.en-gb.html?aid=306395&label=manila-FQAtFrQpwv6S9K4IrmV3gAS392865645013%3Apl%3Ata%3Ap1720%3Ap2%3Aac%3Aap%3Aneg%3Afi%3Atiaud-146342137030%3Akwd-139454200%3Alp9066820%3Ali%3Adec%3Adm%3Appccp%3DUmFuZG9tSVYkc2RlIyh9YZVcNNsENnH02-pWD53qm9c&sid=fc9096d21bc731377561807eebb08b70&dest_id=-2437894;dest_type=city;dist=0;group_adults=2;group_children=0;hapos=8;hpos=8;nflt=ht_id%3D204;no_rooms=1;req_adults=2;req_children=0;room1=A%2CA;sb_price_type=total;sr_order=popularity;srepoch=1694947268;srpvid=768c46fb585a0098;type=total;ucfs=1&#hotelTmpl'\n",
    "\n",
    "# Send an HTTP GET request to the URL\n",
    "\n",
    "response = requests.get(url)\n",
    "\n",
    "# Check if the request was successful (status code 200)\n",
    "if response.status_code == 200:\n",
    "    # Parse the HTML content\n",
    "    soup = BeautifulSoup(response.text, 'html.parser')\n",
    "\n",
    "    # Find the h2 element with the specified class\n",
    "    h2_element = soup.find(\"h2\", class_=\"d2fee87262 pp-header__title\")\n",
    "\n",
    "    # Extract and print the text content of the h2 element\n",
    "    if h2_element:\n",
    "        print(h2_element.text.strip())\n",
    "    else:\n",
    "        print(\"H2 element not found.\")\n",
    "else:\n",
    "    print(\"Failed to retrieve the page. Status code:\", response.status_code)\n"
   ]
  },
  {
   "cell_type": "code",
   "execution_count": 89,
   "id": "1f34a9d2",
   "metadata": {},
   "outputs": [
    {
     "name": "stdout",
     "output_type": "stream",
     "text": [
      "The location is 128 Dela Rosa St., Ayala South , Makati, 1229 Manila, Philippines\n"
     ]
    }
   ],
   "source": [
    "import requests\n",
    "from bs4 import BeautifulSoup\n",
    "\n",
    "\n",
    "# Define the URL\n",
    "url = 'https://www.booking.com/hotel/ph/the-mini-suites-eton-tower-makati.en-gb.html?aid=306395&label=manila-FQAtFrQpwv6S9K4IrmV3gAS392865645013%3Apl%3Ata%3Ap1720%3Ap2%3Aac%3Aap%3Aneg%3Afi%3Atiaud-146342137030%3Akwd-139454200%3Alp9066820%3Ali%3Adec%3Adm%3Appccp%3DUmFuZG9tSVYkc2RlIyh9YZVcNNsENnH02-pWD53qm9c&sid=fc9096d21bc731377561807eebb08b70&dest_id=-2437894;dest_type=city;dist=0;group_adults=2;group_children=0;hapos=8;hpos=8;nflt=ht_id%3D204;no_rooms=1;req_adults=2;req_children=0;room1=A%2CA;sb_price_type=total;sr_order=popularity;srepoch=1694947268;srpvid=768c46fb585a0098;type=total;ucfs=1&#hotelTmpl'\n",
    "\n",
    "# Send an HTTP GET request to the URL\n",
    "response = requests.get(url)\n",
    "\n",
    "# Check if the request was successful (status code 200)\n",
    "if response.status_code == 200:\n",
    "    # Parse the HTML content\n",
    "    soup = BeautifulSoup(response.text, 'html.parser')\n",
    "\n",
    "    # Find the span element with the specified class and extract the address\n",
    "    address_element = soup.find(\"span\", class_=\"hp_address_subtitle\")\n",
    "\n",
    "    if address_element:\n",
    "        address = address_element.text.strip()\n",
    "        print(\"The location is\" ,address)\n",
    "    else:\n",
    "        print(\"Address element not found.\")\n",
    "else:\n",
    "    print(\"Failed to retrieve the page. Status code:\", response.status_code)\n"
   ]
  },
  {
   "cell_type": "code",
   "execution_count": 90,
   "id": "ad3c8305",
   "metadata": {},
   "outputs": [
    {
     "name": "stdout",
     "output_type": "stream",
     "text": [
      "The Room types are:\n",
      "Mini Single Room\n",
      "Mini Double Room\n",
      "Smart Luxe Room\n",
      "Smart Plus Room\n"
     ]
    }
   ],
   "source": [
    "import requests\n",
    "from bs4 import BeautifulSoup\n",
    "\n",
    "# URL of the page to scrape\n",
    "url = 'https://www.booking.com/hotel/ph/the-mini-suites-eton-tower-makati.en-gb.html?aid=306395&label=manila-FQAtFrQpwv6S9K4IrmV3gAS392865645013%3Apl%3Ata%3Ap1720%3Ap2%3Aac%3Aap%3Aneg%3Afi%3Atiaud-146342137030%3Akwd-139454200%3Alp9066820%3Ali%3Adec%3Adm%3Appccp%3DUmFuZG9tSVYkc2RlIyh9YZVcNNsENnH02-pWD53qm9c&sid=fc9096d21bc731377561807eebb08b70&dest_id=-2437894;dest_type=city;dist=0;group_adults=2;group_children=0;hapos=8;hpos=8;nflt=ht_id%3D204;no_rooms=1;req_adults=2;req_children=0;room1=A%2CA;sb_price_type=total;sr_order=popularity;srepoch=1694947268;srpvid=768c46fb585a0098;type=total;ucfs=1&#hotelTmpl'\n",
    "\n",
    "# Send an HTTP GET request to the URL\n",
    "response = requests.get(url)\n",
    "\n",
    "# Check if the request was successful (status code 200)\n",
    "if response.status_code == 200:\n",
    "    # Parse the HTML content of the page\n",
    "    soup = BeautifulSoup(response.text, 'html.parser')\n",
    "\n",
    "    # Find all the room type elements\n",
    "    room_type_elements = soup.find_all(\"a\", class_=\"a83ed08757 f88a5204c2 d1c4779e7a js-legacy-room-name b98133fb50\")\n",
    "\n",
    "    # Extract and print the room types\n",
    "    room_types = [element.find(\"span\").text for element in room_type_elements]\n",
    "\n",
    "    # Print the header\n",
    "    print(\"The Room types are:\")\n",
    "\n",
    "    for room_type in room_types:\n",
    "        print(room_type)\n",
    "else:\n",
    "    print(\"Failed to retrieve the page. Status code:\", response.status_code)\n"
   ]
  },
  {
   "cell_type": "code",
   "execution_count": 92,
   "id": "03484fda",
   "metadata": {},
   "outputs": [
    {
     "name": "stdout",
     "output_type": "stream",
     "text": [
      "Review 1: No text found\n",
      "Review 2: No text found\n",
      "Review 3: No text found\n"
     ]
    }
   ],
   "source": [
    "import requests\n",
    "from bs4 import BeautifulSoup\n",
    "\n",
    "# URL of the page to scrape\n",
    "url = 'https://www.booking.com/hotel/ph/the-mini-suites-eton-tower-makati.en-gb.html?aid=306395&label=manila-FQAtFrQpwv6S9K4IrmV3gAS392865645013%3Apl%3Ata%3Ap1720%3Ap2%3Aac%3Aap%3Aneg%3Afi%3Atiaud-146342137030%3Akwd-139454200%3Alp9066820%3Ali%3Adec%3Adm%3Appccp%3DUmFuZG9tSVYkc2RlIyh9YZVcNNsENnH02-pWD53qm9c&sid=fc9096d21bc731377561807eebb08b70&dest_id=-2437894;dest_type=city;dist=0;group_adults=2;group_children=0;hapos=8;hpos=8;nflt=ht_id%3D204;no_rooms=1;req_adults=2;req_children=0;room1=A%2CA;sb_price_type=total;sr_order=popularity;srepoch=1694947268;srpvid=768c46fb585a0098;type=total;ucfs=1&#hotelTmpl'\n",
    "\n",
    "# Send an HTTP GET request to the URL\n",
    "response = requests.get(url)\n",
    "\n",
    "# Check if the request was successful (status code 200)\n",
    "if response.status_code == 200:\n",
    "    # Parse the HTML content of the page\n",
    "    soup = BeautifulSoup(response.text, 'html.parser')\n",
    "\n",
    "    # Find all the review elements\n",
    "    review_elements = soup.find_all(\"div\", class_=\"aca0ade214 aaf30230d9 cd2e7d62b0\")\n",
    "\n",
    "    # Print all review texts\n",
    "    for i, review_element in enumerate(review_elements, start=1):\n",
    "        review_text_element = review_element.find(\"div\", class_=\"a53cbfa6de c688f151a2\")\n",
    "        if review_text_element:\n",
    "            review_text = review_text_element.text.strip()\n",
    "            print(f\"Review {i}:\")\n",
    "            print(review_text)\n",
    "            print()\n",
    "        else:\n",
    "            print(f\"Review {i}: No text found\")\n",
    "else:\n",
    "    print(\"Failed to retrieve the page. Status code:\", response.status_code)\n"
   ]
  },
  {
   "cell_type": "code",
   "execution_count": 93,
   "id": "fdffcfc4",
   "metadata": {},
   "outputs": [
    {
     "name": "stdout",
     "output_type": "stream",
     "text": [
      "The amenities are:\n",
      "Outdoor swimming pool\n",
      "Free WiFi\n",
      "Airport shuttle\n",
      "Free parking\n",
      "Family rooms\n",
      "Fitness centre\n",
      "Non-smoking rooms\n",
      "24-hour front desk\n",
      "Facilities for disabled guests\n",
      "Laundry\n"
     ]
    }
   ],
   "source": [
    "import requests\n",
    "from bs4 import BeautifulSoup\n",
    "\n",
    "# Define the URL\n",
    "url = 'https://www.booking.com/hotel/ph/the-mini-suites-eton-tower-makati.en-gb.html?aid=306395&label=manila-FQAtFrQpwv6S9K4IrmV3gAS392865645013%3Apl%3Ata%3Ap1720%3Ap2%3Aac%3Aap%3Aneg%3Afi%3Atiaud-146342137030%3Akwd-139454200%3Alp9066820%3Ali%3Adec%3Adm%3Appccp%3DUmFuZG9tSVYkc2RlIyh9YZVcNNsENnH02-pWD53qm9c&sid=fc9096d21bc731377561807eebb08b70&dest_id=-2437894;dest_type=city;dist=0;group_adults=2;group_children=0;hapos=8;hpos=8;nflt=ht_id%3D204;no_rooms=1;req_adults=2;req_children=0;room1=A%2CA;sb_price_type=total;sr_order=popularity;srepoch=1694947268;srpvid=768c46fb585a0098;type=total;ucfs=1&#hotelTmpl'\n",
    "\n",
    "# Send an HTTP GET request to the URL\n",
    "response = requests.get(url)\n",
    "\n",
    "# Check if the request was successful (status code 200)\n",
    "if response.status_code == 200:\n",
    "    # Parse the HTML content\n",
    "    soup = BeautifulSoup(response.text, 'html.parser')\n",
    "\n",
    "    # Find the ul element with the specified class\n",
    "    facility_ul = soup.find(\"ul\", class_=\"c807d72881 e5e0727360 e10711a42e\")\n",
    "\n",
    "    if facility_ul:\n",
    "        # Find all the list items within the ul and extract their text\n",
    "        facility_items = facility_ul.find_all(\"li\")\n",
    "\n",
    "        # Print the header\n",
    "        print(\"The amenities are:\")\n",
    "\n",
    "        # Loop through the list items and print their text\n",
    "        for item in facility_items:\n",
    "            print(item.text.strip())\n",
    "    else:\n",
    "        print(\"Facility ul not found.\")\n",
    "else:\n",
    "    print(\"Failed to retrieve the page. Status code:\", response.status_code)\n"
   ]
  },
  {
   "cell_type": "markdown",
   "id": "91d217e4",
   "metadata": {},
   "source": [
    "# 8. Inn De Avenida, Makati"
   ]
  },
  {
   "cell_type": "code",
   "execution_count": 94,
   "id": "270a9df4",
   "metadata": {},
   "outputs": [
    {
     "name": "stdout",
     "output_type": "stream",
     "text": [
      "Inn De Avenida, Makati\n"
     ]
    }
   ],
   "source": [
    "import requests\n",
    "from bs4 import BeautifulSoup\n",
    "\n",
    "# Define the URL\n",
    "url = 'https://www.booking.com/hotel/ph/hometown-makati-edsa.en-gb.html?aid=306395&label=manila-FQAtFrQpwv6S9K4IrmV3gAS392865645013%3Apl%3Ata%3Ap1720%3Ap2%3Aac%3Aap%3Aneg%3Afi%3Atiaud-146342137030%3Akwd-139454200%3Alp9066820%3Ali%3Adec%3Adm%3Appccp%3DUmFuZG9tSVYkc2RlIyh9YZVcNNsENnH02-pWD53qm9c&sid=fc9096d21bc731377561807eebb08b70&dest_id=-2437894;dest_type=city;dist=0;group_adults=2;group_children=0;hapos=9;hpos=9;nflt=ht_id%3D204;no_rooms=1;req_adults=2;req_children=0;room1=A%2CA;sb_price_type=total;sr_order=popularity;srepoch=1694947268;srpvid=768c46fb585a0098;type=total;ucfs=1&#hotelTmpl'\n",
    "\n",
    "# Send an HTTP GET request to the URL\n",
    "\n",
    "response = requests.get(url)\n",
    "\n",
    "# Check if the request was successful (status code 200)\n",
    "if response.status_code == 200:\n",
    "    # Parse the HTML content\n",
    "    soup = BeautifulSoup(response.text, 'html.parser')\n",
    "\n",
    "    # Find the h2 element with the specified class\n",
    "    h2_element = soup.find(\"h2\", class_=\"d2fee87262 pp-header__title\")\n",
    "\n",
    "    # Extract and print the text content of the h2 element\n",
    "    if h2_element:\n",
    "        print(h2_element.text.strip())\n",
    "    else:\n",
    "        print(\"H2 element not found.\")\n",
    "else:\n",
    "    print(\"Failed to retrieve the page. Status code:\", response.status_code)\n"
   ]
  },
  {
   "cell_type": "code",
   "execution_count": 95,
   "id": "a2fa2509",
   "metadata": {},
   "outputs": [
    {
     "name": "stdout",
     "output_type": "stream",
     "text": [
      "The location is 57 EDSA, Makati, Makati, 1233 Manila, Philippines\n"
     ]
    }
   ],
   "source": [
    "import requests\n",
    "from bs4 import BeautifulSoup\n",
    "\n",
    "\n",
    "# Define the URL\n",
    "url = 'https://www.booking.com/hotel/ph/hometown-makati-edsa.en-gb.html?aid=306395&label=manila-FQAtFrQpwv6S9K4IrmV3gAS392865645013%3Apl%3Ata%3Ap1720%3Ap2%3Aac%3Aap%3Aneg%3Afi%3Atiaud-146342137030%3Akwd-139454200%3Alp9066820%3Ali%3Adec%3Adm%3Appccp%3DUmFuZG9tSVYkc2RlIyh9YZVcNNsENnH02-pWD53qm9c&sid=fc9096d21bc731377561807eebb08b70&dest_id=-2437894;dest_type=city;dist=0;group_adults=2;group_children=0;hapos=9;hpos=9;nflt=ht_id%3D204;no_rooms=1;req_adults=2;req_children=0;room1=A%2CA;sb_price_type=total;sr_order=popularity;srepoch=1694947268;srpvid=768c46fb585a0098;type=total;ucfs=1&#hotelTmpl'\n",
    "\n",
    "# Send an HTTP GET request to the URL\n",
    "response = requests.get(url)\n",
    "\n",
    "# Check if the request was successful (status code 200)\n",
    "if response.status_code == 200:\n",
    "    # Parse the HTML content\n",
    "    soup = BeautifulSoup(response.text, 'html.parser')\n",
    "\n",
    "    # Find the span element with the specified class and extract the address\n",
    "    address_element = soup.find(\"span\", class_=\"hp_address_subtitle\")\n",
    "\n",
    "    if address_element:\n",
    "        address = address_element.text.strip()\n",
    "        print(\"The location is\" ,address)\n",
    "    else:\n",
    "        print(\"Address element not found.\")\n",
    "else:\n",
    "    print(\"Failed to retrieve the page. Status code:\", response.status_code)\n"
   ]
  },
  {
   "cell_type": "code",
   "execution_count": 97,
   "id": "66429df6",
   "metadata": {},
   "outputs": [
    {
     "name": "stdout",
     "output_type": "stream",
     "text": [
      "The Room types are:\n",
      "Double Room\n",
      "Single Room\n",
      "Twin Room\n",
      "Family Room\n"
     ]
    }
   ],
   "source": [
    "import requests\n",
    "from bs4 import BeautifulSoup\n",
    "\n",
    "# URL of the page to scrape\n",
    "url = 'https://www.booking.com/hotel/ph/hometown-makati-edsa.en-gb.html?aid=306395&label=manila-FQAtFrQpwv6S9K4IrmV3gAS392865645013%3Apl%3Ata%3Ap1720%3Ap2%3Aac%3Aap%3Aneg%3Afi%3Atiaud-146342137030%3Akwd-139454200%3Alp9066820%3Ali%3Adec%3Adm%3Appccp%3DUmFuZG9tSVYkc2RlIyh9YZVcNNsENnH02-pWD53qm9c&sid=fc9096d21bc731377561807eebb08b70&dest_id=-2437894;dest_type=city;dist=0;group_adults=2;group_children=0;hapos=9;hpos=9;nflt=ht_id%3D204;no_rooms=1;req_adults=2;req_children=0;room1=A%2CA;sb_price_type=total;sr_order=popularity;srepoch=1694947268;srpvid=768c46fb585a0098;type=total;ucfs=1&#hotelTmpl'\n",
    "\n",
    "# Send an HTTP GET request to the URL\n",
    "response = requests.get(url)\n",
    "\n",
    "# Check if the request was successful (status code 200)\n",
    "if response.status_code == 200:\n",
    "    # Parse the HTML content of the page\n",
    "    soup = BeautifulSoup(response.text, 'html.parser')\n",
    "\n",
    "    # Find all the room type elements\n",
    "    room_type_elements = soup.find_all(\"a\", class_=\"a83ed08757 f88a5204c2 d1c4779e7a js-legacy-room-name b98133fb50\")\n",
    "\n",
    "    # Extract and print the room types\n",
    "    room_types = [element.find(\"span\").text for element in room_type_elements]\n",
    "\n",
    "    # Print the header\n",
    "    print(\"The Room types are:\")\n",
    "\n",
    "    for room_type in room_types:\n",
    "        print(room_type)\n",
    "else:\n",
    "    print(\"Failed to retrieve the page. Status code:\", response.status_code)\n"
   ]
  },
  {
   "cell_type": "code",
   "execution_count": 98,
   "id": "8ed8d031",
   "metadata": {},
   "outputs": [
    {
     "name": "stdout",
     "output_type": "stream",
     "text": [
      "The amenities are:\n",
      "Free WiFi\n",
      "Free parking\n",
      "Non-smoking rooms\n",
      "24-hour front desk\n",
      "Breakfast\n"
     ]
    }
   ],
   "source": [
    "import requests\n",
    "from bs4 import BeautifulSoup\n",
    "\n",
    "# Define the URL\n",
    "url = 'https://www.booking.com/hotel/ph/hometown-makati-edsa.en-gb.html?aid=306395&label=manila-FQAtFrQpwv6S9K4IrmV3gAS392865645013%3Apl%3Ata%3Ap1720%3Ap2%3Aac%3Aap%3Aneg%3Afi%3Atiaud-146342137030%3Akwd-139454200%3Alp9066820%3Ali%3Adec%3Adm%3Appccp%3DUmFuZG9tSVYkc2RlIyh9YZVcNNsENnH02-pWD53qm9c&sid=fc9096d21bc731377561807eebb08b70&dest_id=-2437894;dest_type=city;dist=0;group_adults=2;group_children=0;hapos=9;hpos=9;nflt=ht_id%3D204;no_rooms=1;req_adults=2;req_children=0;room1=A%2CA;sb_price_type=total;sr_order=popularity;srepoch=1694947268;srpvid=768c46fb585a0098;type=total;ucfs=1&#hotelTmpl'\n",
    "\n",
    "# Send an HTTP GET request to the URL\n",
    "response = requests.get(url)\n",
    "\n",
    "# Check if the request was successful (status code 200)\n",
    "if response.status_code == 200:\n",
    "    # Parse the HTML content\n",
    "    soup = BeautifulSoup(response.text, 'html.parser')\n",
    "\n",
    "    # Find the ul element with the specified class\n",
    "    facility_ul = soup.find(\"ul\", class_=\"c807d72881 e5e0727360 e10711a42e\")\n",
    "\n",
    "    if facility_ul:\n",
    "        # Find all the list items within the ul and extract their text\n",
    "        facility_items = facility_ul.find_all(\"li\")\n",
    "\n",
    "        # Print the header\n",
    "        print(\"The amenities are:\")\n",
    "\n",
    "        # Loop through the list items and print their text\n",
    "        for item in facility_items:\n",
    "            print(item.text.strip())\n",
    "    else:\n",
    "        print(\"Facility ul not found.\")\n",
    "else:\n",
    "    print(\"Failed to retrieve the page. Status code:\", response.status_code)\n"
   ]
  },
  {
   "cell_type": "code",
   "execution_count": 99,
   "id": "963da376",
   "metadata": {},
   "outputs": [
    {
     "name": "stdout",
     "output_type": "stream",
     "text": [
      "Review 1: No text found\n",
      "Review 2: No text found\n",
      "Review 3:\n",
      "“1. Good location, near airport. Even it is close to a noisy road, it is not a big problem for me. And the staff will notice you in advance.\n",
      "2. The staff is so friendly and helpful.”\n",
      "\n",
      "Review 4:\n",
      "“Booked a room for my husband during his stay in Manila. He said he liked the place, the room is clean & staffs are nice especially the security guard.”\n",
      "\n",
      "Review 5:\n",
      "“I liked that they were super accommodating to respond to my needs during my stay.\n",
      "\n",
      "The overall appearance of my room was great! I think their choice of colors was the reason why I didn't have a hard time sleeping.\n",
      "\n",
      "The noise from the outside...”\n",
      "\n",
      "Review 6:\n",
      "“The staff are so cute and helpful \n",
      "Could not fault it. So clean and cheap. \n",
      "Toothbrush coffee etc all included. Filtered water to drink from a dispenser \n",
      "Did not hear any noise from the road like other reviews state”\n",
      "\n",
      "Review 7:\n",
      "“Simple and basic accommodation. What you'd expect for the price.\n",
      "Staff were polite and flexible, allowing a llate check out”\n",
      "\n",
      "Review 8:\n",
      "“Excellent supportive staff, great spacious rooms, comfy beds, excellent showers, TV with HBO. Our go-to place in Makati, highly recommended.”\n",
      "\n",
      "Review 9:\n",
      "“Decent rooms,  everything was clean and reception and guard were friendly. Everything you'd expect from this type of hotel”\n",
      "\n",
      "Review 10:\n",
      "“The staff were extremely friendly and helpful that made the stay even better 👍”\n",
      "\n",
      "Review 11:\n",
      "“The staff is really kind and helpful. The rooms are really big. All the facilities were provided. We loved our stay here. Would love to stay again sometime.”\n",
      "\n",
      "Review 12:\n",
      "“The place is so cool and the staff so accomodating.The rooms are spacious and comfortable!”\n",
      "\n",
      "Review 13: No text found\n"
     ]
    }
   ],
   "source": [
    "import requests\n",
    "from bs4 import BeautifulSoup\n",
    "\n",
    "# URL of the page to scrape\n",
    "url = 'https://www.booking.com/hotel/ph/hometown-makati-edsa.en-gb.html?aid=306395&label=manila-FQAtFrQpwv6S9K4IrmV3gAS392865645013%3Apl%3Ata%3Ap1720%3Ap2%3Aac%3Aap%3Aneg%3Afi%3Atiaud-146342137030%3Akwd-139454200%3Alp9066820%3Ali%3Adec%3Adm%3Appccp%3DUmFuZG9tSVYkc2RlIyh9YZVcNNsENnH02-pWD53qm9c&sid=fc9096d21bc731377561807eebb08b70&dest_id=-2437894;dest_type=city;dist=0;group_adults=2;group_children=0;hapos=9;hpos=9;nflt=ht_id%3D204;no_rooms=1;req_adults=2;req_children=0;room1=A%2CA;sb_price_type=total;sr_order=popularity;srepoch=1694947268;srpvid=768c46fb585a0098;type=total;ucfs=1&#hotelTmpl'\n",
    "\n",
    "# Send an HTTP GET request to the URL\n",
    "response = requests.get(url)\n",
    "\n",
    "# Check if the request was successful (status code 200)\n",
    "if response.status_code == 200:\n",
    "    # Parse the HTML content of the page\n",
    "    soup = BeautifulSoup(response.text, 'html.parser')\n",
    "\n",
    "    # Find all the review elements\n",
    "    review_elements = soup.find_all(\"div\", class_=\"aca0ade214 aaf30230d9 cd2e7d62b0\")\n",
    "\n",
    "    # Print all review texts\n",
    "    for i, review_element in enumerate(review_elements, start=1):\n",
    "        review_text_element = review_element.find(\"div\", class_=\"a53cbfa6de c688f151a2\")\n",
    "        if review_text_element:\n",
    "            review_text = review_text_element.text.strip()\n",
    "            print(f\"Review {i}:\")\n",
    "            print(review_text)\n",
    "            print()\n",
    "        else:\n",
    "            print(f\"Review {i}: No text found\")\n",
    "else:\n",
    "    print(\"Failed to retrieve the page. Status code:\", response.status_code)\n"
   ]
  },
  {
   "cell_type": "markdown",
   "id": "77f32691",
   "metadata": {},
   "source": [
    "#  9. Super OYO Capital O 907 Ceo Flats"
   ]
  },
  {
   "cell_type": "code",
   "execution_count": 100,
   "id": "c35c93ff",
   "metadata": {},
   "outputs": [
    {
     "name": "stdout",
     "output_type": "stream",
     "text": [
      "Super OYO Capital O 907 Ceo Flats\n"
     ]
    }
   ],
   "source": [
    "import requests\n",
    "from bs4 import BeautifulSoup\n",
    "\n",
    "# Define the URL\n",
    "url='https://www.booking.com/hotel/ph/capital-o-907-ceo-flats.en-gb.html?aid=306395&label=manila-FQAtFrQpwv6S9K4IrmV3gAS392865645013%3Apl%3Ata%3Ap1720%3Ap2%3Aac%3Aap%3Aneg%3Afi%3Atiaud-146342137030%3Akwd-139454200%3Alp9066820%3Ali%3Adec%3Adm%3Appccp%3DUmFuZG9tSVYkc2RlIyh9YZVcNNsENnH02-pWD53qm9c&sid=fc9096d21bc731377561807eebb08b70&dest_id=-2437894;dest_type=city;dist=0;group_adults=2;group_children=0;hapos=10;hpos=10;nflt=ht_id%3D204;no_rooms=1;req_adults=2;req_children=0;room1=A%2CA;sb_price_type=total;sr_order=popularity;srepoch=1694947268;srpvid=768c46fb585a0098;type=total;ucfs=1&#hotelTmpl'\n",
    "\n",
    "# Send an HTTP GET request to the URL\n",
    "\n",
    "response = requests.get(url)\n",
    "\n",
    "# Check if the request was successful (status code 200)\n",
    "if response.status_code == 200:\n",
    "    # Parse the HTML content\n",
    "    soup = BeautifulSoup(response.text, 'html.parser')\n",
    "\n",
    "    # Find the h2 element with the specified class\n",
    "    h2_element = soup.find(\"h2\", class_=\"d2fee87262 pp-header__title\")\n",
    "\n",
    "    # Extract and print the text content of the h2 element\n",
    "    if h2_element:\n",
    "        print(h2_element.text.strip())\n",
    "    else:\n",
    "        print(\"H2 element not found.\")\n",
    "else:\n",
    "    print(\"Failed to retrieve the page. Status code:\", response.status_code)\n"
   ]
  },
  {
   "cell_type": "code",
   "execution_count": 101,
   "id": "b8b366ab",
   "metadata": {},
   "outputs": [
    {
     "name": "stdout",
     "output_type": "stream",
     "text": [
      "The location is CEO Flats, 27 Canopus corner Jupiter Street, Bel-Air Village, Jupiter, Makati, 1209 Manila, Philippines\n"
     ]
    }
   ],
   "source": [
    "import requests\n",
    "from bs4 import BeautifulSoup\n",
    "\n",
    "\n",
    "# Define the URL\n",
    "url='https://www.booking.com/hotel/ph/capital-o-907-ceo-flats.en-gb.html?aid=306395&label=manila-FQAtFrQpwv6S9K4IrmV3gAS392865645013%3Apl%3Ata%3Ap1720%3Ap2%3Aac%3Aap%3Aneg%3Afi%3Atiaud-146342137030%3Akwd-139454200%3Alp9066820%3Ali%3Adec%3Adm%3Appccp%3DUmFuZG9tSVYkc2RlIyh9YZVcNNsENnH02-pWD53qm9c&sid=fc9096d21bc731377561807eebb08b70&dest_id=-2437894;dest_type=city;dist=0;group_adults=2;group_children=0;hapos=10;hpos=10;nflt=ht_id%3D204;no_rooms=1;req_adults=2;req_children=0;room1=A%2CA;sb_price_type=total;sr_order=popularity;srepoch=1694947268;srpvid=768c46fb585a0098;type=total;ucfs=1&#hotelTmpl'\n",
    "\n",
    "# Send an HTTP GET request to the URL\n",
    "response = requests.get(url)\n",
    "\n",
    "# Check if the request was successful (status code 200)\n",
    "if response.status_code == 200:\n",
    "    # Parse the HTML content\n",
    "    soup = BeautifulSoup(response.text, 'html.parser')\n",
    "\n",
    "    # Find the span element with the specified class and extract the address\n",
    "    address_element = soup.find(\"span\", class_=\"hp_address_subtitle\")\n",
    "\n",
    "    if address_element:\n",
    "        address = address_element.text.strip()\n",
    "        print(\"The location is\" ,address)\n",
    "    else:\n",
    "        print(\"Address element not found.\")\n",
    "else:\n",
    "    print(\"Failed to retrieve the page. Status code:\", response.status_code)\n"
   ]
  },
  {
   "cell_type": "code",
   "execution_count": 102,
   "id": "b364c2a8",
   "metadata": {},
   "outputs": [
    {
     "name": "stdout",
     "output_type": "stream",
     "text": [
      "The Room types are:\n",
      "One Bedroom Suite \n",
      "Family Suite\n",
      "Standard Single Room\n"
     ]
    }
   ],
   "source": [
    "import requests\n",
    "from bs4 import BeautifulSoup\n",
    "\n",
    "# URL of the page to scrape\n",
    "url='https://www.booking.com/hotel/ph/capital-o-907-ceo-flats.en-gb.html?aid=306395&label=manila-FQAtFrQpwv6S9K4IrmV3gAS392865645013%3Apl%3Ata%3Ap1720%3Ap2%3Aac%3Aap%3Aneg%3Afi%3Atiaud-146342137030%3Akwd-139454200%3Alp9066820%3Ali%3Adec%3Adm%3Appccp%3DUmFuZG9tSVYkc2RlIyh9YZVcNNsENnH02-pWD53qm9c&sid=fc9096d21bc731377561807eebb08b70&dest_id=-2437894;dest_type=city;dist=0;group_adults=2;group_children=0;hapos=10;hpos=10;nflt=ht_id%3D204;no_rooms=1;req_adults=2;req_children=0;room1=A%2CA;sb_price_type=total;sr_order=popularity;srepoch=1694947268;srpvid=768c46fb585a0098;type=total;ucfs=1&#hotelTmpl'\n",
    "\n",
    "# Send an HTTP GET request to the URL\n",
    "response = requests.get(url)\n",
    "\n",
    "# Check if the request was successful (status code 200)\n",
    "if response.status_code == 200:\n",
    "    # Parse the HTML content of the page\n",
    "    soup = BeautifulSoup(response.text, 'html.parser')\n",
    "\n",
    "    # Find all the room type elements\n",
    "    room_type_elements = soup.find_all(\"a\", class_=\"a83ed08757 f88a5204c2 d1c4779e7a js-legacy-room-name b98133fb50\")\n",
    "\n",
    "    # Extract and print the room types\n",
    "    room_types = [element.find(\"span\").text for element in room_type_elements]\n",
    "\n",
    "    # Print the header\n",
    "    print(\"The Room types are:\")\n",
    "\n",
    "    for room_type in room_types:\n",
    "        print(room_type)\n",
    "else:\n",
    "    print(\"Failed to retrieve the page. Status code:\", response.status_code)\n"
   ]
  },
  {
   "cell_type": "code",
   "execution_count": 103,
   "id": "fe4faa1b",
   "metadata": {},
   "outputs": [
    {
     "name": "stdout",
     "output_type": "stream",
     "text": [
      "The amenities are:\n",
      "Non-smoking rooms\n",
      "Room service\n",
      "Garden\n"
     ]
    }
   ],
   "source": [
    "import requests\n",
    "from bs4 import BeautifulSoup\n",
    "\n",
    "# Define the URL\n",
    "url='https://www.booking.com/hotel/ph/capital-o-907-ceo-flats.en-gb.html?aid=306395&label=manila-FQAtFrQpwv6S9K4IrmV3gAS392865645013%3Apl%3Ata%3Ap1720%3Ap2%3Aac%3Aap%3Aneg%3Afi%3Atiaud-146342137030%3Akwd-139454200%3Alp9066820%3Ali%3Adec%3Adm%3Appccp%3DUmFuZG9tSVYkc2RlIyh9YZVcNNsENnH02-pWD53qm9c&sid=fc9096d21bc731377561807eebb08b70&dest_id=-2437894;dest_type=city;dist=0;group_adults=2;group_children=0;hapos=10;hpos=10;nflt=ht_id%3D204;no_rooms=1;req_adults=2;req_children=0;room1=A%2CA;sb_price_type=total;sr_order=popularity;srepoch=1694947268;srpvid=768c46fb585a0098;type=total;ucfs=1&#hotelTmpl'\n",
    "\n",
    "# Send an HTTP GET request to the URL\n",
    "response = requests.get(url)\n",
    "\n",
    "# Check if the request was successful (status code 200)\n",
    "if response.status_code == 200:\n",
    "    # Parse the HTML content\n",
    "    soup = BeautifulSoup(response.text, 'html.parser')\n",
    "\n",
    "    # Find the ul element with the specified class\n",
    "    facility_ul = soup.find(\"ul\", class_=\"c807d72881 e5e0727360 e10711a42e\")\n",
    "\n",
    "    if facility_ul:\n",
    "        # Find all the list items within the ul and extract their text\n",
    "        facility_items = facility_ul.find_all(\"li\")\n",
    "\n",
    "        # Print the header\n",
    "        print(\"The amenities are:\")\n",
    "\n",
    "        # Loop through the list items and print their text\n",
    "        for item in facility_items:\n",
    "            print(item.text.strip())\n",
    "    else:\n",
    "        print(\"Facility ul not found.\")\n",
    "else:\n",
    "    print(\"Failed to retrieve the page. Status code:\", response.status_code)\n"
   ]
  },
  {
   "cell_type": "code",
   "execution_count": 104,
   "id": "00ae239e",
   "metadata": {},
   "outputs": [
    {
     "name": "stdout",
     "output_type": "stream",
     "text": [
      "Review 1: No text found\n",
      "Review 2:\n",
      "“The place is so affordable and has a great location. This was our 2nd time and we will keep.on coming. Kudos to staff Rey for his warm accomodation.”\n",
      "\n",
      "Review 3:\n",
      "“Accessible to train station,friendly neighborhood and easy access to different restaurants”\n",
      "\n",
      "Review 4:\n",
      "“The location is great! INternet is great tables are given.”\n",
      "\n",
      "Review 5:\n",
      "“The staff was absolutely the best about the place then the aircon. The area had a good variety of restaurants, though we only tried one nearby.”\n",
      "\n",
      "Review 6:\n",
      "“Convenient transport near MRT and jeepney terminal. Spacious rooms.”\n",
      "\n",
      "Review 7:\n",
      "“Best prize/value in this low prize category ever. Accurate managed and design. A kind of 3 star Hotel in Bonsai size.”\n",
      "\n",
      "Review 8:\n",
      "“Well located and clean apartment. Convenience shop underneath, near railway station.”\n",
      "\n",
      "Review 9:\n",
      "“Very good location, spacious room, attentive staff”\n",
      "\n",
      "Review 10:\n",
      "“The room (flat) is really spacious and consists of a kitchen, living room, bed room and a bathroom. Internet is great and you are provided with your own router in the room. Incase you need a more secure connection, the cellular coverage is also...”\n",
      "\n",
      "Review 11:\n",
      "“I stayed for two nights and at first, I was amazed by the beauty and elegance of the interior design for such a budget hotel. The staffs are also friendly and helpful.”\n",
      "\n",
      "Review 12: No text found\n"
     ]
    }
   ],
   "source": [
    "import requests\n",
    "from bs4 import BeautifulSoup\n",
    "\n",
    "# URL of the page to scrape\n",
    "url='https://www.booking.com/hotel/ph/capital-o-907-ceo-flats.en-gb.html?aid=306395&label=manila-FQAtFrQpwv6S9K4IrmV3gAS392865645013%3Apl%3Ata%3Ap1720%3Ap2%3Aac%3Aap%3Aneg%3Afi%3Atiaud-146342137030%3Akwd-139454200%3Alp9066820%3Ali%3Adec%3Adm%3Appccp%3DUmFuZG9tSVYkc2RlIyh9YZVcNNsENnH02-pWD53qm9c&sid=fc9096d21bc731377561807eebb08b70&dest_id=-2437894;dest_type=city;dist=0;group_adults=2;group_children=0;hapos=10;hpos=10;nflt=ht_id%3D204;no_rooms=1;req_adults=2;req_children=0;room1=A%2CA;sb_price_type=total;sr_order=popularity;srepoch=1694947268;srpvid=768c46fb585a0098;type=total;ucfs=1&#hotelTmpl'\n",
    "\n",
    "# Send an HTTP GET request to the URL\n",
    "response = requests.get(url)\n",
    "\n",
    "# Check if the request was successful (status code 200)\n",
    "if response.status_code == 200:\n",
    "    # Parse the HTML content of the page\n",
    "    soup = BeautifulSoup(response.text, 'html.parser')\n",
    "\n",
    "    # Find all the review elements\n",
    "    review_elements = soup.find_all(\"div\", class_=\"aca0ade214 aaf30230d9 cd2e7d62b0\")\n",
    "\n",
    "    # Print all review texts\n",
    "    for i, review_element in enumerate(review_elements, start=1):\n",
    "        review_text_element = review_element.find(\"div\", class_=\"a53cbfa6de c688f151a2\")\n",
    "        if review_text_element:\n",
    "            review_text = review_text_element.text.strip()\n",
    "            print(f\"Review {i}:\")\n",
    "            print(review_text)\n",
    "            print()\n",
    "        else:\n",
    "            print(f\"Review {i}: No text found\")\n",
    "else:\n",
    "    print(\"Failed to retrieve the page. Status code:\", response.status_code)\n"
   ]
  },
  {
   "cell_type": "markdown",
   "id": "8904af70",
   "metadata": {},
   "source": [
    "#  10. OYO 848 Dona Aurora Condotel"
   ]
  },
  {
   "cell_type": "code",
   "execution_count": 105,
   "id": "9918bf0e",
   "metadata": {},
   "outputs": [
    {
     "name": "stdout",
     "output_type": "stream",
     "text": [
      "OYO 848 Dona Aurora Condotel\n"
     ]
    }
   ],
   "source": [
    "import requests\n",
    "from bs4 import BeautifulSoup\n",
    "\n",
    "# Define the URL\n",
    "url = 'https://www.booking.com/hotel/ph/dona-aurora-condotel.en-gb.html?aid=306395&label=manila-FQAtFrQpwv6S9K4IrmV3gAS392865645013%3Apl%3Ata%3Ap1720%3Ap2%3Aac%3Aap%3Aneg%3Afi%3Atiaud-146342137030%3Akwd-139454200%3Alp9066820%3Ali%3Adec%3Adm%3Appccp%3DUmFuZG9tSVYkc2RlIyh9YZVcNNsENnH02-pWD53qm9c&sid=fc9096d21bc731377561807eebb08b70&dest_id=-2437894;dest_type=city;dist=0;group_adults=2;group_children=0;hapos=11;hpos=11;nflt=ht_id%3D204;no_rooms=1;req_adults=2;req_children=0;room1=A%2CA;sb_price_type=total;sr_order=popularity;srepoch=1694947268;srpvid=768c46fb585a0098;type=total;ucfs=1&#hotelTmpl'\n",
    "\n",
    "# Send an HTTP GET request to the URL\n",
    "\n",
    "response = requests.get(url)\n",
    "\n",
    "# Check if the request was successful (status code 200)\n",
    "if response.status_code == 200:\n",
    "    # Parse the HTML content\n",
    "    soup = BeautifulSoup(response.text, 'html.parser')\n",
    "\n",
    "    # Find the h2 element with the specified class\n",
    "    h2_element = soup.find(\"h2\", class_=\"d2fee87262 pp-header__title\")\n",
    "\n",
    "    # Extract and print the text content of the h2 element\n",
    "    if h2_element:\n",
    "        print(h2_element.text.strip())\n",
    "    else:\n",
    "        print(\"H2 element not found.\")\n",
    "else:\n",
    "    print(\"Failed to retrieve the page. Status code:\", response.status_code)\n"
   ]
  },
  {
   "cell_type": "code",
   "execution_count": 106,
   "id": "da401175",
   "metadata": {},
   "outputs": [
    {
     "name": "stdout",
     "output_type": "stream",
     "text": [
      "The location is 52 North Ponce, Quezon City, 1113 Manila, Philippines\n"
     ]
    }
   ],
   "source": [
    "import requests\n",
    "from bs4 import BeautifulSoup\n",
    "\n",
    "\n",
    "# Define the URL\n",
    "url = 'https://www.booking.com/hotel/ph/dona-aurora-condotel.en-gb.html?aid=306395&label=manila-FQAtFrQpwv6S9K4IrmV3gAS392865645013%3Apl%3Ata%3Ap1720%3Ap2%3Aac%3Aap%3Aneg%3Afi%3Atiaud-146342137030%3Akwd-139454200%3Alp9066820%3Ali%3Adec%3Adm%3Appccp%3DUmFuZG9tSVYkc2RlIyh9YZVcNNsENnH02-pWD53qm9c&sid=fc9096d21bc731377561807eebb08b70&dest_id=-2437894;dest_type=city;dist=0;group_adults=2;group_children=0;hapos=11;hpos=11;nflt=ht_id%3D204;no_rooms=1;req_adults=2;req_children=0;room1=A%2CA;sb_price_type=total;sr_order=popularity;srepoch=1694947268;srpvid=768c46fb585a0098;type=total;ucfs=1&#hotelTmpl'\n",
    "\n",
    "# Send an HTTP GET request to the URL\n",
    "response = requests.get(url)\n",
    "\n",
    "# Check if the request was successful (status code 200)\n",
    "if response.status_code == 200:\n",
    "    # Parse the HTML content\n",
    "    soup = BeautifulSoup(response.text, 'html.parser')\n",
    "\n",
    "    # Find the span element with the specified class and extract the address\n",
    "    address_element = soup.find(\"span\", class_=\"hp_address_subtitle\")\n",
    "\n",
    "    if address_element:\n",
    "        address = address_element.text.strip()\n",
    "        print(\"The location is\" ,address)\n",
    "    else:\n",
    "        print(\"Address element not found.\")\n",
    "else:\n",
    "    print(\"Failed to retrieve the page. Status code:\", response.status_code)\n"
   ]
  },
  {
   "cell_type": "code",
   "execution_count": 107,
   "id": "4c30ca4d",
   "metadata": {},
   "outputs": [
    {
     "name": "stdout",
     "output_type": "stream",
     "text": [
      "The Room types are:\n",
      "Standard Triple\n",
      "Standard Double Room\n",
      "Deluxe Twin Room\n",
      "Suite Family\n"
     ]
    }
   ],
   "source": [
    "import requests\n",
    "from bs4 import BeautifulSoup\n",
    "\n",
    "# URL of the page to scrape\n",
    "url = 'https://www.booking.com/hotel/ph/dona-aurora-condotel.en-gb.html?aid=306395&label=manila-FQAtFrQpwv6S9K4IrmV3gAS392865645013%3Apl%3Ata%3Ap1720%3Ap2%3Aac%3Aap%3Aneg%3Afi%3Atiaud-146342137030%3Akwd-139454200%3Alp9066820%3Ali%3Adec%3Adm%3Appccp%3DUmFuZG9tSVYkc2RlIyh9YZVcNNsENnH02-pWD53qm9c&sid=fc9096d21bc731377561807eebb08b70&dest_id=-2437894;dest_type=city;dist=0;group_adults=2;group_children=0;hapos=11;hpos=11;nflt=ht_id%3D204;no_rooms=1;req_adults=2;req_children=0;room1=A%2CA;sb_price_type=total;sr_order=popularity;srepoch=1694947268;srpvid=768c46fb585a0098;type=total;ucfs=1&#hotelTmpl'\n",
    "\n",
    "# Send an HTTP GET request to the URL\n",
    "response = requests.get(url)\n",
    "\n",
    "# Check if the request was successful (status code 200)\n",
    "if response.status_code == 200:\n",
    "    # Parse the HTML content of the page\n",
    "    soup = BeautifulSoup(response.text, 'html.parser')\n",
    "\n",
    "    # Find all the room type elements\n",
    "    room_type_elements = soup.find_all(\"a\", class_=\"a83ed08757 f88a5204c2 d1c4779e7a js-legacy-room-name b98133fb50\")\n",
    "\n",
    "    # Extract and print the room types\n",
    "    room_types = [element.find(\"span\").text for element in room_type_elements]\n",
    "\n",
    "    # Print the header\n",
    "    print(\"The Room types are:\")\n",
    "\n",
    "    for room_type in room_types:\n",
    "        print(room_type)\n",
    "else:\n",
    "    print(\"Failed to retrieve the page. Status code:\", response.status_code)\n"
   ]
  },
  {
   "cell_type": "code",
   "execution_count": 109,
   "id": "18eec278",
   "metadata": {},
   "outputs": [
    {
     "name": "stdout",
     "output_type": "stream",
     "text": [
      "The amenities are:\n",
      "Non-smoking rooms\n",
      "24-hour front desk\n",
      "Lift\n"
     ]
    }
   ],
   "source": [
    "import requests\n",
    "from bs4 import BeautifulSoup\n",
    "\n",
    "# Define the URL\n",
    "url = 'https://www.booking.com/hotel/ph/dona-aurora-condotel.en-gb.html?aid=306395&label=manila-FQAtFrQpwv6S9K4IrmV3gAS392865645013%3Apl%3Ata%3Ap1720%3Ap2%3Aac%3Aap%3Aneg%3Afi%3Atiaud-146342137030%3Akwd-139454200%3Alp9066820%3Ali%3Adec%3Adm%3Appccp%3DUmFuZG9tSVYkc2RlIyh9YZVcNNsENnH02-pWD53qm9c&sid=fc9096d21bc731377561807eebb08b70&dest_id=-2437894;dest_type=city;dist=0;group_adults=2;group_children=0;hapos=11;hpos=11;nflt=ht_id%3D204;no_rooms=1;req_adults=2;req_children=0;room1=A%2CA;sb_price_type=total;sr_order=popularity;srepoch=1694947268;srpvid=768c46fb585a0098;type=total;ucfs=1&#hotelTmpl'\n",
    "\n",
    "# Send an HTTP GET request to the URL\n",
    "response = requests.get(url)\n",
    "\n",
    "# Check if the request was successful (status code 200)\n",
    "if response.status_code == 200:\n",
    "    # Parse the HTML content\n",
    "    soup = BeautifulSoup(response.text, 'html.parser')\n",
    "\n",
    "    # Find the ul element with the specified class\n",
    "    facility_ul = soup.find(\"ul\", class_=\"c807d72881 e5e0727360 e10711a42e\")\n",
    "\n",
    "    if facility_ul:\n",
    "        # Find all the list items within the ul and extract their text\n",
    "        facility_items = facility_ul.find_all(\"li\")\n",
    "\n",
    "        # Print the header\n",
    "        print(\"The amenities are:\")\n",
    "\n",
    "        # Loop through the list items and print their text\n",
    "        for item in facility_items:\n",
    "            print(item.text.strip())\n",
    "    else:\n",
    "        print(\"Facility ul not found.\")\n",
    "else:\n",
    "    print(\"Failed to retrieve the page. Status code:\", response.status_code)\n"
   ]
  },
  {
   "cell_type": "code",
   "execution_count": 110,
   "id": "7c69f334",
   "metadata": {},
   "outputs": [
    {
     "name": "stdout",
     "output_type": "stream",
     "text": [
      "Review 1: No text found\n",
      "Review 2: No text found\n",
      "Review 3: No text found\n",
      "Review 4: No text found\n",
      "Review 5: No text found\n",
      "Review 6: No text found\n",
      "Review 7: No text found\n",
      "Review 8: No text found\n",
      "Review 9:\n",
      "“Very secure. Gate surrounding property, locked. Very clean.”\n",
      "\n",
      "Review 10:\n",
      "“Everything! The best place to relax. Friendly and accommodating staff.”\n",
      "\n",
      "Review 11:\n",
      "“Super accommodating the staff, the room is clean and the location is safe.”\n",
      "\n",
      "Review 12:\n",
      "“Outstanding helpful and nice staff! Helped us to arrange further trip to Marinduque.”\n",
      "\n",
      "Review 13:\n",
      "“The staff are accommodating. The room is clean. This was our 2nd stay and we are planning to stay again in December.”\n",
      "\n",
      "Review 14:\n",
      "“staff were really nice and very friendly and accommodating. bed and beddings really comfortable too”\n",
      "\n",
      "Review 15:\n",
      "“Amazing room with such comfy beds and a great size, for a great price. Staff also super friendly and will go out of their way to help you. Plus there is a pool on the roof AND early check in is possible for an extra cost (100 pesos per hour before...”\n",
      "\n",
      "Review 16:\n",
      "“it was nice and clean, felt safe, the ladies at the front desk were nice and ready to give advice or have a chat :)”\n",
      "\n",
      "Review 17:\n",
      "“Staff were accommodating , helpful and approachable. The room is very satisfying with the price.”\n",
      "\n",
      "Review 18:\n",
      "“Staff are very accommodating. The place is clean and unexpectedly comfortable. Room is actually big for it's price.”\n",
      "\n",
      "Review 19: No text found\n"
     ]
    }
   ],
   "source": [
    "import requests\n",
    "from bs4 import BeautifulSoup\n",
    "\n",
    "# URL of the page to scrape\n",
    "url = 'https://www.booking.com/hotel/ph/dona-aurora-condotel.en-gb.html?aid=306395&label=manila-FQAtFrQpwv6S9K4IrmV3gAS392865645013%3Apl%3Ata%3Ap1720%3Ap2%3Aac%3Aap%3Aneg%3Afi%3Atiaud-146342137030%3Akwd-139454200%3Alp9066820%3Ali%3Adec%3Adm%3Appccp%3DUmFuZG9tSVYkc2RlIyh9YZVcNNsENnH02-pWD53qm9c&sid=fc9096d21bc731377561807eebb08b70&dest_id=-2437894;dest_type=city;dist=0;group_adults=2;group_children=0;hapos=11;hpos=11;nflt=ht_id%3D204;no_rooms=1;req_adults=2;req_children=0;room1=A%2CA;sb_price_type=total;sr_order=popularity;srepoch=1694947268;srpvid=768c46fb585a0098;type=total;ucfs=1&#hotelTmpl'\n",
    "\n",
    "# Send an HTTP GET request to the URL\n",
    "response = requests.get(url)\n",
    "\n",
    "# Check if the request was successful (status code 200)\n",
    "if response.status_code == 200:\n",
    "    # Parse the HTML content of the page\n",
    "    soup = BeautifulSoup(response.text, 'html.parser')\n",
    "\n",
    "    # Find all the review elements\n",
    "    review_elements = soup.find_all(\"div\", class_=\"aca0ade214 aaf30230d9 cd2e7d62b0\")\n",
    "\n",
    "    # Print all review texts\n",
    "    for i, review_element in enumerate(review_elements, start=1):\n",
    "        review_text_element = review_element.find(\"div\", class_=\"a53cbfa6de c688f151a2\")\n",
    "        if review_text_element:\n",
    "            review_text = review_text_element.text.strip()\n",
    "            print(f\"Review {i}:\")\n",
    "            print(review_text)\n",
    "            print()\n",
    "        else:\n",
    "            print(f\"Review {i}: No text found\")\n",
    "else:\n",
    "    print(\"Failed to retrieve the page. Status code:\", response.status_code)\n"
   ]
  },
  {
   "cell_type": "markdown",
   "id": "058655c7",
   "metadata": {},
   "source": [
    "#  11. St.Marks"
   ]
  },
  {
   "cell_type": "code",
   "execution_count": 111,
   "id": "2b8ae19a",
   "metadata": {},
   "outputs": [
    {
     "name": "stdout",
     "output_type": "stream",
     "text": [
      "St.Marks\n"
     ]
    }
   ],
   "source": [
    "import requests\n",
    "from bs4 import BeautifulSoup\n",
    "\n",
    "# Define the URL\n",
    "url = 'https://www.booking.com/hotel/ph/st-marks.en-gb.html?aid=306395&label=manila-FQAtFrQpwv6S9K4IrmV3gAS392865645013%3Apl%3Ata%3Ap1720%3Ap2%3Aac%3Aap%3Aneg%3Afi%3Atiaud-146342137030%3Akwd-139454200%3Alp9066820%3Ali%3Adec%3Adm%3Appccp%3DUmFuZG9tSVYkc2RlIyh9YZVcNNsENnH02-pWD53qm9c&sid=fc9096d21bc731377561807eebb08b70&dest_id=-2437894;dest_type=city;dist=0;group_adults=2;group_children=0;hapos=12;hpos=12;nflt=ht_id%3D204;no_rooms=1;req_adults=2;req_children=0;room1=A%2CA;sb_price_type=total;sr_order=popularity;srepoch=1694947268;srpvid=768c46fb585a0098;type=total;ucfs=1&#hotelTmpl'\n",
    "\n",
    "# Send an HTTP GET request to the URL\n",
    "\n",
    "response = requests.get(url)\n",
    "\n",
    "# Check if the request was successful (status code 200)\n",
    "if response.status_code == 200:\n",
    "    # Parse the HTML content\n",
    "    soup = BeautifulSoup(response.text, 'html.parser')\n",
    "\n",
    "    # Find the h2 element with the specified class\n",
    "    h2_element = soup.find(\"h2\", class_=\"d2fee87262 pp-header__title\")\n",
    "\n",
    "    # Extract and print the text content of the h2 element\n",
    "    if h2_element:\n",
    "        print(h2_element.text.strip())\n",
    "    else:\n",
    "        print(\"H2 element not found.\")\n",
    "else:\n",
    "    print(\"Failed to retrieve the page. Status code:\", response.status_code)\n"
   ]
  },
  {
   "cell_type": "code",
   "execution_count": 112,
   "id": "fa061943",
   "metadata": {},
   "outputs": [
    {
     "name": "stdout",
     "output_type": "stream",
     "text": [
      "The location is McKinley Hill Drive 4th, Taguig, 1630 Manila, Philippines\n"
     ]
    }
   ],
   "source": [
    "import requests\n",
    "from bs4 import BeautifulSoup\n",
    "\n",
    "\n",
    "# Define the URL\n",
    "url = 'https://www.booking.com/hotel/ph/st-marks.en-gb.html?aid=306395&label=manila-FQAtFrQpwv6S9K4IrmV3gAS392865645013%3Apl%3Ata%3Ap1720%3Ap2%3Aac%3Aap%3Aneg%3Afi%3Atiaud-146342137030%3Akwd-139454200%3Alp9066820%3Ali%3Adec%3Adm%3Appccp%3DUmFuZG9tSVYkc2RlIyh9YZVcNNsENnH02-pWD53qm9c&sid=fc9096d21bc731377561807eebb08b70&dest_id=-2437894;dest_type=city;dist=0;group_adults=2;group_children=0;hapos=12;hpos=12;nflt=ht_id%3D204;no_rooms=1;req_adults=2;req_children=0;room1=A%2CA;sb_price_type=total;sr_order=popularity;srepoch=1694947268;srpvid=768c46fb585a0098;type=total;ucfs=1&#hotelTmpl'\n",
    "\n",
    "# Send an HTTP GET request to the URL\n",
    "response = requests.get(url)\n",
    "\n",
    "# Check if the request was successful (status code 200)\n",
    "if response.status_code == 200:\n",
    "    # Parse the HTML content\n",
    "    soup = BeautifulSoup(response.text, 'html.parser')\n",
    "\n",
    "    # Find the span element with the specified class and extract the address\n",
    "    address_element = soup.find(\"span\", class_=\"hp_address_subtitle\")\n",
    "\n",
    "    if address_element:\n",
    "        address = address_element.text.strip()\n",
    "        print(\"The location is\" ,address)\n",
    "    else:\n",
    "        print(\"Address element not found.\")\n",
    "else:\n",
    "    print(\"Failed to retrieve the page. Status code:\", response.status_code)\n"
   ]
  },
  {
   "cell_type": "code",
   "execution_count": 113,
   "id": "54779e40",
   "metadata": {},
   "outputs": [
    {
     "name": "stdout",
     "output_type": "stream",
     "text": [
      "The Room types are:\n",
      "Studio\n"
     ]
    }
   ],
   "source": [
    "import requests\n",
    "from bs4 import BeautifulSoup\n",
    "\n",
    "# URL of the page to scrape\n",
    "url = 'https://www.booking.com/hotel/ph/st-marks.en-gb.html?aid=306395&label=manila-FQAtFrQpwv6S9K4IrmV3gAS392865645013%3Apl%3Ata%3Ap1720%3Ap2%3Aac%3Aap%3Aneg%3Afi%3Atiaud-146342137030%3Akwd-139454200%3Alp9066820%3Ali%3Adec%3Adm%3Appccp%3DUmFuZG9tSVYkc2RlIyh9YZVcNNsENnH02-pWD53qm9c&sid=fc9096d21bc731377561807eebb08b70&dest_id=-2437894;dest_type=city;dist=0;group_adults=2;group_children=0;hapos=12;hpos=12;nflt=ht_id%3D204;no_rooms=1;req_adults=2;req_children=0;room1=A%2CA;sb_price_type=total;sr_order=popularity;srepoch=1694947268;srpvid=768c46fb585a0098;type=total;ucfs=1&#hotelTmpl'\n",
    "\n",
    "# Send an HTTP GET request to the URL\n",
    "response = requests.get(url)\n",
    "\n",
    "# Check if the request was successful (status code 200)\n",
    "if response.status_code == 200:\n",
    "    # Parse the HTML content of the page\n",
    "    soup = BeautifulSoup(response.text, 'html.parser')\n",
    "\n",
    "    # Find all the room type elements\n",
    "    room_type_elements = soup.find_all(\"a\", class_=\"a83ed08757 f88a5204c2 d1c4779e7a js-legacy-room-name b98133fb50\")\n",
    "\n",
    "    # Extract and print the room types\n",
    "    room_types = [element.find(\"span\").text for element in room_type_elements]\n",
    "\n",
    "    # Print the header\n",
    "    print(\"The Room types are:\")\n",
    "\n",
    "    for room_type in room_types:\n",
    "        print(room_type)\n",
    "else:\n",
    "    print(\"Failed to retrieve the page. Status code:\", response.status_code)\n"
   ]
  },
  {
   "cell_type": "code",
   "execution_count": 114,
   "id": "2e3608af",
   "metadata": {},
   "outputs": [
    {
     "name": "stdout",
     "output_type": "stream",
     "text": [
      "The amenities are:\n",
      "Outdoor swimming pool\n",
      "Free WiFi\n",
      "Non-smoking rooms\n",
      "24-hour front desk\n",
      "Laundry\n",
      "Terrace\n",
      "Garden\n",
      "Lift\n"
     ]
    }
   ],
   "source": [
    "import requests\n",
    "from bs4 import BeautifulSoup\n",
    "\n",
    "# Define the URL\n",
    "url = 'https://www.booking.com/hotel/ph/st-marks.en-gb.html?aid=306395&label=manila-FQAtFrQpwv6S9K4IrmV3gAS392865645013%3Apl%3Ata%3Ap1720%3Ap2%3Aac%3Aap%3Aneg%3Afi%3Atiaud-146342137030%3Akwd-139454200%3Alp9066820%3Ali%3Adec%3Adm%3Appccp%3DUmFuZG9tSVYkc2RlIyh9YZVcNNsENnH02-pWD53qm9c&sid=fc9096d21bc731377561807eebb08b70&dest_id=-2437894;dest_type=city;dist=0;group_adults=2;group_children=0;hapos=12;hpos=12;nflt=ht_id%3D204;no_rooms=1;req_adults=2;req_children=0;room1=A%2CA;sb_price_type=total;sr_order=popularity;srepoch=1694947268;srpvid=768c46fb585a0098;type=total;ucfs=1&#hotelTmpl'\n",
    "\n",
    "# Send an HTTP GET request to the URL\n",
    "response = requests.get(url)\n",
    "\n",
    "# Check if the request was successful (status code 200)\n",
    "if response.status_code == 200:\n",
    "    # Parse the HTML content\n",
    "    soup = BeautifulSoup(response.text, 'html.parser')\n",
    "\n",
    "    # Find the ul element with the specified class\n",
    "    facility_ul = soup.find(\"ul\", class_=\"c807d72881 e5e0727360 e10711a42e\")\n",
    "\n",
    "    if facility_ul:\n",
    "        # Find all the list items within the ul and extract their text\n",
    "        facility_items = facility_ul.find_all(\"li\")\n",
    "\n",
    "        # Print the header\n",
    "        print(\"The amenities are:\")\n",
    "\n",
    "        # Loop through the list items and print their text\n",
    "        for item in facility_items:\n",
    "            print(item.text.strip())\n",
    "    else:\n",
    "        print(\"Facility ul not found.\")\n",
    "else:\n",
    "    print(\"Failed to retrieve the page. Status code:\", response.status_code)\n"
   ]
  },
  {
   "cell_type": "code",
   "execution_count": 115,
   "id": "4f5e51ce",
   "metadata": {},
   "outputs": [
    {
     "name": "stdout",
     "output_type": "stream",
     "text": [
      "Review 1: No text found\n",
      "Review 2: No text found\n",
      "Review 3: No text found\n",
      "Review 4: No text found\n",
      "Review 5: No text found\n",
      "Review 6: No text found\n",
      "Review 7: No text found\n",
      "Review 8: No text found\n",
      "Review 9: No text found\n",
      "Review 10: No text found\n",
      "Review 11: No text found\n",
      "Review 12: No text found\n"
     ]
    }
   ],
   "source": [
    "import requests\n",
    "from bs4 import BeautifulSoup\n",
    "\n",
    "# URL of the page to scrape\n",
    "url = 'https://www.booking.com/hotel/ph/st-marks.en-gb.html?aid=306395&label=manila-FQAtFrQpwv6S9K4IrmV3gAS392865645013%3Apl%3Ata%3Ap1720%3Ap2%3Aac%3Aap%3Aneg%3Afi%3Atiaud-146342137030%3Akwd-139454200%3Alp9066820%3Ali%3Adec%3Adm%3Appccp%3DUmFuZG9tSVYkc2RlIyh9YZVcNNsENnH02-pWD53qm9c&sid=fc9096d21bc731377561807eebb08b70&dest_id=-2437894;dest_type=city;dist=0;group_adults=2;group_children=0;hapos=12;hpos=12;nflt=ht_id%3D204;no_rooms=1;req_adults=2;req_children=0;room1=A%2CA;sb_price_type=total;sr_order=popularity;srepoch=1694947268;srpvid=768c46fb585a0098;type=total;ucfs=1&#hotelTmpl'\n",
    "\n",
    "# Send an HTTP GET request to the URL\n",
    "response = requests.get(url)\n",
    "\n",
    "# Check if the request was successful (status code 200)\n",
    "if response.status_code == 200:\n",
    "    # Parse the HTML content of the page\n",
    "    soup = BeautifulSoup(response.text, 'html.parser')\n",
    "\n",
    "    # Find all the review elements\n",
    "    review_elements = soup.find_all(\"div\", class_=\"aca0ade214 aaf30230d9 cd2e7d62b0\")\n",
    "\n",
    "    # Print all review texts\n",
    "    for i, review_element in enumerate(review_elements, start=1):\n",
    "        review_text_element = review_element.find(\"div\", class_=\"a53cbfa6de c688f151a2\")\n",
    "        if review_text_element:\n",
    "            review_text = review_text_element.text.strip()\n",
    "            print(f\"Review {i}:\")\n",
    "            print(review_text)\n",
    "            print()\n",
    "        else:\n",
    "            print(f\"Review {i}: No text found\")\n",
    "else:\n",
    "    print(\"Failed to retrieve the page. Status code:\", response.status_code)\n"
   ]
  },
  {
   "cell_type": "markdown",
   "id": "3fc39d1d",
   "metadata": {},
   "source": [
    "#  12. Artemis Place Makati Hotel"
   ]
  },
  {
   "cell_type": "code",
   "execution_count": 116,
   "id": "a678668f",
   "metadata": {},
   "outputs": [
    {
     "name": "stdout",
     "output_type": "stream",
     "text": [
      "Artemis Place Makati Hotel\n"
     ]
    }
   ],
   "source": [
    "import requests\n",
    "from bs4 import BeautifulSoup\n",
    "\n",
    "# Define the URL\n",
    "url = 'https://www.booking.com/hotel/ph/artemis-place-makati-makati.en-gb.html?aid=306395&label=manila-FQAtFrQpwv6S9K4IrmV3gAS392865645013%3Apl%3Ata%3Ap1720%3Ap2%3Aac%3Aap%3Aneg%3Afi%3Atiaud-146342137030%3Akwd-139454200%3Alp9066820%3Ali%3Adec%3Adm%3Appccp%3DUmFuZG9tSVYkc2RlIyh9YZVcNNsENnH02-pWD53qm9c&sid=fc9096d21bc731377561807eebb08b70&dest_id=-2437894;dest_type=city;dist=0;group_adults=2;group_children=0;hapos=13;hpos=13;nflt=ht_id%3D204;no_rooms=1;req_adults=2;req_children=0;room1=A%2CA;sb_price_type=total;sr_order=popularity;srepoch=1694947268;srpvid=768c46fb585a0098;type=total;ucfs=1&#hotelTmpl'\n",
    "\n",
    "# Send an HTTP GET request to the URL\n",
    "\n",
    "response = requests.get(url)\n",
    "\n",
    "# Check if the request was successful (status code 200)\n",
    "if response.status_code == 200:\n",
    "    # Parse the HTML content\n",
    "    soup = BeautifulSoup(response.text, 'html.parser')\n",
    "\n",
    "    # Find the h2 element with the specified class\n",
    "    h2_element = soup.find(\"h2\", class_=\"d2fee87262 pp-header__title\")\n",
    "\n",
    "    # Extract and print the text content of the h2 element\n",
    "    if h2_element:\n",
    "        print(h2_element.text.strip())\n",
    "    else:\n",
    "        print(\"H2 element not found.\")\n",
    "else:\n",
    "    print(\"Failed to retrieve the page. Status code:\", response.status_code)\n"
   ]
  },
  {
   "cell_type": "code",
   "execution_count": 117,
   "id": "c67e4d15",
   "metadata": {},
   "outputs": [
    {
     "name": "stdout",
     "output_type": "stream",
     "text": [
      "The location is Enrique Street, 5065 Filmore Street, Makati, 1235 Manila, Philippines\n"
     ]
    }
   ],
   "source": [
    "import requests\n",
    "from bs4 import BeautifulSoup\n",
    "\n",
    "\n",
    "# Define the URL\n",
    "url = 'https://www.booking.com/hotel/ph/artemis-place-makati-makati.en-gb.html?aid=306395&label=manila-FQAtFrQpwv6S9K4IrmV3gAS392865645013%3Apl%3Ata%3Ap1720%3Ap2%3Aac%3Aap%3Aneg%3Afi%3Atiaud-146342137030%3Akwd-139454200%3Alp9066820%3Ali%3Adec%3Adm%3Appccp%3DUmFuZG9tSVYkc2RlIyh9YZVcNNsENnH02-pWD53qm9c&sid=fc9096d21bc731377561807eebb08b70&dest_id=-2437894;dest_type=city;dist=0;group_adults=2;group_children=0;hapos=13;hpos=13;nflt=ht_id%3D204;no_rooms=1;req_adults=2;req_children=0;room1=A%2CA;sb_price_type=total;sr_order=popularity;srepoch=1694947268;srpvid=768c46fb585a0098;type=total;ucfs=1&#hotelTmpl'\n",
    "\n",
    "# Send an HTTP GET request to the URL\n",
    "response = requests.get(url)\n",
    "\n",
    "# Check if the request was successful (status code 200)\n",
    "if response.status_code == 200:\n",
    "    # Parse the HTML content\n",
    "    soup = BeautifulSoup(response.text, 'html.parser')\n",
    "\n",
    "    # Find the span element with the specified class and extract the address\n",
    "    address_element = soup.find(\"span\", class_=\"hp_address_subtitle\")\n",
    "\n",
    "    if address_element:\n",
    "        address = address_element.text.strip()\n",
    "        print(\"The location is\" ,address)\n",
    "    else:\n",
    "        print(\"Address element not found.\")\n",
    "else:\n",
    "    print(\"Failed to retrieve the page. Status code:\", response.status_code)\n"
   ]
  },
  {
   "cell_type": "code",
   "execution_count": 118,
   "id": "be20dbbc",
   "metadata": {},
   "outputs": [
    {
     "name": "stdout",
     "output_type": "stream",
     "text": [
      "The Room types are:\n",
      "Studio\n",
      "Superior 1-Bedroom\n",
      "Deluxe Studio\n",
      "Deluxe Family Studio\n",
      "Deluxe 1-Bedroom\n",
      "Premier Family Studio\n",
      "Penthouse Suite\n"
     ]
    }
   ],
   "source": [
    "import requests\n",
    "from bs4 import BeautifulSoup\n",
    "\n",
    "# URL of the page to scrape\n",
    "url = 'https://www.booking.com/hotel/ph/artemis-place-makati-makati.en-gb.html?aid=306395&label=manila-FQAtFrQpwv6S9K4IrmV3gAS392865645013%3Apl%3Ata%3Ap1720%3Ap2%3Aac%3Aap%3Aneg%3Afi%3Atiaud-146342137030%3Akwd-139454200%3Alp9066820%3Ali%3Adec%3Adm%3Appccp%3DUmFuZG9tSVYkc2RlIyh9YZVcNNsENnH02-pWD53qm9c&sid=fc9096d21bc731377561807eebb08b70&dest_id=-2437894;dest_type=city;dist=0;group_adults=2;group_children=0;hapos=13;hpos=13;nflt=ht_id%3D204;no_rooms=1;req_adults=2;req_children=0;room1=A%2CA;sb_price_type=total;sr_order=popularity;srepoch=1694947268;srpvid=768c46fb585a0098;type=total;ucfs=1&#hotelTmpl'\n",
    "\n",
    "# Send an HTTP GET request to the URL\n",
    "response = requests.get(url)\n",
    "\n",
    "# Check if the request was successful (status code 200)\n",
    "if response.status_code == 200:\n",
    "    # Parse the HTML content of the page\n",
    "    soup = BeautifulSoup(response.text, 'html.parser')\n",
    "\n",
    "    # Find all the room type elements\n",
    "    room_type_elements = soup.find_all(\"a\", class_=\"a83ed08757 f88a5204c2 d1c4779e7a js-legacy-room-name b98133fb50\")\n",
    "\n",
    "    # Extract and print the room types\n",
    "    room_types = [element.find(\"span\").text for element in room_type_elements]\n",
    "\n",
    "    # Print the header\n",
    "    print(\"The Room types are:\")\n",
    "\n",
    "    for room_type in room_types:\n",
    "        print(room_type)\n",
    "else:\n",
    "    print(\"Failed to retrieve the page. Status code:\", response.status_code)\n"
   ]
  },
  {
   "cell_type": "code",
   "execution_count": 119,
   "id": "2c599208",
   "metadata": {},
   "outputs": [
    {
     "name": "stdout",
     "output_type": "stream",
     "text": [
      "The amenities are:\n",
      "Free WiFi\n",
      "Free parking\n",
      "Family rooms\n",
      "Non-smoking rooms\n",
      "Room service\n",
      "24-hour front desk\n",
      "Laundry\n",
      "Lift\n"
     ]
    }
   ],
   "source": [
    "import requests\n",
    "from bs4 import BeautifulSoup\n",
    "\n",
    "# Define the URL\n",
    "url = 'https://www.booking.com/hotel/ph/artemis-place-makati-makati.en-gb.html?aid=306395&label=manila-FQAtFrQpwv6S9K4IrmV3gAS392865645013%3Apl%3Ata%3Ap1720%3Ap2%3Aac%3Aap%3Aneg%3Afi%3Atiaud-146342137030%3Akwd-139454200%3Alp9066820%3Ali%3Adec%3Adm%3Appccp%3DUmFuZG9tSVYkc2RlIyh9YZVcNNsENnH02-pWD53qm9c&sid=fc9096d21bc731377561807eebb08b70&dest_id=-2437894;dest_type=city;dist=0;group_adults=2;group_children=0;hapos=13;hpos=13;nflt=ht_id%3D204;no_rooms=1;req_adults=2;req_children=0;room1=A%2CA;sb_price_type=total;sr_order=popularity;srepoch=1694947268;srpvid=768c46fb585a0098;type=total;ucfs=1&#hotelTmpl'\n",
    "\n",
    "# Send an HTTP GET request to the URL\n",
    "response = requests.get(url)\n",
    "\n",
    "# Check if the request was successful (status code 200)\n",
    "if response.status_code == 200:\n",
    "    # Parse the HTML content\n",
    "    soup = BeautifulSoup(response.text, 'html.parser')\n",
    "\n",
    "    # Find the ul element with the specified class\n",
    "    facility_ul = soup.find(\"ul\", class_=\"c807d72881 e5e0727360 e10711a42e\")\n",
    "\n",
    "    if facility_ul:\n",
    "        # Find all the list items within the ul and extract their text\n",
    "        facility_items = facility_ul.find_all(\"li\")\n",
    "\n",
    "        # Print the header\n",
    "        print(\"The amenities are:\")\n",
    "\n",
    "        # Loop through the list items and print their text\n",
    "        for item in facility_items:\n",
    "            print(item.text.strip())\n",
    "    else:\n",
    "        print(\"Facility ul not found.\")\n",
    "else:\n",
    "    print(\"Failed to retrieve the page. Status code:\", response.status_code)\n"
   ]
  },
  {
   "cell_type": "code",
   "execution_count": 120,
   "id": "d16c9cc4",
   "metadata": {},
   "outputs": [
    {
     "name": "stdout",
     "output_type": "stream",
     "text": [
      "Review 1: No text found\n",
      "Review 2: No text found\n",
      "Review 3:\n",
      "“The penthouse is spacious and very clean, the location is good as it is close to fast food chains and restaurants, the staff where very accommodating.”\n",
      "\n",
      "Review 4:\n",
      "“Breakfast was not provided or any food but you can use food panda or grab to deliver the food. Staff is very friendly and supportive. One of my colleague lost mobile and staff even helped in that by sharing cctv footage to us. Also guided us to...”\n",
      "\n",
      "Review 5:\n",
      "“I loved the staff and the security. Amazing people.”\n",
      "\n",
      "Review 6:\n",
      "“The room (family suite) was very clean, and we had a very comfortable stay. The staff were very friendly and helpful, and were attentive to our needs. I appreciated how they updated us and kept us informed days before we checked in, and how they...”\n",
      "\n",
      "Review 7:\n",
      "“The hotel was easily accessible. Room was clean and well-maintained. Staff were also friendly and always willing to help.”\n",
      "\n",
      "Review 8:\n",
      "“The staff are quick to respond to our request. Simple accomodation but very convenient and clean.”\n",
      "\n",
      "Review 9:\n",
      "“Firstly the room was very clean, spacious and had a nice little kitchen as well as the bathroom was nice. Secondly the staff was very friendly as well as the security was great. Location is great, it cost about 200-300 Peso to city centre Manila...”\n",
      "\n",
      "Review 10:\n",
      "“The friendly staff, special thanks to Joanna & Jigs for helping me with my reservation issues.”\n",
      "\n",
      "Review 11:\n",
      "“spotlessly clean, great little studio, excellent staff.”\n",
      "\n",
      "Review 12:\n",
      "“Staffs are accomodating and has explained things very well. They made sure to cater to all our needs and has complied to our every request. Room was also clean.”\n",
      "\n",
      "Review 13: No text found\n"
     ]
    }
   ],
   "source": [
    "import requests\n",
    "from bs4 import BeautifulSoup\n",
    "\n",
    "# URL of the page to scrape\n",
    "url = 'https://www.booking.com/hotel/ph/artemis-place-makati-makati.en-gb.html?aid=306395&label=manila-FQAtFrQpwv6S9K4IrmV3gAS392865645013%3Apl%3Ata%3Ap1720%3Ap2%3Aac%3Aap%3Aneg%3Afi%3Atiaud-146342137030%3Akwd-139454200%3Alp9066820%3Ali%3Adec%3Adm%3Appccp%3DUmFuZG9tSVYkc2RlIyh9YZVcNNsENnH02-pWD53qm9c&sid=fc9096d21bc731377561807eebb08b70&dest_id=-2437894;dest_type=city;dist=0;group_adults=2;group_children=0;hapos=13;hpos=13;nflt=ht_id%3D204;no_rooms=1;req_adults=2;req_children=0;room1=A%2CA;sb_price_type=total;sr_order=popularity;srepoch=1694947268;srpvid=768c46fb585a0098;type=total;ucfs=1&#hotelTmpl'\n",
    "\n",
    "# Send an HTTP GET request to the URL\n",
    "response = requests.get(url)\n",
    "\n",
    "# Check if the request was successful (status code 200)\n",
    "if response.status_code == 200:\n",
    "    # Parse the HTML content of the page\n",
    "    soup = BeautifulSoup(response.text, 'html.parser')\n",
    "\n",
    "    # Find all the review elements\n",
    "    review_elements = soup.find_all(\"div\", class_=\"aca0ade214 aaf30230d9 cd2e7d62b0\")\n",
    "\n",
    "    # Print all review texts\n",
    "    for i, review_element in enumerate(review_elements, start=1):\n",
    "        review_text_element = review_element.find(\"div\", class_=\"a53cbfa6de c688f151a2\")\n",
    "        if review_text_element:\n",
    "            review_text = review_text_element.text.strip()\n",
    "            print(f\"Review {i}:\")\n",
    "            print(review_text)\n",
    "            print()\n",
    "        else:\n",
    "            print(f\"Review {i}: No text found\")\n",
    "else:\n",
    "    print(\"Failed to retrieve the page. Status code:\", response.status_code)\n"
   ]
  },
  {
   "cell_type": "markdown",
   "id": "059c7753",
   "metadata": {},
   "source": [
    "#  13. Anex Hotel near US Embassy"
   ]
  },
  {
   "cell_type": "code",
   "execution_count": 121,
   "id": "61786494",
   "metadata": {},
   "outputs": [
    {
     "name": "stdout",
     "output_type": "stream",
     "text": [
      "Anex Hotel near US Embassy\n"
     ]
    }
   ],
   "source": [
    "import requests\n",
    "from bs4 import BeautifulSoup\n",
    "\n",
    "# Define the URL\n",
    "url = 'https://www.booking.com/hotel/ph/anex-manila.en-gb.html?aid=306395&label=manila-FQAtFrQpwv6S9K4IrmV3gAS392865645013%3Apl%3Ata%3Ap1720%3Ap2%3Aac%3Aap%3Aneg%3Afi%3Atiaud-146342137030%3Akwd-139454200%3Alp9066820%3Ali%3Adec%3Adm%3Appccp%3DUmFuZG9tSVYkc2RlIyh9YZVcNNsENnH02-pWD53qm9c&sid=fc9096d21bc731377561807eebb08b70&dest_id=-2437894;dest_type=city;dist=0;group_adults=2;group_children=0;hapos=14;hpos=14;nflt=ht_id%3D204;no_rooms=1;req_adults=2;req_children=0;room1=A%2CA;sb_price_type=total;sr_order=popularity;srepoch=1694947268;srpvid=768c46fb585a0098;type=total;ucfs=1&#hotelTmpl'\n",
    "\n",
    "# Send an HTTP GET request to the URL\n",
    "\n",
    "response = requests.get(url)\n",
    "\n",
    "# Check if the request was successful (status code 200)\n",
    "if response.status_code == 200:\n",
    "    # Parse the HTML content\n",
    "    soup = BeautifulSoup(response.text, 'html.parser')\n",
    "\n",
    "    # Find the h2 element with the specified class\n",
    "    h2_element = soup.find(\"h2\", class_=\"d2fee87262 pp-header__title\")\n",
    "\n",
    "    # Extract and print the text content of the h2 element\n",
    "    if h2_element:\n",
    "        print(h2_element.text.strip())\n",
    "    else:\n",
    "        print(\"H2 element not found.\")\n",
    "else:\n",
    "    print(\"Failed to retrieve the page. Status code:\", response.status_code)\n"
   ]
  },
  {
   "cell_type": "code",
   "execution_count": 122,
   "id": "4374497a",
   "metadata": {},
   "outputs": [
    {
     "name": "stdout",
     "output_type": "stream",
     "text": [
      "The location is 1125 M. H. Del Pilar Street, 1000 Manila, Philippines\n"
     ]
    }
   ],
   "source": [
    "import requests\n",
    "from bs4 import BeautifulSoup\n",
    "\n",
    "\n",
    "# Define the URL\n",
    "url = 'https://www.booking.com/hotel/ph/anex-manila.en-gb.html?aid=306395&label=manila-FQAtFrQpwv6S9K4IrmV3gAS392865645013%3Apl%3Ata%3Ap1720%3Ap2%3Aac%3Aap%3Aneg%3Afi%3Atiaud-146342137030%3Akwd-139454200%3Alp9066820%3Ali%3Adec%3Adm%3Appccp%3DUmFuZG9tSVYkc2RlIyh9YZVcNNsENnH02-pWD53qm9c&sid=fc9096d21bc731377561807eebb08b70&dest_id=-2437894;dest_type=city;dist=0;group_adults=2;group_children=0;hapos=14;hpos=14;nflt=ht_id%3D204;no_rooms=1;req_adults=2;req_children=0;room1=A%2CA;sb_price_type=total;sr_order=popularity;srepoch=1694947268;srpvid=768c46fb585a0098;type=total;ucfs=1&#hotelTmpl'\n",
    "\n",
    "# Send an HTTP GET request to the URL\n",
    "response = requests.get(url)\n",
    "\n",
    "# Check if the request was successful (status code 200)\n",
    "if response.status_code == 200:\n",
    "    # Parse the HTML content\n",
    "    soup = BeautifulSoup(response.text, 'html.parser')\n",
    "\n",
    "    # Find the span element with the specified class and extract the address\n",
    "    address_element = soup.find(\"span\", class_=\"hp_address_subtitle\")\n",
    "\n",
    "    if address_element:\n",
    "        address = address_element.text.strip()\n",
    "        print(\"The location is\" ,address)\n",
    "    else:\n",
    "        print(\"Address element not found.\")\n",
    "else:\n",
    "    print(\"Failed to retrieve the page. Status code:\", response.status_code)\n"
   ]
  },
  {
   "cell_type": "code",
   "execution_count": 123,
   "id": "7a81e2b1",
   "metadata": {},
   "outputs": [
    {
     "name": "stdout",
     "output_type": "stream",
     "text": [
      "The Room types are:\n",
      "Deluxe Double Room\n",
      "Deluxe Twin Room\n",
      "Standard Double Room\n",
      "Standard Single Room\n"
     ]
    }
   ],
   "source": [
    "import requests\n",
    "from bs4 import BeautifulSoup\n",
    "\n",
    "# URL of the page to scrape\n",
    "url = 'https://www.booking.com/hotel/ph/anex-manila.en-gb.html?aid=306395&label=manila-FQAtFrQpwv6S9K4IrmV3gAS392865645013%3Apl%3Ata%3Ap1720%3Ap2%3Aac%3Aap%3Aneg%3Afi%3Atiaud-146342137030%3Akwd-139454200%3Alp9066820%3Ali%3Adec%3Adm%3Appccp%3DUmFuZG9tSVYkc2RlIyh9YZVcNNsENnH02-pWD53qm9c&sid=fc9096d21bc731377561807eebb08b70&dest_id=-2437894;dest_type=city;dist=0;group_adults=2;group_children=0;hapos=14;hpos=14;nflt=ht_id%3D204;no_rooms=1;req_adults=2;req_children=0;room1=A%2CA;sb_price_type=total;sr_order=popularity;srepoch=1694947268;srpvid=768c46fb585a0098;type=total;ucfs=1&#hotelTmpl'\n",
    "\n",
    "# Send an HTTP GET request to the URL\n",
    "response = requests.get(url)\n",
    "\n",
    "# Check if the request was successful (status code 200)\n",
    "if response.status_code == 200:\n",
    "    # Parse the HTML content of the page\n",
    "    soup = BeautifulSoup(response.text, 'html.parser')\n",
    "\n",
    "    # Find all the room type elements\n",
    "    room_type_elements = soup.find_all(\"a\", class_=\"a83ed08757 f88a5204c2 d1c4779e7a js-legacy-room-name b98133fb50\")\n",
    "\n",
    "    # Extract and print the room types\n",
    "    room_types = [element.find(\"span\").text for element in room_type_elements]\n",
    "\n",
    "    # Print the header\n",
    "    print(\"The Room types are:\")\n",
    "\n",
    "    for room_type in room_types:\n",
    "        print(room_type)\n",
    "else:\n",
    "    print(\"Failed to retrieve the page. Status code:\", response.status_code)\n"
   ]
  },
  {
   "cell_type": "code",
   "execution_count": 124,
   "id": "0acd0c20",
   "metadata": {},
   "outputs": [
    {
     "name": "stdout",
     "output_type": "stream",
     "text": [
      "The amenities are:\n",
      "Free WiFi\n",
      "Airport shuttle (free)\n",
      "Private parking\n",
      "Non-smoking rooms\n",
      "Restaurant\n",
      "Room service\n",
      "24-hour front desk\n",
      "Bar\n",
      "Laundry\n",
      "Breakfast\n"
     ]
    }
   ],
   "source": [
    "import requests\n",
    "from bs4 import BeautifulSoup\n",
    "\n",
    "# Define the URL\n",
    "url = 'https://www.booking.com/hotel/ph/anex-manila.en-gb.html?aid=306395&label=manila-FQAtFrQpwv6S9K4IrmV3gAS392865645013%3Apl%3Ata%3Ap1720%3Ap2%3Aac%3Aap%3Aneg%3Afi%3Atiaud-146342137030%3Akwd-139454200%3Alp9066820%3Ali%3Adec%3Adm%3Appccp%3DUmFuZG9tSVYkc2RlIyh9YZVcNNsENnH02-pWD53qm9c&sid=fc9096d21bc731377561807eebb08b70&dest_id=-2437894;dest_type=city;dist=0;group_adults=2;group_children=0;hapos=14;hpos=14;nflt=ht_id%3D204;no_rooms=1;req_adults=2;req_children=0;room1=A%2CA;sb_price_type=total;sr_order=popularity;srepoch=1694947268;srpvid=768c46fb585a0098;type=total;ucfs=1&#hotelTmpl'\n",
    "\n",
    "# Send an HTTP GET request to the URL\n",
    "response = requests.get(url)\n",
    "\n",
    "# Check if the request was successful (status code 200)\n",
    "if response.status_code == 200:\n",
    "    # Parse the HTML content\n",
    "    soup = BeautifulSoup(response.text, 'html.parser')\n",
    "\n",
    "    # Find the ul element with the specified class\n",
    "    facility_ul = soup.find(\"ul\", class_=\"c807d72881 e5e0727360 e10711a42e\")\n",
    "\n",
    "    if facility_ul:\n",
    "        # Find all the list items within the ul and extract their text\n",
    "        facility_items = facility_ul.find_all(\"li\")\n",
    "\n",
    "        # Print the header\n",
    "        print(\"The amenities are:\")\n",
    "\n",
    "        # Loop through the list items and print their text\n",
    "        for item in facility_items:\n",
    "            print(item.text.strip())\n",
    "    else:\n",
    "        print(\"Facility ul not found.\")\n",
    "else:\n",
    "    print(\"Failed to retrieve the page. Status code:\", response.status_code)\n"
   ]
  },
  {
   "cell_type": "code",
   "execution_count": 125,
   "id": "d711aa90",
   "metadata": {},
   "outputs": [
    {
     "name": "stdout",
     "output_type": "stream",
     "text": [
      "Review 1: No text found\n",
      "Review 2: No text found\n",
      "Review 3: No text found\n"
     ]
    }
   ],
   "source": [
    "import requests\n",
    "from bs4 import BeautifulSoup\n",
    "\n",
    "# URL of the page to scrape\n",
    "url = 'https://www.booking.com/hotel/ph/anex-manila.en-gb.html?aid=306395&label=manila-FQAtFrQpwv6S9K4IrmV3gAS392865645013%3Apl%3Ata%3Ap1720%3Ap2%3Aac%3Aap%3Aneg%3Afi%3Atiaud-146342137030%3Akwd-139454200%3Alp9066820%3Ali%3Adec%3Adm%3Appccp%3DUmFuZG9tSVYkc2RlIyh9YZVcNNsENnH02-pWD53qm9c&sid=fc9096d21bc731377561807eebb08b70&dest_id=-2437894;dest_type=city;dist=0;group_adults=2;group_children=0;hapos=14;hpos=14;nflt=ht_id%3D204;no_rooms=1;req_adults=2;req_children=0;room1=A%2CA;sb_price_type=total;sr_order=popularity;srepoch=1694947268;srpvid=768c46fb585a0098;type=total;ucfs=1&#hotelTmpl'\n",
    "\n",
    "# Send an HTTP GET request to the URL\n",
    "response = requests.get(url)\n",
    "\n",
    "# Check if the request was successful (status code 200)\n",
    "if response.status_code == 200:\n",
    "    # Parse the HTML content of the page\n",
    "    soup = BeautifulSoup(response.text, 'html.parser')\n",
    "\n",
    "    # Find all the review elements\n",
    "    review_elements = soup.find_all(\"div\", class_=\"aca0ade214 aaf30230d9 cd2e7d62b0\")\n",
    "\n",
    "    # Print all review texts\n",
    "    for i, review_element in enumerate(review_elements, start=1):\n",
    "        review_text_element = review_element.find(\"div\", class_=\"a53cbfa6de c688f151a2\")\n",
    "        if review_text_element:\n",
    "            review_text = review_text_element.text.strip()\n",
    "            print(f\"Review {i}:\")\n",
    "            print(review_text)\n",
    "            print()\n",
    "        else:\n",
    "            print(f\"Review {i}: No text found\")\n",
    "else:\n",
    "    print(\"Failed to retrieve the page. Status code:\", response.status_code)\n"
   ]
  },
  {
   "cell_type": "markdown",
   "id": "e5407270",
   "metadata": {},
   "source": [
    "#  14. Hop Inn Hotel Ermita Manila"
   ]
  },
  {
   "cell_type": "code",
   "execution_count": 126,
   "id": "4f32c8a5",
   "metadata": {},
   "outputs": [
    {
     "name": "stdout",
     "output_type": "stream",
     "text": [
      "Hop Inn Hotel Ermita Manila\n"
     ]
    }
   ],
   "source": [
    "import requests\n",
    "from bs4 import BeautifulSoup\n",
    "\n",
    "# Define the URL\n",
    "url = 'https://www.booking.com/hotel/ph/hop-inn-ermita-manila.en-gb.html?aid=306395&label=manila-FQAtFrQpwv6S9K4IrmV3gAS392865645013%3Apl%3Ata%3Ap1720%3Ap2%3Aac%3Aap%3Aneg%3Afi%3Atiaud-146342137030%3Akwd-139454200%3Alp9066820%3Ali%3Adec%3Adm%3Appccp%3DUmFuZG9tSVYkc2RlIyh9YZVcNNsENnH02-pWD53qm9c&sid=fc9096d21bc731377561807eebb08b70&dest_id=-2437894;dest_type=city;dist=0;group_adults=2;group_children=0;hapos=15;hpos=15;nflt=ht_id%3D204;no_rooms=1;req_adults=2;req_children=0;room1=A%2CA;sb_price_type=total;sr_order=popularity;srepoch=1694947268;srpvid=768c46fb585a0098;type=total;ucfs=1&#hotelTmpl'\n",
    "\n",
    "# Send an HTTP GET request to the URL\n",
    "\n",
    "response = requests.get(url)\n",
    "\n",
    "# Check if the request was successful (status code 200)\n",
    "if response.status_code == 200:\n",
    "    # Parse the HTML content\n",
    "    soup = BeautifulSoup(response.text, 'html.parser')\n",
    "\n",
    "    # Find the h2 element with the specified class\n",
    "    h2_element = soup.find(\"h2\", class_=\"d2fee87262 pp-header__title\")\n",
    "\n",
    "    # Extract and print the text content of the h2 element\n",
    "    if h2_element:\n",
    "        print(h2_element.text.strip())\n",
    "    else:\n",
    "        print(\"H2 element not found.\")\n",
    "else:\n",
    "    print(\"Failed to retrieve the page. Status code:\", response.status_code)\n"
   ]
  },
  {
   "cell_type": "code",
   "execution_count": 127,
   "id": "feed8329",
   "metadata": {},
   "outputs": [
    {
     "name": "stdout",
     "output_type": "stream",
     "text": [
      "The location is 1850 M.H. Del Pilar Street, Malate, 1004 Manila, Philippines\n"
     ]
    }
   ],
   "source": [
    "import requests\n",
    "from bs4 import BeautifulSoup\n",
    "\n",
    "\n",
    "# Define the URL\n",
    "url = 'https://www.booking.com/hotel/ph/hop-inn-ermita-manila.en-gb.html?aid=306395&label=manila-FQAtFrQpwv6S9K4IrmV3gAS392865645013%3Apl%3Ata%3Ap1720%3Ap2%3Aac%3Aap%3Aneg%3Afi%3Atiaud-146342137030%3Akwd-139454200%3Alp9066820%3Ali%3Adec%3Adm%3Appccp%3DUmFuZG9tSVYkc2RlIyh9YZVcNNsENnH02-pWD53qm9c&sid=fc9096d21bc731377561807eebb08b70&dest_id=-2437894;dest_type=city;dist=0;group_adults=2;group_children=0;hapos=15;hpos=15;nflt=ht_id%3D204;no_rooms=1;req_adults=2;req_children=0;room1=A%2CA;sb_price_type=total;sr_order=popularity;srepoch=1694947268;srpvid=768c46fb585a0098;type=total;ucfs=1&#hotelTmpl'\n",
    "\n",
    "# Send an HTTP GET request to the URL\n",
    "response = requests.get(url)\n",
    "\n",
    "# Check if the request was successful (status code 200)\n",
    "if response.status_code == 200:\n",
    "    # Parse the HTML content\n",
    "    soup = BeautifulSoup(response.text, 'html.parser')\n",
    "\n",
    "    # Find the span element with the specified class and extract the address\n",
    "    address_element = soup.find(\"span\", class_=\"hp_address_subtitle\")\n",
    "\n",
    "    if address_element:\n",
    "        address = address_element.text.strip()\n",
    "        print(\"The location is\" ,address)\n",
    "    else:\n",
    "        print(\"Address element not found.\")\n",
    "else:\n",
    "    print(\"Failed to retrieve the page. Status code:\", response.status_code)\n"
   ]
  },
  {
   "cell_type": "code",
   "execution_count": 128,
   "id": "88568df5",
   "metadata": {},
   "outputs": [
    {
     "name": "stdout",
     "output_type": "stream",
     "text": [
      "The Room types are:\n",
      "Standard Twin Room\n",
      "Standard Double Room\n",
      "Standard Double Room with Sea View\n"
     ]
    }
   ],
   "source": [
    "import requests\n",
    "from bs4 import BeautifulSoup\n",
    "\n",
    "# URL of the page to scrape\n",
    "url = 'https://www.booking.com/hotel/ph/hop-inn-ermita-manila.en-gb.html?aid=306395&label=manila-FQAtFrQpwv6S9K4IrmV3gAS392865645013%3Apl%3Ata%3Ap1720%3Ap2%3Aac%3Aap%3Aneg%3Afi%3Atiaud-146342137030%3Akwd-139454200%3Alp9066820%3Ali%3Adec%3Adm%3Appccp%3DUmFuZG9tSVYkc2RlIyh9YZVcNNsENnH02-pWD53qm9c&sid=fc9096d21bc731377561807eebb08b70&dest_id=-2437894;dest_type=city;dist=0;group_adults=2;group_children=0;hapos=15;hpos=15;nflt=ht_id%3D204;no_rooms=1;req_adults=2;req_children=0;room1=A%2CA;sb_price_type=total;sr_order=popularity;srepoch=1694947268;srpvid=768c46fb585a0098;type=total;ucfs=1&#hotelTmpl'\n",
    "\n",
    "# Send an HTTP GET request to the URL\n",
    "response = requests.get(url)\n",
    "\n",
    "# Check if the request was successful (status code 200)\n",
    "if response.status_code == 200:\n",
    "    # Parse the HTML content of the page\n",
    "    soup = BeautifulSoup(response.text, 'html.parser')\n",
    "\n",
    "    # Find all the room type elements\n",
    "    room_type_elements = soup.find_all(\"a\", class_=\"a83ed08757 f88a5204c2 d1c4779e7a js-legacy-room-name b98133fb50\")\n",
    "\n",
    "    # Extract and print the room types\n",
    "    room_types = [element.find(\"span\").text for element in room_type_elements]\n",
    "\n",
    "    # Print the header\n",
    "    print(\"The Room types are:\")\n",
    "\n",
    "    for room_type in room_types:\n",
    "        print(room_type)\n",
    "else:\n",
    "    print(\"Failed to retrieve the page. Status code:\", response.status_code)\n"
   ]
  },
  {
   "cell_type": "code",
   "execution_count": 135,
   "id": "7f6a775c",
   "metadata": {},
   "outputs": [
    {
     "name": "stdout",
     "output_type": "stream",
     "text": [
      "The amenities are:\n",
      "Free WiFi\n",
      "Free parking\n",
      "Non-smoking rooms\n",
      "24-hour front desk\n",
      "Facilities for disabled guests\n",
      "Lift\n"
     ]
    }
   ],
   "source": [
    "import requests\n",
    "from bs4 import BeautifulSoup\n",
    "\n",
    "# Define the URL\n",
    "url = 'https://www.booking.com/hotel/ph/hop-inn-ermita-manila.en-gb.html?aid=306395&label=manila-FQAtFrQpwv6S9K4IrmV3gAS392865645013%3Apl%3Ata%3Ap1720%3Ap2%3Aac%3Aap%3Aneg%3Afi%3Atiaud-146342137030%3Akwd-139454200%3Alp9066820%3Ali%3Adec%3Adm%3Appccp%3DUmFuZG9tSVYkc2RlIyh9YZVcNNsENnH02-pWD53qm9c&sid=fc9096d21bc731377561807eebb08b70&dest_id=-2437894;dest_type=city;dist=0;group_adults=2;group_children=0;hapos=15;hpos=15;nflt=ht_id%3D204;no_rooms=1;req_adults=2;req_children=0;room1=A%2CA;sb_price_type=total;sr_order=popularity;srepoch=1694947268;srpvid=768c46fb585a0098;type=total;ucfs=1&#hotelTmpl'\n",
    "\n",
    "# Send an HTTP GET request to the URL\n",
    "response = requests.get(url)\n",
    "\n",
    "# Check if the request was successful (status code 200)\n",
    "if response.status_code == 200:\n",
    "    # Parse the HTML content\n",
    "    soup = BeautifulSoup(response.text, 'html.parser')\n",
    "\n",
    "    # Find the ul element with the specified class\n",
    "    facility_ul = soup.find(\"ul\", class_=\"c807d72881 e5e0727360 e10711a42e\")\n",
    "\n",
    "    if facility_ul:\n",
    "        # Find all the list items within the ul and extract their text\n",
    "        facility_items = facility_ul.find_all(\"li\")\n",
    "\n",
    "        # Print the header\n",
    "        print(\"The amenities are:\")\n",
    "\n",
    "        # Loop through the list items and print their text\n",
    "        for item in facility_items:\n",
    "            print(item.text.strip())\n",
    "    else:\n",
    "        print(\"Facility ul not found.\")\n",
    "else:\n",
    "    print(\"Failed to retrieve the page. Status code:\", response.status_code)\n"
   ]
  },
  {
   "cell_type": "code",
   "execution_count": 129,
   "id": "59f8182c",
   "metadata": {},
   "outputs": [
    {
     "name": "stdout",
     "output_type": "stream",
     "text": [
      "Review 1: No text found\n",
      "Review 2: No text found\n",
      "Review 3: No text found\n",
      "Review 4: No text found\n",
      "Review 5: No text found\n",
      "Review 6: No text found\n",
      "Review 7: No text found\n",
      "Review 8: No text found\n",
      "Review 9: No text found\n",
      "Review 10: No text found\n",
      "Review 11: No text found\n",
      "Review 12: No text found\n",
      "Review 13:\n",
      "“Free water refill. Hotel was very basic but clean, even with security. Everything we needed.”\n",
      "\n",
      "Review 14:\n",
      "“The room is very clean & with a comfortable bed.”\n",
      "\n",
      "Review 15:\n",
      "“Nice stay with Ultra clean room, \r\n",
      "But a hair dryer and ironing board would be a nice addition.”\n",
      "\n",
      "Review 16:\n",
      "“Very good location. There’s plenty of restaurants and takeaways within walking distance. There’s also 7-11 at the ground floor.”\n",
      "\n",
      "Review 17:\n",
      "“Well situated and clean. Ideal for a short stay in Manila.”\n",
      "\n",
      "Review 18:\n",
      "“The room is clean, and the bed is very comfortable. The location is very accessible to everything. There is a convenience store on the ground floor.”\n",
      "\n",
      "Review 19:\n",
      "“I was impressed with the quality of the room: Bed comfort, cleanliness, view of Manila Bay and politeness of reception. I will be back soon”\n",
      "\n",
      "Review 20:\n",
      "“Good basic hotel. The rooms are well equipped with A/C, strong wifi, good shower.\r\n",
      "next to the entrance you can find a 7 eleven.”\n",
      "\n",
      "Review 21:\n",
      "“city centre, accessible to shopping malls and near to airport”\n",
      "\n",
      "Review 22:\n",
      "“Facility and rooms are clean. Smells clean. No roaches. Staff are very responsive and polite. There's enough place where you can eat and work.”\n",
      "\n",
      "Review 23: No text found\n",
      "Review 24: No text found\n"
     ]
    }
   ],
   "source": [
    "import requests\n",
    "from bs4 import BeautifulSoup\n",
    "\n",
    "# URL of the page to scrape\n",
    "url = 'https://www.booking.com/hotel/ph/hop-inn-ermita-manila.en-gb.html?aid=306395&label=manila-FQAtFrQpwv6S9K4IrmV3gAS392865645013%3Apl%3Ata%3Ap1720%3Ap2%3Aac%3Aap%3Aneg%3Afi%3Atiaud-146342137030%3Akwd-139454200%3Alp9066820%3Ali%3Adec%3Adm%3Appccp%3DUmFuZG9tSVYkc2RlIyh9YZVcNNsENnH02-pWD53qm9c&sid=fc9096d21bc731377561807eebb08b70&dest_id=-2437894;dest_type=city;dist=0;group_adults=2;group_children=0;hapos=15;hpos=15;nflt=ht_id%3D204;no_rooms=1;req_adults=2;req_children=0;room1=A%2CA;sb_price_type=total;sr_order=popularity;srepoch=1694947268;srpvid=768c46fb585a0098;type=total;ucfs=1&#hotelTmpl'\n",
    "\n",
    "# Send an HTTP GET request to the URL\n",
    "response = requests.get(url)\n",
    "\n",
    "# Check if the request was successful (status code 200)\n",
    "if response.status_code == 200:\n",
    "    # Parse the HTML content of the page\n",
    "    soup = BeautifulSoup(response.text, 'html.parser')\n",
    "\n",
    "    # Find all the review elements\n",
    "    review_elements = soup.find_all(\"div\", class_=\"aca0ade214 aaf30230d9 cd2e7d62b0\")\n",
    "\n",
    "    # Print all review texts\n",
    "    for i, review_element in enumerate(review_elements, start=1):\n",
    "        review_text_element = review_element.find(\"div\", class_=\"a53cbfa6de c688f151a2\")\n",
    "        if review_text_element:\n",
    "            review_text = review_text_element.text.strip()\n",
    "            print(f\"Review {i}:\")\n",
    "            print(review_text)\n",
    "            print()\n",
    "        else:\n",
    "            print(f\"Review {i}: No text found\")\n",
    "else:\n",
    "    print(\"Failed to retrieve the page. Status code:\", response.status_code)\n"
   ]
  },
  {
   "cell_type": "markdown",
   "id": "edc802fb",
   "metadata": {},
   "source": [
    "#  15. Manila Manor Hotel"
   ]
  },
  {
   "cell_type": "code",
   "execution_count": 130,
   "id": "e8eb2d79",
   "metadata": {},
   "outputs": [
    {
     "name": "stdout",
     "output_type": "stream",
     "text": [
      "Manila Manor Hotel\n"
     ]
    }
   ],
   "source": [
    "import requests\n",
    "from bs4 import BeautifulSoup\n",
    "\n",
    "# Define the URL\n",
    "url = ' https://www.booking.com/hotel/ph/manila-manor.en-gb.html?aid=306395&label=manila-FQAtFrQpwv6S9K4IrmV3gAS392865645013%3Apl%3Ata%3Ap1720%3Ap2%3Aac%3Aap%3Aneg%3Afi%3Atiaud-146342137030%3Akwd-139454200%3Alp9066820%3Ali%3Adec%3Adm%3Appccp%3DUmFuZG9tSVYkc2RlIyh9YZVcNNsENnH02-pWD53qm9c&sid=fc9096d21bc731377561807eebb08b70&dest_id=-2437894;dest_type=city;dist=0;group_adults=2;group_children=0;hapos=17;hpos=17;nflt=ht_id%3D204;no_rooms=1;req_adults=2;req_children=0;room1=A%2CA;sb_price_type=total;sr_order=popularity;srepoch=1694947268;srpvid=768c46fb585a0098;type=total;ucfs=1&#hp_facilities_box'\n",
    "\n",
    "# Send an HTTP GET request to the URL\n",
    "\n",
    "response = requests.get(url)\n",
    "\n",
    "# Check if the request was successful (status code 200)\n",
    "if response.status_code == 200:\n",
    "    # Parse the HTML content\n",
    "    soup = BeautifulSoup(response.text, 'html.parser')\n",
    "\n",
    "    # Find the h2 element with the specified class\n",
    "    h2_element = soup.find(\"h2\", class_=\"d2fee87262 pp-header__title\")\n",
    "\n",
    "    # Extract and print the text content of the h2 element\n",
    "    if h2_element:\n",
    "        print(h2_element.text.strip())\n",
    "    else:\n",
    "        print(\"H2 element not found.\")\n",
    "else:\n",
    "    print(\"Failed to retrieve the page. Status code:\", response.status_code)\n"
   ]
  },
  {
   "cell_type": "code",
   "execution_count": 131,
   "id": "0337d207",
   "metadata": {},
   "outputs": [
    {
     "name": "stdout",
     "output_type": "stream",
     "text": [
      "The location is 1660 Jorge Bocobo Street, Malate, 1004 Manila, Philippines\n"
     ]
    }
   ],
   "source": [
    "import requests\n",
    "from bs4 import BeautifulSoup\n",
    "\n",
    "\n",
    "# Define the URL\n",
    "url = ' https://www.booking.com/hotel/ph/manila-manor.en-gb.html?aid=306395&label=manila-FQAtFrQpwv6S9K4IrmV3gAS392865645013%3Apl%3Ata%3Ap1720%3Ap2%3Aac%3Aap%3Aneg%3Afi%3Atiaud-146342137030%3Akwd-139454200%3Alp9066820%3Ali%3Adec%3Adm%3Appccp%3DUmFuZG9tSVYkc2RlIyh9YZVcNNsENnH02-pWD53qm9c&sid=fc9096d21bc731377561807eebb08b70&dest_id=-2437894;dest_type=city;dist=0;group_adults=2;group_children=0;hapos=17;hpos=17;nflt=ht_id%3D204;no_rooms=1;req_adults=2;req_children=0;room1=A%2CA;sb_price_type=total;sr_order=popularity;srepoch=1694947268;srpvid=768c46fb585a0098;type=total;ucfs=1&#hp_facilities_box'\n",
    "\n",
    "# Send an HTTP GET request to the URL\n",
    "response = requests.get(url)\n",
    "\n",
    "# Check if the request was successful (status code 200)\n",
    "if response.status_code == 200:\n",
    "    # Parse the HTML content\n",
    "    soup = BeautifulSoup(response.text, 'html.parser')\n",
    "\n",
    "    # Find the span element with the specified class and extract the address\n",
    "    address_element = soup.find(\"span\", class_=\"hp_address_subtitle\")\n",
    "\n",
    "    if address_element:\n",
    "        address = address_element.text.strip()\n",
    "        print(\"The location is\" ,address)\n",
    "    else:\n",
    "        print(\"Address element not found.\")\n",
    "else:\n",
    "    print(\"Failed to retrieve the page. Status code:\", response.status_code)\n"
   ]
  },
  {
   "cell_type": "code",
   "execution_count": 132,
   "id": "bb63afb8",
   "metadata": {},
   "outputs": [
    {
     "name": "stdout",
     "output_type": "stream",
     "text": [
      "The Room types are:\n",
      "Superior Double or Twin Room\n",
      "Deluxe Double or Twin Room\n",
      "Deluxe Suite\n",
      "Room Selected at Check In\n"
     ]
    }
   ],
   "source": [
    "import requests\n",
    "from bs4 import BeautifulSoup\n",
    "\n",
    "# URL of the page to scrape\n",
    "url = ' https://www.booking.com/hotel/ph/manila-manor.en-gb.html?aid=306395&label=manila-FQAtFrQpwv6S9K4IrmV3gAS392865645013%3Apl%3Ata%3Ap1720%3Ap2%3Aac%3Aap%3Aneg%3Afi%3Atiaud-146342137030%3Akwd-139454200%3Alp9066820%3Ali%3Adec%3Adm%3Appccp%3DUmFuZG9tSVYkc2RlIyh9YZVcNNsENnH02-pWD53qm9c&sid=fc9096d21bc731377561807eebb08b70&dest_id=-2437894;dest_type=city;dist=0;group_adults=2;group_children=0;hapos=17;hpos=17;nflt=ht_id%3D204;no_rooms=1;req_adults=2;req_children=0;room1=A%2CA;sb_price_type=total;sr_order=popularity;srepoch=1694947268;srpvid=768c46fb585a0098;type=total;ucfs=1&#hp_facilities_box'\n",
    "\n",
    "# Send an HTTP GET request to the URL\n",
    "response = requests.get(url)\n",
    "\n",
    "# Check if the request was successful (status code 200)\n",
    "if response.status_code == 200:\n",
    "    # Parse the HTML content of the page\n",
    "    soup = BeautifulSoup(response.text, 'html.parser')\n",
    "\n",
    "    # Find all the room type elements\n",
    "    room_type_elements = soup.find_all(\"a\", class_=\"a83ed08757 f88a5204c2 d1c4779e7a js-legacy-room-name b98133fb50\")\n",
    "\n",
    "    # Extract and print the room types\n",
    "    room_types = [element.find(\"span\").text for element in room_type_elements]\n",
    "\n",
    "    # Print the header\n",
    "    print(\"The Room types are:\")\n",
    "\n",
    "    for room_type in room_types:\n",
    "        print(room_type)\n",
    "else:\n",
    "    print(\"Failed to retrieve the page. Status code:\", response.status_code)\n"
   ]
  },
  {
   "cell_type": "code",
   "execution_count": 133,
   "id": "8511b8f3",
   "metadata": {},
   "outputs": [
    {
     "name": "stdout",
     "output_type": "stream",
     "text": [
      "The amenities are:\n",
      "Free WiFi\n",
      "Parking\n",
      "Non-smoking rooms\n",
      "Restaurant\n",
      "Room service\n",
      "24-hour front desk\n",
      "Laundry\n",
      "Lift\n",
      "Breakfast\n"
     ]
    }
   ],
   "source": [
    "import requests\n",
    "from bs4 import BeautifulSoup\n",
    "\n",
    "# Define the URL\n",
    "url = ' https://www.booking.com/hotel/ph/manila-manor.en-gb.html?aid=306395&label=manila-FQAtFrQpwv6S9K4IrmV3gAS392865645013%3Apl%3Ata%3Ap1720%3Ap2%3Aac%3Aap%3Aneg%3Afi%3Atiaud-146342137030%3Akwd-139454200%3Alp9066820%3Ali%3Adec%3Adm%3Appccp%3DUmFuZG9tSVYkc2RlIyh9YZVcNNsENnH02-pWD53qm9c&sid=fc9096d21bc731377561807eebb08b70&dest_id=-2437894;dest_type=city;dist=0;group_adults=2;group_children=0;hapos=17;hpos=17;nflt=ht_id%3D204;no_rooms=1;req_adults=2;req_children=0;room1=A%2CA;sb_price_type=total;sr_order=popularity;srepoch=1694947268;srpvid=768c46fb585a0098;type=total;ucfs=1&#hp_facilities_box'\n",
    "\n",
    "# Send an HTTP GET request to the URL\n",
    "response = requests.get(url)\n",
    "\n",
    "# Check if the request was successful (status code 200)\n",
    "if response.status_code == 200:\n",
    "    # Parse the HTML content\n",
    "    soup = BeautifulSoup(response.text, 'html.parser')\n",
    "\n",
    "    # Find the ul element with the specified class\n",
    "    facility_ul = soup.find(\"ul\", class_=\"c807d72881 e5e0727360 e10711a42e\")\n",
    "\n",
    "    if facility_ul:\n",
    "        # Find all the list items within the ul and extract their text\n",
    "        facility_items = facility_ul.find_all(\"li\")\n",
    "\n",
    "        # Print the header\n",
    "        print(\"The amenities are:\")\n",
    "\n",
    "        # Loop through the list items and print their text\n",
    "        for item in facility_items:\n",
    "            print(item.text.strip())\n",
    "    else:\n",
    "        print(\"Facility ul not found.\")\n",
    "else:\n",
    "    print(\"Failed to retrieve the page. Status code:\", response.status_code)\n"
   ]
  },
  {
   "cell_type": "code",
   "execution_count": 134,
   "id": "ab2282f7",
   "metadata": {},
   "outputs": [
    {
     "name": "stdout",
     "output_type": "stream",
     "text": [
      "Review 1: No text found\n",
      "Review 2: No text found\n"
     ]
    }
   ],
   "source": [
    "import requests\n",
    "from bs4 import BeautifulSoup\n",
    "\n",
    "# URL of the page to scrape\n",
    "url = ' https://www.booking.com/hotel/ph/manila-manor.en-gb.html?aid=306395&label=manila-FQAtFrQpwv6S9K4IrmV3gAS392865645013%3Apl%3Ata%3Ap1720%3Ap2%3Aac%3Aap%3Aneg%3Afi%3Atiaud-146342137030%3Akwd-139454200%3Alp9066820%3Ali%3Adec%3Adm%3Appccp%3DUmFuZG9tSVYkc2RlIyh9YZVcNNsENnH02-pWD53qm9c&sid=fc9096d21bc731377561807eebb08b70&dest_id=-2437894;dest_type=city;dist=0;group_adults=2;group_children=0;hapos=17;hpos=17;nflt=ht_id%3D204;no_rooms=1;req_adults=2;req_children=0;room1=A%2CA;sb_price_type=total;sr_order=popularity;srepoch=1694947268;srpvid=768c46fb585a0098;type=total;ucfs=1&#hp_facilities_box'\n",
    "\n",
    "# Send an HTTP GET request to the URL\n",
    "response = requests.get(url)\n",
    "\n",
    "# Check if the request was successful (status code 200)\n",
    "if response.status_code == 200:\n",
    "    # Parse the HTML content of the page\n",
    "    soup = BeautifulSoup(response.text, 'html.parser')\n",
    "\n",
    "    # Find all the review elements\n",
    "    review_elements = soup.find_all(\"div\", class_=\"aca0ade214 aaf30230d9 cd2e7d62b0\")\n",
    "\n",
    "    # Print all review texts\n",
    "    for i, review_element in enumerate(review_elements, start=1):\n",
    "        review_text_element = review_element.find(\"div\", class_=\"a53cbfa6de c688f151a2\")\n",
    "        if review_text_element:\n",
    "            review_text = review_text_element.text.strip()\n",
    "            print(f\"Review {i}:\")\n",
    "            print(review_text)\n",
    "            print()\n",
    "        else:\n",
    "            print(f\"Review {i}: No text found\")\n",
    "else:\n",
    "    print(\"Failed to retrieve the page. Status code:\", response.status_code)\n"
   ]
  },
  {
   "cell_type": "markdown",
   "id": "a4b09d2a",
   "metadata": {},
   "source": [
    "#  16. Hop Inn Hotel Aseana City Manila"
   ]
  },
  {
   "cell_type": "code",
   "execution_count": 136,
   "id": "69a31970",
   "metadata": {},
   "outputs": [
    {
     "name": "stdout",
     "output_type": "stream",
     "text": [
      "Hop Inn Hotel Aseana City Manila\n"
     ]
    }
   ],
   "source": [
    "import requests\n",
    "from bs4 import BeautifulSoup\n",
    "\n",
    "# Define the URL\n",
    "url = 'https://www.booking.com/hotel/ph/hop-inn-aseana-city-manila.en-gb.html?aid=306395&label=manila-FQAtFrQpwv6S9K4IrmV3gAS392865645013%3Apl%3Ata%3Ap1720%3Ap2%3Aac%3Aap%3Aneg%3Afi%3Atiaud-146342137030%3Akwd-139454200%3Alp9066820%3Ali%3Adec%3Adm%3Appccp%3DUmFuZG9tSVYkc2RlIyh9YZVcNNsENnH02-pWD53qm9c&sid=fc9096d21bc731377561807eebb08b70&dest_id=-2437894;dest_type=city;dist=0;group_adults=2;group_children=0;hapos=19;hpos=19;nflt=ht_id%3D204;no_rooms=1;req_adults=2;req_children=0;room1=A%2CA;sb_price_type=total;sr_order=popularity;srepoch=1694947268;srpvid=768c46fb585a0098;type=total;ucfs=1&#hotelTmpl'\n",
    "\n",
    "# Send an HTTP GET request to the URL\n",
    "\n",
    "response = requests.get(url)\n",
    "\n",
    "# Check if the request was successful (status code 200)\n",
    "if response.status_code == 200:\n",
    "    # Parse the HTML content\n",
    "    soup = BeautifulSoup(response.text, 'html.parser')\n",
    "\n",
    "    # Find the h2 element with the specified class\n",
    "    h2_element = soup.find(\"h2\", class_=\"d2fee87262 pp-header__title\")\n",
    "\n",
    "    # Extract and print the text content of the h2 element\n",
    "    if h2_element:\n",
    "        print(h2_element.text.strip())\n",
    "    else:\n",
    "        print(\"H2 element not found.\")\n",
    "else:\n",
    "    print(\"Failed to retrieve the page. Status code:\", response.status_code)\n"
   ]
  },
  {
   "cell_type": "code",
   "execution_count": 137,
   "id": "4b410111",
   "metadata": {},
   "outputs": [
    {
     "name": "stdout",
     "output_type": "stream",
     "text": [
      "The location is Lot 9 Block 5, near corner of Bradco Avenue and Macapagal Boulevard, Aseana City,, Paranaque, 1702 Manila, Philippines\n"
     ]
    }
   ],
   "source": [
    "import requests\n",
    "from bs4 import BeautifulSoup\n",
    "\n",
    "\n",
    "# Define the URL\n",
    "url = 'https://www.booking.com/hotel/ph/hop-inn-aseana-city-manila.en-gb.html?aid=306395&label=manila-FQAtFrQpwv6S9K4IrmV3gAS392865645013%3Apl%3Ata%3Ap1720%3Ap2%3Aac%3Aap%3Aneg%3Afi%3Atiaud-146342137030%3Akwd-139454200%3Alp9066820%3Ali%3Adec%3Adm%3Appccp%3DUmFuZG9tSVYkc2RlIyh9YZVcNNsENnH02-pWD53qm9c&sid=fc9096d21bc731377561807eebb08b70&dest_id=-2437894;dest_type=city;dist=0;group_adults=2;group_children=0;hapos=19;hpos=19;nflt=ht_id%3D204;no_rooms=1;req_adults=2;req_children=0;room1=A%2CA;sb_price_type=total;sr_order=popularity;srepoch=1694947268;srpvid=768c46fb585a0098;type=total;ucfs=1&#hotelTmpl'\n",
    "\n",
    "# Send an HTTP GET request to the URL\n",
    "response = requests.get(url)\n",
    "\n",
    "# Check if the request was successful (status code 200)\n",
    "if response.status_code == 200:\n",
    "    # Parse the HTML content\n",
    "    soup = BeautifulSoup(response.text, 'html.parser')\n",
    "\n",
    "    # Find the span element with the specified class and extract the address\n",
    "    address_element = soup.find(\"span\", class_=\"hp_address_subtitle\")\n",
    "\n",
    "    if address_element:\n",
    "        address = address_element.text.strip()\n",
    "        print(\"The location is\" ,address)\n",
    "    else:\n",
    "        print(\"Address element not found.\")\n",
    "else:\n",
    "    print(\"Failed to retrieve the page. Status code:\", response.status_code)\n"
   ]
  },
  {
   "cell_type": "code",
   "execution_count": 138,
   "id": "eef7b009",
   "metadata": {},
   "outputs": [
    {
     "name": "stdout",
     "output_type": "stream",
     "text": [
      "The Room types are:\n",
      "Standard Double Room\n",
      "Standard Twin Room\n",
      "Deluxe Room\n"
     ]
    }
   ],
   "source": [
    "import requests\n",
    "from bs4 import BeautifulSoup\n",
    "\n",
    "# URL of the page to scrape\n",
    "url = 'https://www.booking.com/hotel/ph/hop-inn-aseana-city-manila.en-gb.html?aid=306395&label=manila-FQAtFrQpwv6S9K4IrmV3gAS392865645013%3Apl%3Ata%3Ap1720%3Ap2%3Aac%3Aap%3Aneg%3Afi%3Atiaud-146342137030%3Akwd-139454200%3Alp9066820%3Ali%3Adec%3Adm%3Appccp%3DUmFuZG9tSVYkc2RlIyh9YZVcNNsENnH02-pWD53qm9c&sid=fc9096d21bc731377561807eebb08b70&dest_id=-2437894;dest_type=city;dist=0;group_adults=2;group_children=0;hapos=19;hpos=19;nflt=ht_id%3D204;no_rooms=1;req_adults=2;req_children=0;room1=A%2CA;sb_price_type=total;sr_order=popularity;srepoch=1694947268;srpvid=768c46fb585a0098;type=total;ucfs=1&#hotelTmpl'\n",
    "\n",
    "# Send an HTTP GET request to the URL\n",
    "response = requests.get(url)\n",
    "\n",
    "# Check if the request was successful (status code 200)\n",
    "if response.status_code == 200:\n",
    "    # Parse the HTML content of the page\n",
    "    soup = BeautifulSoup(response.text, 'html.parser')\n",
    "\n",
    "    # Find all the room type elements\n",
    "    room_type_elements = soup.find_all(\"a\", class_=\"a83ed08757 f88a5204c2 d1c4779e7a js-legacy-room-name b98133fb50\")\n",
    "\n",
    "    # Extract and print the room types\n",
    "    room_types = [element.find(\"span\").text for element in room_type_elements]\n",
    "\n",
    "    # Print the header\n",
    "    print(\"The Room types are:\")\n",
    "\n",
    "    for room_type in room_types:\n",
    "        print(room_type)\n",
    "else:\n",
    "    print(\"Failed to retrieve the page. Status code:\", response.status_code)\n"
   ]
  },
  {
   "cell_type": "code",
   "execution_count": 139,
   "id": "5cf23088",
   "metadata": {},
   "outputs": [
    {
     "name": "stdout",
     "output_type": "stream",
     "text": [
      "The amenities are:\n",
      "Free WiFi\n",
      "Non-smoking rooms\n",
      "24-hour front desk\n",
      "Facilities for disabled guests\n",
      "Lift\n"
     ]
    }
   ],
   "source": [
    "import requests\n",
    "from bs4 import BeautifulSoup\n",
    "\n",
    "# Define the URL\n",
    "url = 'https://www.booking.com/hotel/ph/hop-inn-aseana-city-manila.en-gb.html?aid=306395&label=manila-FQAtFrQpwv6S9K4IrmV3gAS392865645013%3Apl%3Ata%3Ap1720%3Ap2%3Aac%3Aap%3Aneg%3Afi%3Atiaud-146342137030%3Akwd-139454200%3Alp9066820%3Ali%3Adec%3Adm%3Appccp%3DUmFuZG9tSVYkc2RlIyh9YZVcNNsENnH02-pWD53qm9c&sid=fc9096d21bc731377561807eebb08b70&dest_id=-2437894;dest_type=city;dist=0;group_adults=2;group_children=0;hapos=19;hpos=19;nflt=ht_id%3D204;no_rooms=1;req_adults=2;req_children=0;room1=A%2CA;sb_price_type=total;sr_order=popularity;srepoch=1694947268;srpvid=768c46fb585a0098;type=total;ucfs=1&#hotelTmpl'\n",
    "\n",
    "# Send an HTTP GET request to the URL\n",
    "response = requests.get(url)\n",
    "\n",
    "# Check if the request was successful (status code 200)\n",
    "if response.status_code == 200:\n",
    "    # Parse the HTML content\n",
    "    soup = BeautifulSoup(response.text, 'html.parser')\n",
    "\n",
    "    # Find the ul element with the specified class\n",
    "    facility_ul = soup.find(\"ul\", class_=\"c807d72881 e5e0727360 e10711a42e\")\n",
    "\n",
    "    if facility_ul:\n",
    "        # Find all the list items within the ul and extract their text\n",
    "        facility_items = facility_ul.find_all(\"li\")\n",
    "\n",
    "        # Print the header\n",
    "        print(\"The amenities are:\")\n",
    "\n",
    "        # Loop through the list items and print their text\n",
    "        for item in facility_items:\n",
    "            print(item.text.strip())\n",
    "    else:\n",
    "        print(\"Facility ul not found.\")\n",
    "else:\n",
    "    print(\"Failed to retrieve the page. Status code:\", response.status_code)\n"
   ]
  },
  {
   "cell_type": "code",
   "execution_count": 140,
   "id": "f6a7f4c0",
   "metadata": {},
   "outputs": [
    {
     "name": "stdout",
     "output_type": "stream",
     "text": [
      "Review 1: No text found\n",
      "Review 2: No text found\n",
      "Review 3: No text found\n",
      "Review 4: No text found\n",
      "Review 5: No text found\n",
      "Review 6: No text found\n",
      "Review 7: No text found\n",
      "Review 8: No text found\n",
      "Review 9: No text found\n",
      "Review 10: No text found\n",
      "Review 11: No text found\n",
      "Review 12: No text found\n",
      "Review 13:\n",
      "“Clean and perfectly adequate. Nothing luxurious but was great value.”\n",
      "\n",
      "Review 14:\n",
      "“The room is clean and comfortable. The room set up is ideal for working traveller. The hotel location is good and close to various establishments. Staffs are friendly and helpful. Definitely gonna book again.”\n",
      "\n",
      "Review 15:\n",
      "“Very clean and all the staff were very helpful and welcoming.”\n",
      "\n",
      "Review 16:\n",
      "“Comfortable, very accesseble to other places and i will recommend to my friends. Thanks”\n",
      "\n",
      "Review 17:\n",
      "“Close to many restaurants and location itself help us to discover beautiful city of makati, few km away from Manila bay and the biggest mall in Asia”\n",
      "\n",
      "Review 18:\n",
      "“Bed.  It was soft good for my back.  \n",
      "Quick check in\n",
      "Perfect location \n",
      "Security personnel is courteious anf helpful.”\n",
      "\n",
      "Review 19:\n",
      "“The staff was pleasant and accommodating. I found the rooms to be neat and well-maintained, with a reliable wifi connection. There's a 7-11 downstairs. There was free parking available on a first-come-first-served basis. Despite coming and going...”\n",
      "\n",
      "Review 20:\n",
      "“Quiet neighbourhood, still in development. Small but clean room with a comfortable bed and cotton sheets. You can keep your lugage safely at the hotel before departure.”\n",
      "\n",
      "Review 21:\n",
      "“Nice staff  very accomodating.specially when u as a favor to book a grab or taxi.on time coming”\n",
      "\n",
      "Review 22:\n",
      "“new hotel. Room are clean. location is good. 7-11 just besides the hotel. nice chinese restaurant just opposite the hotel.”\n",
      "\n",
      "Review 23: No text found\n",
      "Review 24: No text found\n"
     ]
    }
   ],
   "source": [
    "import requests\n",
    "from bs4 import BeautifulSoup\n",
    "\n",
    "# URL of the page to scrape\n",
    "url = 'https://www.booking.com/hotel/ph/hop-inn-aseana-city-manila.en-gb.html?aid=306395&label=manila-FQAtFrQpwv6S9K4IrmV3gAS392865645013%3Apl%3Ata%3Ap1720%3Ap2%3Aac%3Aap%3Aneg%3Afi%3Atiaud-146342137030%3Akwd-139454200%3Alp9066820%3Ali%3Adec%3Adm%3Appccp%3DUmFuZG9tSVYkc2RlIyh9YZVcNNsENnH02-pWD53qm9c&sid=fc9096d21bc731377561807eebb08b70&dest_id=-2437894;dest_type=city;dist=0;group_adults=2;group_children=0;hapos=19;hpos=19;nflt=ht_id%3D204;no_rooms=1;req_adults=2;req_children=0;room1=A%2CA;sb_price_type=total;sr_order=popularity;srepoch=1694947268;srpvid=768c46fb585a0098;type=total;ucfs=1&#hotelTmpl'\n",
    "\n",
    "# Send an HTTP GET request to the URL\n",
    "response = requests.get(url)\n",
    "\n",
    "# Check if the request was successful (status code 200)\n",
    "if response.status_code == 200:\n",
    "    # Parse the HTML content of the page\n",
    "    soup = BeautifulSoup(response.text, 'html.parser')\n",
    "\n",
    "    # Find all the review elements\n",
    "    review_elements = soup.find_all(\"div\", class_=\"aca0ade214 aaf30230d9 cd2e7d62b0\")\n",
    "\n",
    "    # Print all review texts\n",
    "    for i, review_element in enumerate(review_elements, start=1):\n",
    "        review_text_element = review_element.find(\"div\", class_=\"a53cbfa6de c688f151a2\")\n",
    "        if review_text_element:\n",
    "            review_text = review_text_element.text.strip()\n",
    "            print(f\"Review {i}:\")\n",
    "            print(review_text)\n",
    "            print()\n",
    "        else:\n",
    "            print(f\"Review {i}: No text found\")\n",
    "else:\n",
    "    print(\"Failed to retrieve the page. Status code:\", response.status_code)\n"
   ]
  },
  {
   "cell_type": "markdown",
   "id": "19504250",
   "metadata": {},
   "source": [
    "#  17. City Garden Grand Hotel"
   ]
  },
  {
   "cell_type": "code",
   "execution_count": 141,
   "id": "0cbc4585",
   "metadata": {},
   "outputs": [
    {
     "name": "stdout",
     "output_type": "stream",
     "text": [
      "City Garden Grand Hotel\n"
     ]
    }
   ],
   "source": [
    "import requests\n",
    "from bs4 import BeautifulSoup\n",
    "\n",
    "# Define the URL\n",
    "url = 'https://www.booking.com/hotel/ph/city-garden-grand-makati.en-gb.html?aid=306395&label=manila-FQAtFrQpwv6S9K4IrmV3gAS392865645013%3Apl%3Ata%3Ap1720%3Ap2%3Aac%3Aap%3Aneg%3Afi%3Atiaud-146342137030%3Akwd-139454200%3Alp9066820%3Ali%3Adec%3Adm%3Appccp%3DUmFuZG9tSVYkc2RlIyh9YZVcNNsENnH02-pWD53qm9c&sid=fc9096d21bc731377561807eebb08b70&dest_id=-2437894;dest_type=city;dist=0;group_adults=2;group_children=0;hapos=20;hpos=20;nflt=ht_id%3D204;no_rooms=1;req_adults=2;req_children=0;room1=A%2CA;sb_price_type=total;sr_order=popularity;srepoch=1694947268;srpvid=768c46fb585a0098;type=total;ucfs=1&#hotelTmpl'\n",
    "\n",
    "# Send an HTTP GET request to the URL\n",
    "\n",
    "response = requests.get(url)\n",
    "\n",
    "# Check if the request was successful (status code 200)\n",
    "if response.status_code == 200:\n",
    "    # Parse the HTML content\n",
    "    soup = BeautifulSoup(response.text, 'html.parser')\n",
    "\n",
    "    # Find the h2 element with the specified class\n",
    "    h2_element = soup.find(\"h2\", class_=\"d2fee87262 pp-header__title\")\n",
    "\n",
    "    # Extract and print the text content of the h2 element\n",
    "    if h2_element:\n",
    "        print(h2_element.text.strip())\n",
    "    else:\n",
    "        print(\"H2 element not found.\")\n",
    "else:\n",
    "    print(\"Failed to retrieve the page. Status code:\", response.status_code)\n"
   ]
  },
  {
   "cell_type": "code",
   "execution_count": 142,
   "id": "a7264159",
   "metadata": {},
   "outputs": [
    {
     "name": "stdout",
     "output_type": "stream",
     "text": [
      "The location is 8008 Makati Avenue, Corner Kalayaan, Makati, 1200 Manila, Philippines\n"
     ]
    }
   ],
   "source": [
    "import requests\n",
    "from bs4 import BeautifulSoup\n",
    "\n",
    "\n",
    "# Define the URL\n",
    "url = 'https://www.booking.com/hotel/ph/city-garden-grand-makati.en-gb.html?aid=306395&label=manila-FQAtFrQpwv6S9K4IrmV3gAS392865645013%3Apl%3Ata%3Ap1720%3Ap2%3Aac%3Aap%3Aneg%3Afi%3Atiaud-146342137030%3Akwd-139454200%3Alp9066820%3Ali%3Adec%3Adm%3Appccp%3DUmFuZG9tSVYkc2RlIyh9YZVcNNsENnH02-pWD53qm9c&sid=fc9096d21bc731377561807eebb08b70&dest_id=-2437894;dest_type=city;dist=0;group_adults=2;group_children=0;hapos=20;hpos=20;nflt=ht_id%3D204;no_rooms=1;req_adults=2;req_children=0;room1=A%2CA;sb_price_type=total;sr_order=popularity;srepoch=1694947268;srpvid=768c46fb585a0098;type=total;ucfs=1&#hotelTmpl'\n",
    "\n",
    "# Send an HTTP GET request to the URL\n",
    "response = requests.get(url)\n",
    "\n",
    "# Check if the request was successful (status code 200)\n",
    "if response.status_code == 200:\n",
    "    # Parse the HTML content\n",
    "    soup = BeautifulSoup(response.text, 'html.parser')\n",
    "\n",
    "    # Find the span element with the specified class and extract the address\n",
    "    address_element = soup.find(\"span\", class_=\"hp_address_subtitle\")\n",
    "\n",
    "    if address_element:\n",
    "        address = address_element.text.strip()\n",
    "        print(\"The location is\" ,address)\n",
    "    else:\n",
    "        print(\"Address element not found.\")\n",
    "else:\n",
    "    print(\"Failed to retrieve the page. Status code:\", response.status_code)\n"
   ]
  },
  {
   "cell_type": "code",
   "execution_count": 143,
   "id": "a8346e6e",
   "metadata": {},
   "outputs": [
    {
     "name": "stdout",
     "output_type": "stream",
     "text": [
      "The Room types are:\n",
      "Deluxe Twin Room\n",
      "Superior Twin Room\n",
      "Deluxe King Room\n",
      "Superior King Room\n",
      "Junior Suite\n",
      "Grand Suite\n",
      "Standard King Room - No View\n",
      "Standard Twin Room - No View\n"
     ]
    }
   ],
   "source": [
    "import requests\n",
    "from bs4 import BeautifulSoup\n",
    "\n",
    "# URL of the page to scrape\n",
    "url = 'https://www.booking.com/hotel/ph/city-garden-grand-makati.en-gb.html?aid=306395&label=manila-FQAtFrQpwv6S9K4IrmV3gAS392865645013%3Apl%3Ata%3Ap1720%3Ap2%3Aac%3Aap%3Aneg%3Afi%3Atiaud-146342137030%3Akwd-139454200%3Alp9066820%3Ali%3Adec%3Adm%3Appccp%3DUmFuZG9tSVYkc2RlIyh9YZVcNNsENnH02-pWD53qm9c&sid=fc9096d21bc731377561807eebb08b70&dest_id=-2437894;dest_type=city;dist=0;group_adults=2;group_children=0;hapos=20;hpos=20;nflt=ht_id%3D204;no_rooms=1;req_adults=2;req_children=0;room1=A%2CA;sb_price_type=total;sr_order=popularity;srepoch=1694947268;srpvid=768c46fb585a0098;type=total;ucfs=1&#hotelTmpl'\n",
    "\n",
    "# Send an HTTP GET request to the URL\n",
    "response = requests.get(url)\n",
    "\n",
    "# Check if the request was successful (status code 200)\n",
    "if response.status_code == 200:\n",
    "    # Parse the HTML content of the page\n",
    "    soup = BeautifulSoup(response.text, 'html.parser')\n",
    "\n",
    "    # Find all the room type elements\n",
    "    room_type_elements = soup.find_all(\"a\", class_=\"a83ed08757 f88a5204c2 d1c4779e7a js-legacy-room-name b98133fb50\")\n",
    "\n",
    "    # Extract and print the room types\n",
    "    room_types = [element.find(\"span\").text for element in room_type_elements]\n",
    "\n",
    "    # Print the header\n",
    "    print(\"The Room types are:\")\n",
    "\n",
    "    for room_type in room_types:\n",
    "        print(room_type)\n",
    "else:\n",
    "    print(\"Failed to retrieve the page. Status code:\", response.status_code)\n"
   ]
  },
  {
   "cell_type": "code",
   "execution_count": 144,
   "id": "61a35ffb",
   "metadata": {},
   "outputs": [
    {
     "name": "stdout",
     "output_type": "stream",
     "text": [
      "The amenities are:\n",
      "Outdoor swimming pool\n",
      "Free WiFi\n",
      "Free parking\n",
      "Family rooms\n",
      "Fitness centre\n",
      "Non-smoking rooms\n",
      "Spa and wellness centre\n",
      "2 restaurants\n",
      "Bar\n",
      "Good breakfast\n"
     ]
    }
   ],
   "source": [
    "import requests\n",
    "from bs4 import BeautifulSoup\n",
    "\n",
    "# Define the URL\n",
    "url = 'https://www.booking.com/hotel/ph/city-garden-grand-makati.en-gb.html?aid=306395&label=manila-FQAtFrQpwv6S9K4IrmV3gAS392865645013%3Apl%3Ata%3Ap1720%3Ap2%3Aac%3Aap%3Aneg%3Afi%3Atiaud-146342137030%3Akwd-139454200%3Alp9066820%3Ali%3Adec%3Adm%3Appccp%3DUmFuZG9tSVYkc2RlIyh9YZVcNNsENnH02-pWD53qm9c&sid=fc9096d21bc731377561807eebb08b70&dest_id=-2437894;dest_type=city;dist=0;group_adults=2;group_children=0;hapos=20;hpos=20;nflt=ht_id%3D204;no_rooms=1;req_adults=2;req_children=0;room1=A%2CA;sb_price_type=total;sr_order=popularity;srepoch=1694947268;srpvid=768c46fb585a0098;type=total;ucfs=1&#hotelTmpl'\n",
    "\n",
    "# Send an HTTP GET request to the URL\n",
    "response = requests.get(url)\n",
    "\n",
    "# Check if the request was successful (status code 200)\n",
    "if response.status_code == 200:\n",
    "    # Parse the HTML content\n",
    "    soup = BeautifulSoup(response.text, 'html.parser')\n",
    "\n",
    "    # Find the ul element with the specified class\n",
    "    facility_ul = soup.find(\"ul\", class_=\"c807d72881 e5e0727360 e10711a42e\")\n",
    "\n",
    "    if facility_ul:\n",
    "        # Find all the list items within the ul and extract their text\n",
    "        facility_items = facility_ul.find_all(\"li\")\n",
    "\n",
    "        # Print the header\n",
    "        print(\"The amenities are:\")\n",
    "\n",
    "        # Loop through the list items and print their text\n",
    "        for item in facility_items:\n",
    "            print(item.text.strip())\n",
    "    else:\n",
    "        print(\"Facility ul not found.\")\n",
    "else:\n",
    "    print(\"Failed to retrieve the page. Status code:\", response.status_code)\n"
   ]
  },
  {
   "cell_type": "code",
   "execution_count": 145,
   "id": "bed8e146",
   "metadata": {
    "scrolled": true
   },
   "outputs": [
    {
     "name": "stdout",
     "output_type": "stream",
     "text": [
      "Review 1: No text found\n",
      "Review 2:\n",
      "“Front of staff are exceptional.  Stayed two nights at the hotel across the road at 3k PHP a night more.\r\n",
      "It was not a scratch on the professional appeal of the City Garden Grand.”\n",
      "\n",
      "Review 3:\n",
      "“Good location in the center! \n",
      "Cleaning staff were brilliant. \n",
      "Reception staff were very helpful. \n",
      "Good value for $$”\n",
      "\n",
      "Review 4:\n",
      "“Location is near from Airport. approx 30min without traffic jam. \r\n",
      "Staff is very kind and Friendly.”\n",
      "\n",
      "Review 5:\n",
      "“Special thanks to Larry del Valle 👌 \n",
      "He is bery professional and just a very cool guy! \n",
      "I will come back soon again! \n",
      "\n",
      "Jay-r from the Firefly big thanks, he is very good and friendly 👌👌👌”\n",
      "\n",
      "Review 6:\n",
      "“The 'deluxe twin room' was good enough for 4 people. Great breakfast service. Helpful and professional staff. Great location, specially to all the bars, cafés and restaurants in the area, around Poblacion and Rockwell Centre.”\n",
      "\n",
      "Review 7:\n",
      "“GOOD HOTEL AND GOOD LOCATION VERY PROFESSIONAL STAFF SPECIAL THANKS FOR ROOM ATTENDANT MR ALVIN AND SUPERVISOR ROSEL FOR KEEP MY ROOM IN HIGH STANDARD CLEAN THEY HAVE HIGH QUALITY JOB  👍”\n",
      "\n",
      "Review 8:\n",
      "“Nice rooftop pool, excellent spa service, friendly service. Good location close to Makati night life.”\n",
      "\n",
      "Review 9:\n",
      "“Very clean and a nice room, beautiful lobby and I especially liked the pool terrace at the 32 stage at the top”\n",
      "\n",
      "Review 10:\n",
      "“Location was good, price was great. Rooftop restaurant.”\n",
      "\n",
      "Review 11:\n",
      "“Building is starting to show its age but the lobby and the room are clean and well maintained, and the room had all the amenities we expected. We ordered Chicken and Pork Adobo with Salted Egg for dinner and we really liked it.”\n",
      "\n",
      "Review 12: No text found\n",
      "Review 13: No text found\n"
     ]
    }
   ],
   "source": [
    "import requests\n",
    "from bs4 import BeautifulSoup\n",
    "\n",
    "# URL of the page to scrape\n",
    "url = 'https://www.booking.com/hotel/ph/city-garden-grand-makati.en-gb.html?aid=306395&label=manila-FQAtFrQpwv6S9K4IrmV3gAS392865645013%3Apl%3Ata%3Ap1720%3Ap2%3Aac%3Aap%3Aneg%3Afi%3Atiaud-146342137030%3Akwd-139454200%3Alp9066820%3Ali%3Adec%3Adm%3Appccp%3DUmFuZG9tSVYkc2RlIyh9YZVcNNsENnH02-pWD53qm9c&sid=fc9096d21bc731377561807eebb08b70&dest_id=-2437894;dest_type=city;dist=0;group_adults=2;group_children=0;hapos=20;hpos=20;nflt=ht_id%3D204;no_rooms=1;req_adults=2;req_children=0;room1=A%2CA;sb_price_type=total;sr_order=popularity;srepoch=1694947268;srpvid=768c46fb585a0098;type=total;ucfs=1&#hotelTmpl'\n",
    "\n",
    "# Send an HTTP GET request to the URL\n",
    "response = requests.get(url)\n",
    "\n",
    "# Check if the request was successful (status code 200)\n",
    "if response.status_code == 200:\n",
    "    # Parse the HTML content of the page\n",
    "    soup = BeautifulSoup(response.text, 'html.parser')\n",
    "\n",
    "    # Find all the review elements\n",
    "    review_elements = soup.find_all(\"div\", class_=\"aca0ade214 aaf30230d9 cd2e7d62b0\")\n",
    "\n",
    "    # Print all review texts\n",
    "    for i, review_element in enumerate(review_elements, start=1):\n",
    "        review_text_element = review_element.find(\"div\", class_=\"a53cbfa6de c688f151a2\")\n",
    "        if review_text_element:\n",
    "            review_text = review_text_element.text.strip()\n",
    "            print(f\"Review {i}:\")\n",
    "            print(review_text)\n",
    "            print()\n",
    "        else:\n",
    "            print(f\"Review {i}: No text found\")\n",
    "else:\n",
    "    print(\"Failed to retrieve the page. Status code:\", response.status_code)\n"
   ]
  },
  {
   "cell_type": "markdown",
   "id": "5be7b1bc",
   "metadata": {},
   "source": [
    "#  18. Sofitel Philippine Plaza Manila"
   ]
  },
  {
   "cell_type": "code",
   "execution_count": 146,
   "id": "42af5b6a",
   "metadata": {},
   "outputs": [
    {
     "name": "stdout",
     "output_type": "stream",
     "text": [
      "Sofitel Philippine Plaza Manila\n"
     ]
    }
   ],
   "source": [
    "import requests\n",
    "from bs4 import BeautifulSoup\n",
    "\n",
    "# Define the URL\n",
    "url = 'https://www.booking.com/hotel/ph/sofitel-philippine-plaza-manila.en-gb.html?aid=306395&label=manila-FQAtFrQpwv6S9K4IrmV3gAS392865645013%3Apl%3Ata%3Ap1720%3Ap2%3Aac%3Aap%3Aneg%3Afi%3Atiaud-146342137030%3Akwd-139454200%3Alp9066820%3Ali%3Adec%3Adm%3Appccp%3DUmFuZG9tSVYkc2RlIyh9YZVcNNsENnH02-pWD53qm9c&sid=fc9096d21bc731377561807eebb08b70&dest_id=-2437894;dest_type=city;dist=0;group_adults=2;group_children=0;hapos=21;hpos=21;nflt=ht_id%3D204;no_rooms=1;req_adults=2;req_children=0;room1=A%2CA;sb_price_type=total;sr_order=popularity;srepoch=1694947268;srpvid=768c46fb585a0098;type=total;ucfs=1&#hotelTmpl'\n",
    "\n",
    "# Send an HTTP GET request to the URL\n",
    "\n",
    "response = requests.get(url)\n",
    "\n",
    "# Check if the request was successful (status code 200)\n",
    "if response.status_code == 200:\n",
    "    # Parse the HTML content\n",
    "    soup = BeautifulSoup(response.text, 'html.parser')\n",
    "\n",
    "    # Find the h2 element with the specified class\n",
    "    h2_element = soup.find(\"h2\", class_=\"d2fee87262 pp-header__title\")\n",
    "\n",
    "    # Extract and print the text content of the h2 element\n",
    "    if h2_element:\n",
    "        print(h2_element.text.strip())\n",
    "    else:\n",
    "        print(\"H2 element not found.\")\n",
    "else:\n",
    "    print(\"Failed to retrieve the page. Status code:\", response.status_code)\n"
   ]
  },
  {
   "cell_type": "code",
   "execution_count": 147,
   "id": "b25ccb06",
   "metadata": {},
   "outputs": [
    {
     "name": "stdout",
     "output_type": "stream",
     "text": [
      "The location is CCP Complex, Roxas Boulevard, Pasay, 1300 Manila, Philippines\n"
     ]
    }
   ],
   "source": [
    "import requests\n",
    "from bs4 import BeautifulSoup\n",
    "\n",
    "\n",
    "# Define the URL\n",
    "url = 'https://www.booking.com/hotel/ph/sofitel-philippine-plaza-manila.en-gb.html?aid=306395&label=manila-FQAtFrQpwv6S9K4IrmV3gAS392865645013%3Apl%3Ata%3Ap1720%3Ap2%3Aac%3Aap%3Aneg%3Afi%3Atiaud-146342137030%3Akwd-139454200%3Alp9066820%3Ali%3Adec%3Adm%3Appccp%3DUmFuZG9tSVYkc2RlIyh9YZVcNNsENnH02-pWD53qm9c&sid=fc9096d21bc731377561807eebb08b70&dest_id=-2437894;dest_type=city;dist=0;group_adults=2;group_children=0;hapos=21;hpos=21;nflt=ht_id%3D204;no_rooms=1;req_adults=2;req_children=0;room1=A%2CA;sb_price_type=total;sr_order=popularity;srepoch=1694947268;srpvid=768c46fb585a0098;type=total;ucfs=1&#hotelTmpl'\n",
    "\n",
    "# Send an HTTP GET request to the URL\n",
    "response = requests.get(url)\n",
    "\n",
    "# Check if the request was successful (status code 200)\n",
    "if response.status_code == 200:\n",
    "    # Parse the HTML content\n",
    "    soup = BeautifulSoup(response.text, 'html.parser')\n",
    "\n",
    "    # Find the span element with the specified class and extract the address\n",
    "    address_element = soup.find(\"span\", class_=\"hp_address_subtitle\")\n",
    "\n",
    "    if address_element:\n",
    "        address = address_element.text.strip()\n",
    "        print(\"The location is\" ,address)\n",
    "    else:\n",
    "        print(\"Address element not found.\")\n",
    "else:\n",
    "    print(\"Failed to retrieve the page. Status code:\", response.status_code)\n"
   ]
  },
  {
   "cell_type": "code",
   "execution_count": 148,
   "id": "eca80a58",
   "metadata": {},
   "outputs": [
    {
     "name": "stdout",
     "output_type": "stream",
     "text": [
      "The Room types are:\n",
      "Superior Twin Room with City View\n",
      "Superior King Room with City View\n",
      "Luxury Twin Room with City View\n",
      "Luxury King Room with City View\n",
      "Sofitel King Suite with City View or Bay View\n",
      "Junior Family King Suite with City View or Bay View\n",
      "Luxury Club Twin Room with City View\n",
      "Luxury Club King Room with City View\n",
      "Opera Suite\n",
      "Luxury King Room with Bay View\n",
      "Imperial King Suite\n",
      "Luxury King Room with Pool View\n",
      "Superior King Room with Pool View\n",
      "Luxury Club King Room with Bay View\n",
      "Luxury Club King Room with Pool View\n"
     ]
    }
   ],
   "source": [
    "import requests\n",
    "from bs4 import BeautifulSoup\n",
    "\n",
    "# URL of the page to scrape\n",
    "url = 'https://www.booking.com/hotel/ph/sofitel-philippine-plaza-manila.en-gb.html?aid=306395&label=manila-FQAtFrQpwv6S9K4IrmV3gAS392865645013%3Apl%3Ata%3Ap1720%3Ap2%3Aac%3Aap%3Aneg%3Afi%3Atiaud-146342137030%3Akwd-139454200%3Alp9066820%3Ali%3Adec%3Adm%3Appccp%3DUmFuZG9tSVYkc2RlIyh9YZVcNNsENnH02-pWD53qm9c&sid=fc9096d21bc731377561807eebb08b70&dest_id=-2437894;dest_type=city;dist=0;group_adults=2;group_children=0;hapos=21;hpos=21;nflt=ht_id%3D204;no_rooms=1;req_adults=2;req_children=0;room1=A%2CA;sb_price_type=total;sr_order=popularity;srepoch=1694947268;srpvid=768c46fb585a0098;type=total;ucfs=1&#hotelTmpl'\n",
    "\n",
    "# Send an HTTP GET request to the URL\n",
    "response = requests.get(url)\n",
    "\n",
    "# Check if the request was successful (status code 200)\n",
    "if response.status_code == 200:\n",
    "    # Parse the HTML content of the page\n",
    "    soup = BeautifulSoup(response.text, 'html.parser')\n",
    "\n",
    "    # Find all the room type elements\n",
    "    room_type_elements = soup.find_all(\"a\", class_=\"a83ed08757 f88a5204c2 d1c4779e7a js-legacy-room-name b98133fb50\")\n",
    "\n",
    "    # Extract and print the room types\n",
    "    room_types = [element.find(\"span\").text for element in room_type_elements]\n",
    "\n",
    "    # Print the header\n",
    "    print(\"The Room types are:\")\n",
    "\n",
    "    for room_type in room_types:\n",
    "        print(room_type)\n",
    "else:\n",
    "    print(\"Failed to retrieve the page. Status code:\", response.status_code)\n"
   ]
  },
  {
   "cell_type": "code",
   "execution_count": 153,
   "id": "382730d1",
   "metadata": {},
   "outputs": [
    {
     "name": "stdout",
     "output_type": "stream",
     "text": [
      "The amenities are:\n",
      "Outdoor swimming pool\n",
      "Free WiFi\n",
      "Airport shuttle\n",
      "Free parking\n",
      "Family rooms\n",
      "Fitness centre\n",
      "Non-smoking rooms\n",
      "Spa and wellness centre\n",
      "Bar\n",
      "Very good breakfast\n"
     ]
    }
   ],
   "source": [
    "import requests\n",
    "from bs4 import BeautifulSoup\n",
    "\n",
    "# Define the URL\n",
    "url = 'https://www.booking.com/hotel/ph/sofitel-philippine-plaza-manila.en-gb.html?aid=306395&label=manila-FQAtFrQpwv6S9K4IrmV3gAS392865645013%3Apl%3Ata%3Ap1720%3Ap2%3Aac%3Aap%3Aneg%3Afi%3Atiaud-146342137030%3Akwd-139454200%3Alp9066820%3Ali%3Adec%3Adm%3Appccp%3DUmFuZG9tSVYkc2RlIyh9YZVcNNsENnH02-pWD53qm9c&sid=fc9096d21bc731377561807eebb08b70&dest_id=-2437894;dest_type=city;dist=0;group_adults=2;group_children=0;hapos=21;hpos=21;nflt=ht_id%3D204;no_rooms=1;req_adults=2;req_children=0;room1=A%2CA;sb_price_type=total;sr_order=popularity;srepoch=1694947268;srpvid=768c46fb585a0098;type=total;ucfs=1&#hotelTmpl'\n",
    "\n",
    "# Send an HTTP GET request to the URL\n",
    "response = requests.get(url)\n",
    "\n",
    "# Check if the request was successful (status code 200)\n",
    "if response.status_code == 200:\n",
    "    # Parse the HTML content\n",
    "    soup = BeautifulSoup(response.text, 'html.parser')\n",
    "\n",
    "    # Find the ul element with the specified class\n",
    "    facility_ul = soup.find(\"ul\", class_=\"c807d72881 e5e0727360 e10711a42e\")\n",
    "\n",
    "    if facility_ul:\n",
    "        # Find all the list items within the ul and extract their text\n",
    "        facility_items = facility_ul.find_all(\"li\")\n",
    "\n",
    "        # Print the header\n",
    "        print(\"The amenities are:\")\n",
    "\n",
    "        # Loop through the list items and print their text\n",
    "        for item in facility_items:\n",
    "            print(item.text.strip())\n",
    "    else:\n",
    "        print(\"Facility ul not found.\")\n",
    "else:\n",
    "    print(\"Failed to retrieve the page. Status code:\", response.status_code)\n"
   ]
  },
  {
   "cell_type": "code",
   "execution_count": 149,
   "id": "8d3d55d9",
   "metadata": {},
   "outputs": [
    {
     "name": "stdout",
     "output_type": "stream",
     "text": [
      "Review 1: No text found\n",
      "Review 2: No text found\n",
      "Review 3: No text found\n",
      "Review 4: No text found\n",
      "Review 5: No text found\n",
      "Review 6: No text found\n",
      "Review 7: No text found\n",
      "Review 8: No text found\n",
      "Review 9: No text found\n",
      "Review 10: No text found\n",
      "Review 11: No text found\n",
      "Review 12: No text found\n",
      "Review 13:\n",
      "“I booked a room with access to the Club Lounge. This made our staycation so much better. ❤️ Also, we were able to get a late checkout, which allowed us to have the Sunday Brunch Buffet.”\n",
      "\n",
      "Review 14:\n",
      "“The service was amazing. And the executive lounge was the most opulent and amazing lounge I’ve ever been in.”\n",
      "\n",
      "Review 15:\n",
      "“The location is nice, very nice service, they give you everything you need. The check in and check out are very efficient.  The pool is great, good water activity for kids. The breakfast is awesome, so many choices.”\n",
      "\n",
      "Review 16:\n",
      "“I stayed swimming in the pool for over an hour, their pool is ok”\n",
      "\n",
      "Review 17:\n",
      "“The hotel was very nice. The place is quiet and comfortable. The reception staff are wonderful. \r\n",
      "General services are available.”\n",
      "\n",
      "Review 18:\n",
      "“size of the room (we had 3 big luggage to open),\r\n",
      "the amazing breakfast buffet with live music in background\r\n",
      "the nice pool, suited for both kids and parents (nice ambiance with poolbar, coconut restaurant and palm trees all around), with pool...”\n",
      "\n",
      "Review 19:\n",
      "“The buffet at spiral was amazing. Snap Bar was also a good hangout. The pool was relaxing. The massage and skincare treatments were great.”\n",
      "\n",
      "Review 20:\n",
      "“Breakfast was grand, in fact it was more like a brunch,soooo many variety I could stay there till lunch. There was this \"Tajo\" guy and kakanin girl going around ready to offer if you want them food.The swimming pool was massive.”\n",
      "\n",
      "Review 21:\n",
      "“Whenever I called the operator someone actually answered and whatever I requested for was immediately addressed.”\n",
      "\n",
      "Review 22:\n",
      "“The room was spacious and comfortable bed.\n",
      "One of the biggest breakfast spread ever, you need minimum one hour if you're planning to try a little bit of everything.”\n",
      "\n",
      "Review 23: No text found\n",
      "Review 24: No text found\n"
     ]
    }
   ],
   "source": [
    "import requests\n",
    "from bs4 import BeautifulSoup\n",
    "\n",
    "# URL of the page to scrape\n",
    "url = 'https://www.booking.com/hotel/ph/sofitel-philippine-plaza-manila.en-gb.html?aid=306395&label=manila-FQAtFrQpwv6S9K4IrmV3gAS392865645013%3Apl%3Ata%3Ap1720%3Ap2%3Aac%3Aap%3Aneg%3Afi%3Atiaud-146342137030%3Akwd-139454200%3Alp9066820%3Ali%3Adec%3Adm%3Appccp%3DUmFuZG9tSVYkc2RlIyh9YZVcNNsENnH02-pWD53qm9c&sid=fc9096d21bc731377561807eebb08b70&dest_id=-2437894;dest_type=city;dist=0;group_adults=2;group_children=0;hapos=21;hpos=21;nflt=ht_id%3D204;no_rooms=1;req_adults=2;req_children=0;room1=A%2CA;sb_price_type=total;sr_order=popularity;srepoch=1694947268;srpvid=768c46fb585a0098;type=total;ucfs=1&#hotelTmpl'\n",
    "\n",
    "# Send an HTTP GET request to the URL\n",
    "response = requests.get(url)\n",
    "\n",
    "# Check if the request was successful (status code 200)\n",
    "if response.status_code == 200:\n",
    "    # Parse the HTML content of the page\n",
    "    soup = BeautifulSoup(response.text, 'html.parser')\n",
    "\n",
    "    # Find all the review elements\n",
    "    review_elements = soup.find_all(\"div\", class_=\"aca0ade214 aaf30230d9 cd2e7d62b0\")\n",
    "\n",
    "    # Print all review texts\n",
    "    for i, review_element in enumerate(review_elements, start=1):\n",
    "        review_text_element = review_element.find(\"div\", class_=\"a53cbfa6de c688f151a2\")\n",
    "        if review_text_element:\n",
    "            review_text = review_text_element.text.strip()\n",
    "            print(f\"Review {i}:\")\n",
    "            print(review_text)\n",
    "            print()\n",
    "        else:\n",
    "            print(f\"Review {i}: No text found\")\n",
    "else:\n",
    "    print(\"Failed to retrieve the page. Status code:\", response.status_code)\n"
   ]
  },
  {
   "cell_type": "markdown",
   "id": "65904331",
   "metadata": {},
   "source": [
    "# 19.  Red Planet Manila Bay"
   ]
  },
  {
   "cell_type": "code",
   "execution_count": 150,
   "id": "55e73af6",
   "metadata": {},
   "outputs": [
    {
     "name": "stdout",
     "output_type": "stream",
     "text": [
      "Red Planet Manila Bay\n"
     ]
    }
   ],
   "source": [
    "import requests\n",
    "from bs4 import BeautifulSoup\n",
    "\n",
    "# Define the URL\n",
    "url = 'https://www.booking.com/hotel/ph/red-planet-manila-bay-manila.en-gb.html?aid=306395&label=manila-FQAtFrQpwv6S9K4IrmV3gAS392865645013%3Apl%3Ata%3Ap1720%3Ap2%3Aac%3Aap%3Aneg%3Afi%3Atiaud-146342137030%3Akwd-139454200%3Alp9066820%3Ali%3Adec%3Adm%3Appccp%3DUmFuZG9tSVYkc2RlIyh9YZVcNNsENnH02-pWD53qm9c&sid=fc9096d21bc731377561807eebb08b70&dest_id=-2437894;dest_type=city;dist=0;group_adults=2;group_children=0;hapos=22;hpos=22;nflt=ht_id%3D204;no_rooms=1;req_adults=2;req_children=0;room1=A%2CA;sb_price_type=total;sr_order=popularity;srepoch=1694947268;srpvid=768c46fb585a0098;type=total;ucfs=1&#hotelTmpl'\n",
    "\n",
    "# Send an HTTP GET request to the URL\n",
    "\n",
    "response = requests.get(url)\n",
    "\n",
    "# Check if the request was successful (status code 200)\n",
    "if response.status_code == 200:\n",
    "    # Parse the HTML content\n",
    "    soup = BeautifulSoup(response.text, 'html.parser')\n",
    "\n",
    "    # Find the h2 element with the specified class\n",
    "    h2_element = soup.find(\"h2\", class_=\"d2fee87262 pp-header__title\")\n",
    "\n",
    "    # Extract and print the text content of the h2 element\n",
    "    if h2_element:\n",
    "        print(h2_element.text.strip())\n",
    "    else:\n",
    "        print(\"H2 element not found.\")\n",
    "else:\n",
    "    print(\"Failed to retrieve the page. Status code:\", response.status_code)\n"
   ]
  },
  {
   "cell_type": "code",
   "execution_count": 151,
   "id": "49253634",
   "metadata": {},
   "outputs": [
    {
     "name": "stdout",
     "output_type": "stream",
     "text": [
      "The location is Arquiza corner Alhambra Streets Ermita, 0930 Manila, Philippines\n"
     ]
    }
   ],
   "source": [
    "import requests\n",
    "from bs4 import BeautifulSoup\n",
    "\n",
    "\n",
    "# Define the URL\n",
    "url = 'https://www.booking.com/hotel/ph/red-planet-manila-bay-manila.en-gb.html?aid=306395&label=manila-FQAtFrQpwv6S9K4IrmV3gAS392865645013%3Apl%3Ata%3Ap1720%3Ap2%3Aac%3Aap%3Aneg%3Afi%3Atiaud-146342137030%3Akwd-139454200%3Alp9066820%3Ali%3Adec%3Adm%3Appccp%3DUmFuZG9tSVYkc2RlIyh9YZVcNNsENnH02-pWD53qm9c&sid=fc9096d21bc731377561807eebb08b70&dest_id=-2437894;dest_type=city;dist=0;group_adults=2;group_children=0;hapos=22;hpos=22;nflt=ht_id%3D204;no_rooms=1;req_adults=2;req_children=0;room1=A%2CA;sb_price_type=total;sr_order=popularity;srepoch=1694947268;srpvid=768c46fb585a0098;type=total;ucfs=1&#hotelTmpl'\n",
    "\n",
    "# Send an HTTP GET request to the URL\n",
    "response = requests.get(url)\n",
    "\n",
    "# Check if the request was successful (status code 200)\n",
    "if response.status_code == 200:\n",
    "    # Parse the HTML content\n",
    "    soup = BeautifulSoup(response.text, 'html.parser')\n",
    "\n",
    "    # Find the span element with the specified class and extract the address\n",
    "    address_element = soup.find(\"span\", class_=\"hp_address_subtitle\")\n",
    "\n",
    "    if address_element:\n",
    "        address = address_element.text.strip()\n",
    "        print(\"The location is\" ,address)\n",
    "    else:\n",
    "        print(\"Address element not found.\")\n",
    "else:\n",
    "    print(\"Failed to retrieve the page. Status code:\", response.status_code)\n"
   ]
  },
  {
   "cell_type": "code",
   "execution_count": 152,
   "id": "6a1c4018",
   "metadata": {},
   "outputs": [
    {
     "name": "stdout",
     "output_type": "stream",
     "text": [
      "The Room types are:\n",
      "Double Room\n",
      "Twin Room\n"
     ]
    }
   ],
   "source": [
    "import requests\n",
    "from bs4 import BeautifulSoup\n",
    "\n",
    "# URL of the page to scrape\n",
    "url = 'https://www.booking.com/hotel/ph/red-planet-manila-bay-manila.en-gb.html?aid=306395&label=manila-FQAtFrQpwv6S9K4IrmV3gAS392865645013%3Apl%3Ata%3Ap1720%3Ap2%3Aac%3Aap%3Aneg%3Afi%3Atiaud-146342137030%3Akwd-139454200%3Alp9066820%3Ali%3Adec%3Adm%3Appccp%3DUmFuZG9tSVYkc2RlIyh9YZVcNNsENnH02-pWD53qm9c&sid=fc9096d21bc731377561807eebb08b70&dest_id=-2437894;dest_type=city;dist=0;group_adults=2;group_children=0;hapos=22;hpos=22;nflt=ht_id%3D204;no_rooms=1;req_adults=2;req_children=0;room1=A%2CA;sb_price_type=total;sr_order=popularity;srepoch=1694947268;srpvid=768c46fb585a0098;type=total;ucfs=1&#hotelTmpl'\n",
    "\n",
    "# Send an HTTP GET request to the URL\n",
    "response = requests.get(url)\n",
    "\n",
    "# Check if the request was successful (status code 200)\n",
    "if response.status_code == 200:\n",
    "    # Parse the HTML content of the page\n",
    "    soup = BeautifulSoup(response.text, 'html.parser')\n",
    "\n",
    "    # Find all the room type elements\n",
    "    room_type_elements = soup.find_all(\"a\", class_=\"a83ed08757 f88a5204c2 d1c4779e7a js-legacy-room-name b98133fb50\")\n",
    "\n",
    "    # Extract and print the room types\n",
    "    room_types = [element.find(\"span\").text for element in room_type_elements]\n",
    "\n",
    "    # Print the header\n",
    "    print(\"The Room types are:\")\n",
    "\n",
    "    for room_type in room_types:\n",
    "        print(room_type)\n",
    "else:\n",
    "    print(\"Failed to retrieve the page. Status code:\", response.status_code)\n"
   ]
  },
  {
   "cell_type": "code",
   "execution_count": 154,
   "id": "66b06cee",
   "metadata": {},
   "outputs": [
    {
     "name": "stdout",
     "output_type": "stream",
     "text": [
      "The amenities are:\n",
      "Free WiFi\n",
      "Free parking\n",
      "Family rooms\n",
      "Non-smoking rooms\n",
      "Restaurant\n",
      "24-hour front desk\n",
      "Facilities for disabled guests\n",
      "Lift\n"
     ]
    }
   ],
   "source": [
    "import requests\n",
    "from bs4 import BeautifulSoup\n",
    "\n",
    "# Define the URL\n",
    "url = 'https://www.booking.com/hotel/ph/red-planet-manila-bay-manila.en-gb.html?aid=306395&label=manila-FQAtFrQpwv6S9K4IrmV3gAS392865645013%3Apl%3Ata%3Ap1720%3Ap2%3Aac%3Aap%3Aneg%3Afi%3Atiaud-146342137030%3Akwd-139454200%3Alp9066820%3Ali%3Adec%3Adm%3Appccp%3DUmFuZG9tSVYkc2RlIyh9YZVcNNsENnH02-pWD53qm9c&sid=fc9096d21bc731377561807eebb08b70&dest_id=-2437894;dest_type=city;dist=0;group_adults=2;group_children=0;hapos=22;hpos=22;nflt=ht_id%3D204;no_rooms=1;req_adults=2;req_children=0;room1=A%2CA;sb_price_type=total;sr_order=popularity;srepoch=1694947268;srpvid=768c46fb585a0098;type=total;ucfs=1&#hotelTmpl'\n",
    "\n",
    "# Send an HTTP GET request to the URL\n",
    "response = requests.get(url)\n",
    "\n",
    "# Check if the request was successful (status code 200)\n",
    "if response.status_code == 200:\n",
    "    # Parse the HTML content\n",
    "    soup = BeautifulSoup(response.text, 'html.parser')\n",
    "\n",
    "    # Find the ul element with the specified class\n",
    "    facility_ul = soup.find(\"ul\", class_=\"c807d72881 e5e0727360 e10711a42e\")\n",
    "\n",
    "    if facility_ul:\n",
    "        # Find all the list items within the ul and extract their text\n",
    "        facility_items = facility_ul.find_all(\"li\")\n",
    "\n",
    "        # Print the header\n",
    "        print(\"The amenities are:\")\n",
    "\n",
    "        # Loop through the list items and print their text\n",
    "        for item in facility_items:\n",
    "            print(item.text.strip())\n",
    "    else:\n",
    "        print(\"Facility ul not found.\")\n",
    "else:\n",
    "    print(\"Failed to retrieve the page. Status code:\", response.status_code)\n"
   ]
  },
  {
   "cell_type": "code",
   "execution_count": 155,
   "id": "b5ee5333",
   "metadata": {},
   "outputs": [
    {
     "name": "stdout",
     "output_type": "stream",
     "text": [
      "Review 1: No text found\n",
      "Review 2: No text found\n",
      "Review 3:\n",
      "“Tidiness of the rooms.\n",
      "Pleasant stall \n",
      "Interesting location”\n",
      "\n",
      "Review 4:\n",
      "“The room was very clean on arrival. Its close to a few Aussie bars and Robinson Shopping mall, and straight across the road to Manila Bay.”\n",
      "\n",
      "Review 5:\n",
      "“I like the location since I am scheduled for an interview in US Embassy. Just a walking distance so its soo perfect... And I guess this place brings good luck since I read from a review too that her US visa was granted. I got my 10 year multiple...”\n",
      "\n",
      "Review 6:\n",
      "“Cold Ac. Location practically on the beach. Near Rizal Park. Nice staff. Giving early check in without being asked.”\n",
      "\n",
      "Review 7:\n",
      "“Lovely location Room for a few extra pesos overlooking Manila Bay.Ww will be rebooting for January”\n",
      "\n",
      "Review 8:\n",
      "“The location near the US Embassy. And the staff are very helpful about my inquiries.”\n",
      "\n",
      "Review 9:\n",
      "“There are a large number of kind and polite staff.”\n",
      "\n",
      "Review 10:\n",
      "“Most of the stuff is friendly,the location is not that bad, but I wish we had the ocean view. Space is kind of small, but the modern minimalist is what I really like the most..  the service is really great, and security  guards are all friendly ...”\n",
      "\n",
      "Review 11:\n",
      "“Good location\n",
      "Friendly staff\n",
      "Air con\n",
      "All facilities required”\n",
      "\n",
      "Review 12:\n",
      "“Nice and clean room. The location is very good, the Rizal Park and its museums is just around the corner and there's also many places around to get some good food.”\n",
      "\n",
      "Review 13: No text found\n",
      "Review 14: No text found\n"
     ]
    }
   ],
   "source": [
    "import requests\n",
    "from bs4 import BeautifulSoup\n",
    "\n",
    "# URL of the page to scrape\n",
    "url = 'https://www.booking.com/hotel/ph/red-planet-manila-bay-manila.en-gb.html?aid=306395&label=manila-FQAtFrQpwv6S9K4IrmV3gAS392865645013%3Apl%3Ata%3Ap1720%3Ap2%3Aac%3Aap%3Aneg%3Afi%3Atiaud-146342137030%3Akwd-139454200%3Alp9066820%3Ali%3Adec%3Adm%3Appccp%3DUmFuZG9tSVYkc2RlIyh9YZVcNNsENnH02-pWD53qm9c&sid=fc9096d21bc731377561807eebb08b70&dest_id=-2437894;dest_type=city;dist=0;group_adults=2;group_children=0;hapos=22;hpos=22;nflt=ht_id%3D204;no_rooms=1;req_adults=2;req_children=0;room1=A%2CA;sb_price_type=total;sr_order=popularity;srepoch=1694947268;srpvid=768c46fb585a0098;type=total;ucfs=1&#hotelTmpl'\n",
    "\n",
    "# Send an HTTP GET request to the URL\n",
    "response = requests.get(url)\n",
    "\n",
    "# Check if the request was successful (status code 200)\n",
    "if response.status_code == 200:\n",
    "    # Parse the HTML content of the page\n",
    "    soup = BeautifulSoup(response.text, 'html.parser')\n",
    "\n",
    "    # Find all the review elements\n",
    "    review_elements = soup.find_all(\"div\", class_=\"aca0ade214 aaf30230d9 cd2e7d62b0\")\n",
    "\n",
    "    # Print all review texts\n",
    "    for i, review_element in enumerate(review_elements, start=1):\n",
    "        review_text_element = review_element.find(\"div\", class_=\"a53cbfa6de c688f151a2\")\n",
    "        if review_text_element:\n",
    "            review_text = review_text_element.text.strip()\n",
    "            print(f\"Review {i}:\")\n",
    "            print(review_text)\n",
    "            print()\n",
    "        else:\n",
    "            print(f\"Review {i}: No text found\")\n",
    "else:\n",
    "    print(\"Failed to retrieve the page. Status code:\", response.status_code)\n"
   ]
  },
  {
   "cell_type": "markdown",
   "id": "8daab434",
   "metadata": {},
   "source": [
    "#  20.  Glory Hotel Cubao"
   ]
  },
  {
   "cell_type": "code",
   "execution_count": 156,
   "id": "3a9c4156",
   "metadata": {},
   "outputs": [
    {
     "name": "stdout",
     "output_type": "stream",
     "text": [
      "Glory Hotel Cubao\n"
     ]
    }
   ],
   "source": [
    "import requests\n",
    "from bs4 import BeautifulSoup\n",
    "\n",
    "# Define the URL\n",
    "url = 'https://www.booking.com/hotel/ph/glory-cubao.en-gb.html?aid=306395&label=manila-FQAtFrQpwv6S9K4IrmV3gAS392865645013%3Apl%3Ata%3Ap1720%3Ap2%3Aac%3Aap%3Aneg%3Afi%3Atiaud-146342137030%3Akwd-139454200%3Alp9066820%3Ali%3Adec%3Adm%3Appccp%3DUmFuZG9tSVYkc2RlIyh9YZVcNNsENnH02-pWD53qm9c&sid=fc9096d21bc731377561807eebb08b70&dest_id=-2437894;dest_type=city;dist=0;group_adults=2;group_children=0;hapos=25;hpos=25;nflt=ht_id%3D204;no_rooms=1;req_adults=2;req_children=0;room1=A%2CA;sb_price_type=total;sr_order=popularity;srepoch=1694947268;srpvid=768c46fb585a0098;type=total;ucfs=1&#hotelTmpl'\n",
    "\n",
    "# Send an HTTP GET request to the URL\n",
    "\n",
    "response = requests.get(url)\n",
    "\n",
    "# Check if the request was successful (status code 200)\n",
    "if response.status_code == 200:\n",
    "    # Parse the HTML content\n",
    "    soup = BeautifulSoup(response.text, 'html.parser')\n",
    "\n",
    "    # Find the h2 element with the specified class\n",
    "    h2_element = soup.find(\"h2\", class_=\"d2fee87262 pp-header__title\")\n",
    "\n",
    "    # Extract and print the text content of the h2 element\n",
    "    if h2_element:\n",
    "        print(h2_element.text.strip())\n",
    "    else:\n",
    "        print(\"H2 element not found.\")\n",
    "else:\n",
    "    print(\"Failed to retrieve the page. Status code:\", response.status_code)\n"
   ]
  },
  {
   "cell_type": "code",
   "execution_count": 157,
   "id": "ac69fb49",
   "metadata": {},
   "outputs": [
    {
     "name": "stdout",
     "output_type": "stream",
     "text": [
      "The location is 231 Ermin Garcia Street Brgy Silangan Cubao, Quezon City, 1102 Manila, Philippines\n"
     ]
    }
   ],
   "source": [
    "import requests\n",
    "from bs4 import BeautifulSoup\n",
    "\n",
    "\n",
    "# Define the URL\n",
    "url = 'https://www.booking.com/hotel/ph/glory-cubao.en-gb.html?aid=306395&label=manila-FQAtFrQpwv6S9K4IrmV3gAS392865645013%3Apl%3Ata%3Ap1720%3Ap2%3Aac%3Aap%3Aneg%3Afi%3Atiaud-146342137030%3Akwd-139454200%3Alp9066820%3Ali%3Adec%3Adm%3Appccp%3DUmFuZG9tSVYkc2RlIyh9YZVcNNsENnH02-pWD53qm9c&sid=fc9096d21bc731377561807eebb08b70&dest_id=-2437894;dest_type=city;dist=0;group_adults=2;group_children=0;hapos=25;hpos=25;nflt=ht_id%3D204;no_rooms=1;req_adults=2;req_children=0;room1=A%2CA;sb_price_type=total;sr_order=popularity;srepoch=1694947268;srpvid=768c46fb585a0098;type=total;ucfs=1&#hotelTmpl'\n",
    "\n",
    "# Send an HTTP GET request to the URL\n",
    "response = requests.get(url)\n",
    "\n",
    "# Check if the request was successful (status code 200)\n",
    "if response.status_code == 200:\n",
    "    # Parse the HTML content\n",
    "    soup = BeautifulSoup(response.text, 'html.parser')\n",
    "\n",
    "    # Find the span element with the specified class and extract the address\n",
    "    address_element = soup.find(\"span\", class_=\"hp_address_subtitle\")\n",
    "\n",
    "    if address_element:\n",
    "        address = address_element.text.strip()\n",
    "        print(\"The location is\" ,address)\n",
    "    else:\n",
    "        print(\"Address element not found.\")\n",
    "else:\n",
    "    print(\"Failed to retrieve the page. Status code:\", response.status_code)\n"
   ]
  },
  {
   "cell_type": "code",
   "execution_count": 158,
   "id": "0f4300aa",
   "metadata": {},
   "outputs": [
    {
     "name": "stdout",
     "output_type": "stream",
     "text": [
      "The Room types are:\n",
      "Standard Studio\n",
      "Superior Double Room\n",
      "Superior Twin Room\n",
      "Deluxe Queen Room\n",
      "Family Room\n",
      "Family Suite\n"
     ]
    }
   ],
   "source": [
    "import requests\n",
    "from bs4 import BeautifulSoup\n",
    "\n",
    "# URL of the page to scrape\n",
    "url = 'https://www.booking.com/hotel/ph/glory-cubao.en-gb.html?aid=306395&label=manila-FQAtFrQpwv6S9K4IrmV3gAS392865645013%3Apl%3Ata%3Ap1720%3Ap2%3Aac%3Aap%3Aneg%3Afi%3Atiaud-146342137030%3Akwd-139454200%3Alp9066820%3Ali%3Adec%3Adm%3Appccp%3DUmFuZG9tSVYkc2RlIyh9YZVcNNsENnH02-pWD53qm9c&sid=fc9096d21bc731377561807eebb08b70&dest_id=-2437894;dest_type=city;dist=0;group_adults=2;group_children=0;hapos=25;hpos=25;nflt=ht_id%3D204;no_rooms=1;req_adults=2;req_children=0;room1=A%2CA;sb_price_type=total;sr_order=popularity;srepoch=1694947268;srpvid=768c46fb585a0098;type=total;ucfs=1&#hotelTmpl'\n",
    "\n",
    "# Send an HTTP GET request to the URL\n",
    "response = requests.get(url)\n",
    "\n",
    "# Check if the request was successful (status code 200)\n",
    "if response.status_code == 200:\n",
    "    # Parse the HTML content of the page\n",
    "    soup = BeautifulSoup(response.text, 'html.parser')\n",
    "\n",
    "    # Find all the room type elements\n",
    "    room_type_elements = soup.find_all(\"a\", class_=\"a83ed08757 f88a5204c2 d1c4779e7a js-legacy-room-name b98133fb50\")\n",
    "\n",
    "    # Extract and print the room types\n",
    "    room_types = [element.find(\"span\").text for element in room_type_elements]\n",
    "\n",
    "    # Print the header\n",
    "    print(\"The Room types are:\")\n",
    "\n",
    "    for room_type in room_types:\n",
    "        print(room_type)\n",
    "else:\n",
    "    print(\"Failed to retrieve the page. Status code:\", response.status_code)\n"
   ]
  },
  {
   "cell_type": "code",
   "execution_count": 159,
   "id": "aefa4216",
   "metadata": {},
   "outputs": [
    {
     "name": "stdout",
     "output_type": "stream",
     "text": [
      "The amenities are:\n",
      "Free WiFi\n",
      "Family rooms\n",
      "Non-smoking rooms\n",
      "24-hour front desk\n"
     ]
    }
   ],
   "source": [
    "import requests\n",
    "from bs4 import BeautifulSoup\n",
    "\n",
    "# Define the URL\n",
    "url = 'https://www.booking.com/hotel/ph/glory-cubao.en-gb.html?aid=306395&label=manila-FQAtFrQpwv6S9K4IrmV3gAS392865645013%3Apl%3Ata%3Ap1720%3Ap2%3Aac%3Aap%3Aneg%3Afi%3Atiaud-146342137030%3Akwd-139454200%3Alp9066820%3Ali%3Adec%3Adm%3Appccp%3DUmFuZG9tSVYkc2RlIyh9YZVcNNsENnH02-pWD53qm9c&sid=fc9096d21bc731377561807eebb08b70&dest_id=-2437894;dest_type=city;dist=0;group_adults=2;group_children=0;hapos=25;hpos=25;nflt=ht_id%3D204;no_rooms=1;req_adults=2;req_children=0;room1=A%2CA;sb_price_type=total;sr_order=popularity;srepoch=1694947268;srpvid=768c46fb585a0098;type=total;ucfs=1&#hotelTmpl'\n",
    "\n",
    "# Send an HTTP GET request to the URL\n",
    "response = requests.get(url)\n",
    "\n",
    "# Check if the request was successful (status code 200)\n",
    "if response.status_code == 200:\n",
    "    # Parse the HTML content\n",
    "    soup = BeautifulSoup(response.text, 'html.parser')\n",
    "\n",
    "    # Find the ul element with the specified class\n",
    "    facility_ul = soup.find(\"ul\", class_=\"c807d72881 e5e0727360 e10711a42e\")\n",
    "\n",
    "    if facility_ul:\n",
    "        # Find all the list items within the ul and extract their text\n",
    "        facility_items = facility_ul.find_all(\"li\")\n",
    "\n",
    "        # Print the header\n",
    "        print(\"The amenities are:\")\n",
    "\n",
    "        # Loop through the list items and print their text\n",
    "        for item in facility_items:\n",
    "            print(item.text.strip())\n",
    "    else:\n",
    "        print(\"Facility ul not found.\")\n",
    "else:\n",
    "    print(\"Failed to retrieve the page. Status code:\", response.status_code)\n"
   ]
  },
  {
   "cell_type": "code",
   "execution_count": 160,
   "id": "cbe507e3",
   "metadata": {},
   "outputs": [
    {
     "name": "stdout",
     "output_type": "stream",
     "text": [
      "Review 1: No text found\n",
      "Review 2:\n",
      "“- Excellent value for money\n",
      "- Very friendly and helpful staff\n",
      "- Rooms are clean, shower is new, bed is comfy, tv is nice\n",
      "- Very safe: 24/7 security presence”\n",
      "\n",
      "Review 3:\n",
      "“Love the abience and how the staff handle guest and definitely gonna stay there again ..”\n",
      "\n",
      "Review 4:\n",
      "“1. The area is accessible and quiet.\n",
      "2. The hotel tries to be sustainable.\n",
      "3. Room was cozy.”\n",
      "\n",
      "Review 5:\n",
      "“Very clean and nice budget rooms. I was surprised that there was a table in our room because I thought there wouldn't be. No free water though.  Loved the staff! They were all accomodating and very friendly, always smiling :) I liked how there was...”\n",
      "\n",
      "Review 6:\n",
      "“If you're planning on staying for a week.. This is the place. \n",
      "Simple style for a quick stay, was given a free room upgrade for our elders.\n",
      "Room service request is pretty fast for such a big place\n",
      "Jeepni taxi and tricycle pass by very often for...”\n",
      "\n",
      "Review 7:\n",
      "“The staff at the reception was kind. The room was clean with a good AC and a hot shower. You can walk to the MRT station easily.”\n",
      "\n",
      "Review 8:\n",
      "“The cleanliness and comfortability of your room exceeded my expectations.”\n",
      "\n",
      "Review 9:\n",
      "“Very near to the center of Cubao. Was able to fetch a car or taxi easily. The room was at a nice temp and was clean!”\n",
      "\n",
      "Review 10:\n",
      "“The room is clean. Very nice toilet and bath accessories. Had its own mini convenience store. It really is a value for money.”\n",
      "\n",
      "Review 11:\n",
      "“the room is very clean and staffs are accomodating”\n",
      "\n",
      "Review 12: No text found\n",
      "Review 13: No text found\n"
     ]
    }
   ],
   "source": [
    "import requests\n",
    "from bs4 import BeautifulSoup\n",
    "\n",
    "# URL of the page to scrape\n",
    "url = 'https://www.booking.com/hotel/ph/glory-cubao.en-gb.html?aid=306395&label=manila-FQAtFrQpwv6S9K4IrmV3gAS392865645013%3Apl%3Ata%3Ap1720%3Ap2%3Aac%3Aap%3Aneg%3Afi%3Atiaud-146342137030%3Akwd-139454200%3Alp9066820%3Ali%3Adec%3Adm%3Appccp%3DUmFuZG9tSVYkc2RlIyh9YZVcNNsENnH02-pWD53qm9c&sid=fc9096d21bc731377561807eebb08b70&dest_id=-2437894;dest_type=city;dist=0;group_adults=2;group_children=0;hapos=25;hpos=25;nflt=ht_id%3D204;no_rooms=1;req_adults=2;req_children=0;room1=A%2CA;sb_price_type=total;sr_order=popularity;srepoch=1694947268;srpvid=768c46fb585a0098;type=total;ucfs=1&#hotelTmpl'\n",
    "\n",
    "# Send an HTTP GET request to the URL\n",
    "response = requests.get(url)\n",
    "\n",
    "# Check if the request was successful (status code 200)\n",
    "if response.status_code == 200:\n",
    "    # Parse the HTML content of the page\n",
    "    soup = BeautifulSoup(response.text, 'html.parser')\n",
    "\n",
    "    # Find all the review elements\n",
    "    review_elements = soup.find_all(\"div\", class_=\"aca0ade214 aaf30230d9 cd2e7d62b0\")\n",
    "\n",
    "    # Print all review texts\n",
    "    for i, review_element in enumerate(review_elements, start=1):\n",
    "        review_text_element = review_element.find(\"div\", class_=\"a53cbfa6de c688f151a2\")\n",
    "        if review_text_element:\n",
    "            review_text = review_text_element.text.strip()\n",
    "            print(f\"Review {i}:\")\n",
    "            print(review_text)\n",
    "            print()\n",
    "        else:\n",
    "            print(f\"Review {i}: No text found\")\n",
    "else:\n",
    "    print(\"Failed to retrieve the page. Status code:\", response.status_code)\n"
   ]
  },
  {
   "cell_type": "markdown",
   "id": "549c0d47",
   "metadata": {},
   "source": [
    "# 21. Pacific Bay Grand Suites "
   ]
  },
  {
   "cell_type": "code",
   "execution_count": 161,
   "id": "06a01016",
   "metadata": {},
   "outputs": [
    {
     "name": "stdout",
     "output_type": "stream",
     "text": [
      "Pacific Bay Grand Suites\n"
     ]
    }
   ],
   "source": [
    "import requests\n",
    "from bs4 import BeautifulSoup\n",
    "\n",
    "# Define the URL\n",
    "url =  'https://www.booking.com/hotel/ph/pacific-bay-grand-suites.en-gb.html?aid=306395&label=manila-FQAtFrQpwv6S9K4IrmV3gAS392865645013%3Apl%3Ata%3Ap1720%3Ap2%3Aac%3Aap%3Aneg%3Afi%3Atiaud-146342137030%3Akwd-139454200%3Alp9066820%3Ali%3Adec%3Adm%3Appccp%3DUmFuZG9tSVYkc2RlIyh9YZVcNNsENnH02-pWD53qm9c&sid=fc9096d21bc731377561807eebb08b70&dest_id=-2437894;dest_type=city;dist=0;group_adults=2;group_children=0;hapos=31;hpos=6;nflt=ht_id%3D204;no_rooms=1;req_adults=2;req_children=0;room1=A%2CA;sb_price_type=total;sr_order=popularity;srepoch=1694961768;srpvid=768c46fb585a0098;type=total;ucfs=1&#hotelTmpl'\n",
    "\n",
    "# Send an HTTP GET request to the URL\n",
    "\n",
    "response = requests.get(url)\n",
    "\n",
    "# Check if the request was successful (status code 200)\n",
    "if response.status_code == 200:\n",
    "    # Parse the HTML content\n",
    "    soup = BeautifulSoup(response.text, 'html.parser')\n",
    "\n",
    "    # Find the h2 element with the specified class\n",
    "    h2_element = soup.find(\"h2\", class_=\"d2fee87262 pp-header__title\")\n",
    "\n",
    "    # Extract and print the text content of the h2 element\n",
    "    if h2_element:\n",
    "        print(h2_element.text.strip())\n",
    "    else:\n",
    "        print(\"H2 element not found.\")\n",
    "else:\n",
    "    print(\"Failed to retrieve the page. Status code:\", response.status_code)\n"
   ]
  },
  {
   "cell_type": "code",
   "execution_count": 162,
   "id": "26a7c6df",
   "metadata": {},
   "outputs": [
    {
     "name": "stdout",
     "output_type": "stream",
     "text": [
      "The location is 1622 JORGE BOCOBO STREET , BIRCH TOWER MANILA, 1004 Manila, Philippines\n"
     ]
    }
   ],
   "source": [
    "import requests\n",
    "from bs4 import BeautifulSoup\n",
    "\n",
    "\n",
    "# Define the URL\n",
    "url =  'https://www.booking.com/hotel/ph/pacific-bay-grand-suites.en-gb.html?aid=306395&label=manila-FQAtFrQpwv6S9K4IrmV3gAS392865645013%3Apl%3Ata%3Ap1720%3Ap2%3Aac%3Aap%3Aneg%3Afi%3Atiaud-146342137030%3Akwd-139454200%3Alp9066820%3Ali%3Adec%3Adm%3Appccp%3DUmFuZG9tSVYkc2RlIyh9YZVcNNsENnH02-pWD53qm9c&sid=fc9096d21bc731377561807eebb08b70&dest_id=-2437894;dest_type=city;dist=0;group_adults=2;group_children=0;hapos=31;hpos=6;nflt=ht_id%3D204;no_rooms=1;req_adults=2;req_children=0;room1=A%2CA;sb_price_type=total;sr_order=popularity;srepoch=1694961768;srpvid=768c46fb585a0098;type=total;ucfs=1&#hotelTmpl'\n",
    "\n",
    "# Send an HTTP GET request to the URL\n",
    "response = requests.get(url)\n",
    "\n",
    "# Check if the request was successful (status code 200)\n",
    "if response.status_code == 200:\n",
    "    # Parse the HTML content\n",
    "    soup = BeautifulSoup(response.text, 'html.parser')\n",
    "\n",
    "    # Find the span element with the specified class and extract the address\n",
    "    address_element = soup.find(\"span\", class_=\"hp_address_subtitle\")\n",
    "\n",
    "    if address_element:\n",
    "        address = address_element.text.strip()\n",
    "        print(\"The location is\" ,address)\n",
    "    else:\n",
    "        print(\"Address element not found.\")\n",
    "else:\n",
    "    print(\"Failed to retrieve the page. Status code:\", response.status_code)\n"
   ]
  },
  {
   "cell_type": "code",
   "execution_count": 163,
   "id": "f0a31fc1",
   "metadata": {},
   "outputs": [
    {
     "name": "stdout",
     "output_type": "stream",
     "text": [
      "The Room types are:\n",
      "Premier Studio With Kitchen\n",
      "Deluxe King Room\n",
      "Bay View Suite\n",
      "Luxury One Bedroom\n",
      "Two Bedroom Family Suite\n"
     ]
    }
   ],
   "source": [
    "import requests\n",
    "from bs4 import BeautifulSoup\n",
    "\n",
    "# URL of the page to scrape\n",
    "url =  'https://www.booking.com/hotel/ph/pacific-bay-grand-suites.en-gb.html?aid=306395&label=manila-FQAtFrQpwv6S9K4IrmV3gAS392865645013%3Apl%3Ata%3Ap1720%3Ap2%3Aac%3Aap%3Aneg%3Afi%3Atiaud-146342137030%3Akwd-139454200%3Alp9066820%3Ali%3Adec%3Adm%3Appccp%3DUmFuZG9tSVYkc2RlIyh9YZVcNNsENnH02-pWD53qm9c&sid=fc9096d21bc731377561807eebb08b70&dest_id=-2437894;dest_type=city;dist=0;group_adults=2;group_children=0;hapos=31;hpos=6;nflt=ht_id%3D204;no_rooms=1;req_adults=2;req_children=0;room1=A%2CA;sb_price_type=total;sr_order=popularity;srepoch=1694961768;srpvid=768c46fb585a0098;type=total;ucfs=1&#hotelTmpl'\n",
    "\n",
    "# Send an HTTP GET request to the URL\n",
    "response = requests.get(url)\n",
    "\n",
    "# Check if the request was successful (status code 200)\n",
    "if response.status_code == 200:\n",
    "    # Parse the HTML content of the page\n",
    "    soup = BeautifulSoup(response.text, 'html.parser')\n",
    "\n",
    "    # Find all the room type elements\n",
    "    room_type_elements = soup.find_all(\"a\", class_=\"a83ed08757 f88a5204c2 d1c4779e7a js-legacy-room-name b98133fb50\")\n",
    "\n",
    "    # Extract and print the room types\n",
    "    room_types = [element.find(\"span\").text for element in room_type_elements]\n",
    "\n",
    "    # Print the header\n",
    "    print(\"The Room types are:\")\n",
    "\n",
    "    for room_type in room_types:\n",
    "        print(room_type)\n",
    "else:\n",
    "    print(\"Failed to retrieve the page. Status code:\", response.status_code)\n"
   ]
  },
  {
   "cell_type": "code",
   "execution_count": 164,
   "id": "51ee37d1",
   "metadata": {},
   "outputs": [
    {
     "name": "stdout",
     "output_type": "stream",
     "text": [
      "The amenities are:\n",
      "Indoor swimming pool\n",
      "Free WiFi\n",
      "Free parking\n",
      "Family rooms\n",
      "Fitness centre\n",
      "Non-smoking rooms\n",
      "Room service\n",
      "24-hour front desk\n",
      "Laundry\n",
      "Terrace\n"
     ]
    }
   ],
   "source": [
    "import requests\n",
    "from bs4 import BeautifulSoup\n",
    "\n",
    "# Define the URL\n",
    "url =  'https://www.booking.com/hotel/ph/pacific-bay-grand-suites.en-gb.html?aid=306395&label=manila-FQAtFrQpwv6S9K4IrmV3gAS392865645013%3Apl%3Ata%3Ap1720%3Ap2%3Aac%3Aap%3Aneg%3Afi%3Atiaud-146342137030%3Akwd-139454200%3Alp9066820%3Ali%3Adec%3Adm%3Appccp%3DUmFuZG9tSVYkc2RlIyh9YZVcNNsENnH02-pWD53qm9c&sid=fc9096d21bc731377561807eebb08b70&dest_id=-2437894;dest_type=city;dist=0;group_adults=2;group_children=0;hapos=31;hpos=6;nflt=ht_id%3D204;no_rooms=1;req_adults=2;req_children=0;room1=A%2CA;sb_price_type=total;sr_order=popularity;srepoch=1694961768;srpvid=768c46fb585a0098;type=total;ucfs=1&#hotelTmpl'\n",
    "\n",
    "# Send an HTTP GET request to the URL\n",
    "response = requests.get(url)\n",
    "\n",
    "# Check if the request was successful (status code 200)\n",
    "if response.status_code == 200:\n",
    "    # Parse the HTML content\n",
    "    soup = BeautifulSoup(response.text, 'html.parser')\n",
    "\n",
    "    # Find the ul element with the specified class\n",
    "    facility_ul = soup.find(\"ul\", class_=\"c807d72881 e5e0727360 e10711a42e\")\n",
    "\n",
    "    if facility_ul:\n",
    "        # Find all the list items within the ul and extract their text\n",
    "        facility_items = facility_ul.find_all(\"li\")\n",
    "\n",
    "        # Print the header\n",
    "        print(\"The amenities are:\")\n",
    "\n",
    "        # Loop through the list items and print their text\n",
    "        for item in facility_items:\n",
    "            print(item.text.strip())\n",
    "    else:\n",
    "        print(\"Facility ul not found.\")\n",
    "else:\n",
    "    print(\"Failed to retrieve the page. Status code:\", response.status_code)\n"
   ]
  },
  {
   "cell_type": "code",
   "execution_count": 165,
   "id": "43776efb",
   "metadata": {},
   "outputs": [
    {
     "name": "stdout",
     "output_type": "stream",
     "text": [
      "Review 1: No text found\n",
      "Review 2:\n",
      "“We stayed as family of 5 members and we perfectly fit in the 2 bedroom suite. The room was good and worth it.”\n",
      "\n",
      "Review 3:\n",
      "“The staff are giving excellent service. I left my wedding ring in the safe but when i call them they found it and returned it to me.”\n",
      "\n",
      "Review 4: No text found\n"
     ]
    }
   ],
   "source": [
    "import requests\n",
    "from bs4 import BeautifulSoup\n",
    "\n",
    "# URL of the page to scrape\n",
    "url =  'https://www.booking.com/hotel/ph/pacific-bay-grand-suites.en-gb.html?aid=306395&label=manila-FQAtFrQpwv6S9K4IrmV3gAS392865645013%3Apl%3Ata%3Ap1720%3Ap2%3Aac%3Aap%3Aneg%3Afi%3Atiaud-146342137030%3Akwd-139454200%3Alp9066820%3Ali%3Adec%3Adm%3Appccp%3DUmFuZG9tSVYkc2RlIyh9YZVcNNsENnH02-pWD53qm9c&sid=fc9096d21bc731377561807eebb08b70&dest_id=-2437894;dest_type=city;dist=0;group_adults=2;group_children=0;hapos=31;hpos=6;nflt=ht_id%3D204;no_rooms=1;req_adults=2;req_children=0;room1=A%2CA;sb_price_type=total;sr_order=popularity;srepoch=1694961768;srpvid=768c46fb585a0098;type=total;ucfs=1&#hotelTmpl'\n",
    "\n",
    "# Send an HTTP GET request to the URL\n",
    "response = requests.get(url)\n",
    "\n",
    "# Check if the request was successful (status code 200)\n",
    "if response.status_code == 200:\n",
    "    # Parse the HTML content of the page\n",
    "    soup = BeautifulSoup(response.text, 'html.parser')\n",
    "\n",
    "    # Find all the review elements\n",
    "    review_elements = soup.find_all(\"div\", class_=\"aca0ade214 aaf30230d9 cd2e7d62b0\")\n",
    "\n",
    "    # Print all review texts\n",
    "    for i, review_element in enumerate(review_elements, start=1):\n",
    "        review_text_element = review_element.find(\"div\", class_=\"a53cbfa6de c688f151a2\")\n",
    "        if review_text_element:\n",
    "            review_text = review_text_element.text.strip()\n",
    "            print(f\"Review {i}:\")\n",
    "            print(review_text)\n",
    "            print()\n",
    "        else:\n",
    "            print(f\"Review {i}: No text found\")\n",
    "else:\n",
    "    print(\"Failed to retrieve the page. Status code:\", response.status_code)\n"
   ]
  },
  {
   "cell_type": "markdown",
   "id": "22cebeda",
   "metadata": {},
   "source": [
    "#  22. Regency Grand Suites"
   ]
  },
  {
   "cell_type": "code",
   "execution_count": 166,
   "id": "f09c3e36",
   "metadata": {},
   "outputs": [
    {
     "name": "stdout",
     "output_type": "stream",
     "text": [
      "Regency Grand Suites\n"
     ]
    }
   ],
   "source": [
    "import requests\n",
    "from bs4 import BeautifulSoup\n",
    "\n",
    "# Define the URL\n",
    "url = 'https://www.booking.com/hotel/ph/regencygrand-suit.en-gb.html?aid=306395&label=manila-FQAtFrQpwv6S9K4IrmV3gAS392865645013%3Apl%3Ata%3Ap1720%3Ap2%3Aac%3Aap%3Aneg%3Afi%3Atiaud-146342137030%3Akwd-139454200%3Alp9066820%3Ali%3Adec%3Adm%3Appccp%3DUmFuZG9tSVYkc2RlIyh9YZVcNNsENnH02-pWD53qm9c&sid=fc9096d21bc731377561807eebb08b70&dest_id=-2437894;dest_type=city;dist=0;group_adults=2;group_children=0;hapos=33;hpos=8;nflt=ht_id%3D204;no_rooms=1;req_adults=2;req_children=0;room1=A%2CA;sb_price_type=total;sr_order=popularity;srepoch=1694961768;srpvid=768c46fb585a0098;type=total;ucfs=1&#hotelTmpl'\n",
    "\n",
    "# Send an HTTP GET request to the URL\n",
    "\n",
    "response = requests.get(url)\n",
    "\n",
    "# Check if the request was successful (status code 200)\n",
    "if response.status_code == 200:\n",
    "    # Parse the HTML content\n",
    "    soup = BeautifulSoup(response.text, 'html.parser')\n",
    "\n",
    "    # Find the h2 element with the specified class\n",
    "    h2_element = soup.find(\"h2\", class_=\"d2fee87262 pp-header__title\")\n",
    "\n",
    "    # Extract and print the text content of the h2 element\n",
    "    if h2_element:\n",
    "        print(h2_element.text.strip())\n",
    "    else:\n",
    "        print(\"H2 element not found.\")\n",
    "else:\n",
    "    print(\"Failed to retrieve the page. Status code:\", response.status_code)\n"
   ]
  },
  {
   "cell_type": "code",
   "execution_count": 167,
   "id": "afb92219",
   "metadata": {},
   "outputs": [
    {
     "name": "stdout",
     "output_type": "stream",
     "text": [
      "The location is 32 Birch Tower, 1622, J. Bocobo St. Malate, 1004 Manila, Philippines\n"
     ]
    }
   ],
   "source": [
    "import requests\n",
    "from bs4 import BeautifulSoup\n",
    "\n",
    "\n",
    "# Define the URL\n",
    "url = 'https://www.booking.com/hotel/ph/regencygrand-suit.en-gb.html?aid=306395&label=manila-FQAtFrQpwv6S9K4IrmV3gAS392865645013%3Apl%3Ata%3Ap1720%3Ap2%3Aac%3Aap%3Aneg%3Afi%3Atiaud-146342137030%3Akwd-139454200%3Alp9066820%3Ali%3Adec%3Adm%3Appccp%3DUmFuZG9tSVYkc2RlIyh9YZVcNNsENnH02-pWD53qm9c&sid=fc9096d21bc731377561807eebb08b70&dest_id=-2437894;dest_type=city;dist=0;group_adults=2;group_children=0;hapos=33;hpos=8;nflt=ht_id%3D204;no_rooms=1;req_adults=2;req_children=0;room1=A%2CA;sb_price_type=total;sr_order=popularity;srepoch=1694961768;srpvid=768c46fb585a0098;type=total;ucfs=1&#hotelTmpl'\n",
    "\n",
    "# Send an HTTP GET request to the URL\n",
    "response = requests.get(url)\n",
    "\n",
    "# Check if the request was successful (status code 200)\n",
    "if response.status_code == 200:\n",
    "    # Parse the HTML content\n",
    "    soup = BeautifulSoup(response.text, 'html.parser')\n",
    "\n",
    "    # Find the span element with the specified class and extract the address\n",
    "    address_element = soup.find(\"span\", class_=\"hp_address_subtitle\")\n",
    "\n",
    "    if address_element:\n",
    "        address = address_element.text.strip()\n",
    "        print(\"The location is\" ,address)\n",
    "    else:\n",
    "        print(\"Address element not found.\")\n",
    "else:\n",
    "    print(\"Failed to retrieve the page. Status code:\", response.status_code)\n"
   ]
  },
  {
   "cell_type": "code",
   "execution_count": 168,
   "id": "6ac2ca16",
   "metadata": {},
   "outputs": [
    {
     "name": "stdout",
     "output_type": "stream",
     "text": [
      "The Room types are:\n",
      "Deluxe Studio\n",
      "Executive Twin Studio \n",
      "One-Bedroom Suite\n",
      "Premier Studio\n",
      "Room Selected at Check In\n",
      "Prestige Club Suite\n",
      "Prestige Club Twin Bed Suite\n"
     ]
    }
   ],
   "source": [
    "import requests\n",
    "from bs4 import BeautifulSoup\n",
    "\n",
    "# URL of the page to scrape\n",
    "url = 'https://www.booking.com/hotel/ph/regencygrand-suit.en-gb.html?aid=306395&label=manila-FQAtFrQpwv6S9K4IrmV3gAS392865645013%3Apl%3Ata%3Ap1720%3Ap2%3Aac%3Aap%3Aneg%3Afi%3Atiaud-146342137030%3Akwd-139454200%3Alp9066820%3Ali%3Adec%3Adm%3Appccp%3DUmFuZG9tSVYkc2RlIyh9YZVcNNsENnH02-pWD53qm9c&sid=fc9096d21bc731377561807eebb08b70&dest_id=-2437894;dest_type=city;dist=0;group_adults=2;group_children=0;hapos=33;hpos=8;nflt=ht_id%3D204;no_rooms=1;req_adults=2;req_children=0;room1=A%2CA;sb_price_type=total;sr_order=popularity;srepoch=1694961768;srpvid=768c46fb585a0098;type=total;ucfs=1&#hotelTmpl'\n",
    "\n",
    "# Send an HTTP GET request to the URL\n",
    "response = requests.get(url)\n",
    "\n",
    "# Check if the request was successful (status code 200)\n",
    "if response.status_code == 200:\n",
    "    # Parse the HTML content of the page\n",
    "    soup = BeautifulSoup(response.text, 'html.parser')\n",
    "\n",
    "    # Find all the room type elements\n",
    "    room_type_elements = soup.find_all(\"a\", class_=\"a83ed08757 f88a5204c2 d1c4779e7a js-legacy-room-name b98133fb50\")\n",
    "\n",
    "    # Extract and print the room types\n",
    "    room_types = [element.find(\"span\").text for element in room_type_elements]\n",
    "\n",
    "    # Print the header\n",
    "    print(\"The Room types are:\")\n",
    "\n",
    "    for room_type in room_types:\n",
    "        print(room_type)\n",
    "else:\n",
    "    print(\"Failed to retrieve the page. Status code:\", response.status_code)\n"
   ]
  },
  {
   "cell_type": "code",
   "execution_count": 169,
   "id": "fe61a855",
   "metadata": {},
   "outputs": [
    {
     "name": "stdout",
     "output_type": "stream",
     "text": [
      "The amenities are:\n",
      "Indoor swimming pool\n",
      "Free WiFi\n",
      "Family rooms\n",
      "Fitness centre\n",
      "Non-smoking rooms\n",
      "Restaurant\n",
      "Room service\n",
      "24-hour front desk\n",
      "Lift\n"
     ]
    }
   ],
   "source": [
    "import requests\n",
    "from bs4 import BeautifulSoup\n",
    "\n",
    "# Define the URL\n",
    "url = 'https://www.booking.com/hotel/ph/regencygrand-suit.en-gb.html?aid=306395&label=manila-FQAtFrQpwv6S9K4IrmV3gAS392865645013%3Apl%3Ata%3Ap1720%3Ap2%3Aac%3Aap%3Aneg%3Afi%3Atiaud-146342137030%3Akwd-139454200%3Alp9066820%3Ali%3Adec%3Adm%3Appccp%3DUmFuZG9tSVYkc2RlIyh9YZVcNNsENnH02-pWD53qm9c&sid=fc9096d21bc731377561807eebb08b70&dest_id=-2437894;dest_type=city;dist=0;group_adults=2;group_children=0;hapos=33;hpos=8;nflt=ht_id%3D204;no_rooms=1;req_adults=2;req_children=0;room1=A%2CA;sb_price_type=total;sr_order=popularity;srepoch=1694961768;srpvid=768c46fb585a0098;type=total;ucfs=1&#hotelTmpl'\n",
    "\n",
    "# Send an HTTP GET request to the URL\n",
    "response = requests.get(url)\n",
    "\n",
    "# Check if the request was successful (status code 200)\n",
    "if response.status_code == 200:\n",
    "    # Parse the HTML content\n",
    "    soup = BeautifulSoup(response.text, 'html.parser')\n",
    "\n",
    "    # Find the ul element with the specified class\n",
    "    facility_ul = soup.find(\"ul\", class_=\"c807d72881 e5e0727360 e10711a42e\")\n",
    "\n",
    "    if facility_ul:\n",
    "        # Find all the list items within the ul and extract their text\n",
    "        facility_items = facility_ul.find_all(\"li\")\n",
    "\n",
    "        # Print the header\n",
    "        print(\"The amenities are:\")\n",
    "\n",
    "        # Loop through the list items and print their text\n",
    "        for item in facility_items:\n",
    "            print(item.text.strip())\n",
    "    else:\n",
    "        print(\"Facility ul not found.\")\n",
    "else:\n",
    "    print(\"Failed to retrieve the page. Status code:\", response.status_code)\n"
   ]
  },
  {
   "cell_type": "code",
   "execution_count": 170,
   "id": "3640247b",
   "metadata": {},
   "outputs": [
    {
     "name": "stdout",
     "output_type": "stream",
     "text": [
      "Review 1: No text found\n",
      "Review 2: No text found\n",
      "Review 3: No text found\n",
      "Review 4: No text found\n",
      "Review 5: No text found\n",
      "Review 6: No text found\n",
      "Review 7: No text found\n",
      "Review 8: No text found\n",
      "Review 9: No text found\n",
      "Review 10: No text found\n",
      "Review 11: No text found\n",
      "Review 12:\n",
      "“The beautiful, breathtaking view of Manila Bay from the 49th floor. The room is clean and the service is superb. The staff made sure that we had a comfortable, convenient stay.”\n",
      "\n",
      "Review 13:\n",
      "“We spent 3 nights in Manila and this hotel was an excellent choice. The location is very good! There is a huge mall on the corner, and the area has great nightlife. Our apartment was at a higher floor, so we had an amazing view from the balcony....”\n",
      "\n",
      "Review 14:\n",
      "“Great location from shop center/establishments.”\n",
      "\n",
      "Review 15:\n",
      "“Location and views from 49 floor is exceptional. \n",
      "Staff very helpful and enthusiastic .”\n",
      "\n",
      "Review 16:\n",
      "“Room  staff, location, facilities were all very good.\n",
      "I will be back there towards the end of my trip in 2 weeks..”\n",
      "\n",
      "Review 17:\n",
      "“Excellent Location, \n",
      "Everything in walking distance. Robinson Place Mall just one minute away. \n",
      "View from 49 floor unforgettable 😍”\n",
      "\n",
      "Review 18:\n",
      "“The rooms were clean, Ac have a nice performance, Wi-Fi was too strong, very comfortable, and the staff was amazing. They went over and beyond to help make our stay enjoyable. I highly recommend this hotel for anyone visiting Manila.”\n",
      "\n",
      "Review 19:\n",
      "“I like that the facility is very near to a mall. very accessible to places . the room is clean and comfortable to stay in”\n",
      "\n",
      "Review 20:\n",
      "“They have in-house breakfast available but i didn't tried it. Very short walking distance to Robinson Place Mall. There is a local bar just in front, open 3pm daily and daily performances from local bands.”\n",
      "\n",
      "Review 21:\n",
      "“Friendly and professional staff, excellent position”\n",
      "\n",
      "Review 22: No text found\n",
      "Review 23: No text found\n"
     ]
    }
   ],
   "source": [
    "import requests\n",
    "from bs4 import BeautifulSoup\n",
    "\n",
    "# URL of the page to scrape\n",
    "url = 'https://www.booking.com/hotel/ph/regencygrand-suit.en-gb.html?aid=306395&label=manila-FQAtFrQpwv6S9K4IrmV3gAS392865645013%3Apl%3Ata%3Ap1720%3Ap2%3Aac%3Aap%3Aneg%3Afi%3Atiaud-146342137030%3Akwd-139454200%3Alp9066820%3Ali%3Adec%3Adm%3Appccp%3DUmFuZG9tSVYkc2RlIyh9YZVcNNsENnH02-pWD53qm9c&sid=fc9096d21bc731377561807eebb08b70&dest_id=-2437894;dest_type=city;dist=0;group_adults=2;group_children=0;hapos=33;hpos=8;nflt=ht_id%3D204;no_rooms=1;req_adults=2;req_children=0;room1=A%2CA;sb_price_type=total;sr_order=popularity;srepoch=1694961768;srpvid=768c46fb585a0098;type=total;ucfs=1&#hotelTmpl'\n",
    "\n",
    "# Send an HTTP GET request to the URL\n",
    "response = requests.get(url)\n",
    "\n",
    "# Check if the request was successful (status code 200)\n",
    "if response.status_code == 200:\n",
    "    # Parse the HTML content of the page\n",
    "    soup = BeautifulSoup(response.text, 'html.parser')\n",
    "\n",
    "    # Find all the review elements\n",
    "    review_elements = soup.find_all(\"div\", class_=\"aca0ade214 aaf30230d9 cd2e7d62b0\")\n",
    "\n",
    "    # Print all review texts\n",
    "    for i, review_element in enumerate(review_elements, start=1):\n",
    "        review_text_element = review_element.find(\"div\", class_=\"a53cbfa6de c688f151a2\")\n",
    "        if review_text_element:\n",
    "            review_text = review_text_element.text.strip()\n",
    "            print(f\"Review {i}:\")\n",
    "            print(review_text)\n",
    "            print()\n",
    "        else:\n",
    "            print(f\"Review {i}: No text found\")\n",
    "else:\n",
    "    print(\"Failed to retrieve the page. Status code:\", response.status_code)\n"
   ]
  },
  {
   "cell_type": "markdown",
   "id": "39bca870",
   "metadata": {},
   "source": [
    "#  23. Hotel Kimberly Manila\n"
   ]
  },
  {
   "cell_type": "code",
   "execution_count": 171,
   "id": "5b126e93",
   "metadata": {},
   "outputs": [
    {
     "name": "stdout",
     "output_type": "stream",
     "text": [
      "Hotel Kimberly Manila\n"
     ]
    }
   ],
   "source": [
    "import requests\n",
    "from bs4 import BeautifulSoup\n",
    "\n",
    "# Define the URL\n",
    "url = 'https://www.booking.com/hotel/ph/kimberly-manila.en-gb.html?aid=306395&label=manila-FQAtFrQpwv6S9K4IrmV3gAS392865645013%3Apl%3Ata%3Ap1720%3Ap2%3Aac%3Aap%3Aneg%3Afi%3Atiaud-146342137030%3Akwd-139454200%3Alp9066820%3Ali%3Adec%3Adm%3Appccp%3DUmFuZG9tSVYkc2RlIyh9YZVcNNsENnH02-pWD53qm9c&sid=fc9096d21bc731377561807eebb08b70&dest_id=-2437894;dest_type=city;dist=0;group_adults=2;group_children=0;hapos=35;hpos=10;nflt=ht_id%3D204;no_rooms=1;req_adults=2;req_children=0;room1=A%2CA;sb_price_type=total;sr_order=popularity;srepoch=1694961768;srpvid=768c46fb585a0098;type=total;ucfs=1&#hotelTmpl'\n",
    "\n",
    "# Send an HTTP GET request to the URL\n",
    "\n",
    "response = requests.get(url)\n",
    "\n",
    "# Check if the request was successful (status code 200)\n",
    "if response.status_code == 200:\n",
    "    # Parse the HTML content\n",
    "    soup = BeautifulSoup(response.text, 'html.parser')\n",
    "\n",
    "    # Find the h2 element with the specified class\n",
    "    h2_element = soup.find(\"h2\", class_=\"d2fee87262 pp-header__title\")\n",
    "\n",
    "    # Extract and print the text content of the h2 element\n",
    "    if h2_element:\n",
    "        print(h2_element.text.strip())\n",
    "    else:\n",
    "        print(\"H2 element not found.\")\n",
    "else:\n",
    "    print(\"Failed to retrieve the page. Status code:\", response.status_code)\n"
   ]
  },
  {
   "cell_type": "code",
   "execution_count": 172,
   "id": "9fae60e1",
   "metadata": {},
   "outputs": [
    {
     "name": "stdout",
     "output_type": "stream",
     "text": [
      "The location is 770 Pedro Gil St., Malate, 1004 Manila, Philippines\n"
     ]
    }
   ],
   "source": [
    "import requests\n",
    "from bs4 import BeautifulSoup\n",
    "\n",
    "\n",
    "# Define the URL\n",
    "url = 'https://www.booking.com/hotel/ph/kimberly-manila.en-gb.html?aid=306395&label=manila-FQAtFrQpwv6S9K4IrmV3gAS392865645013%3Apl%3Ata%3Ap1720%3Ap2%3Aac%3Aap%3Aneg%3Afi%3Atiaud-146342137030%3Akwd-139454200%3Alp9066820%3Ali%3Adec%3Adm%3Appccp%3DUmFuZG9tSVYkc2RlIyh9YZVcNNsENnH02-pWD53qm9c&sid=fc9096d21bc731377561807eebb08b70&dest_id=-2437894;dest_type=city;dist=0;group_adults=2;group_children=0;hapos=35;hpos=10;nflt=ht_id%3D204;no_rooms=1;req_adults=2;req_children=0;room1=A%2CA;sb_price_type=total;sr_order=popularity;srepoch=1694961768;srpvid=768c46fb585a0098;type=total;ucfs=1&#hotelTmpl'\n",
    "\n",
    "# Send an HTTP GET request to the URL\n",
    "response = requests.get(url)\n",
    "\n",
    "# Check if the request was successful (status code 200)\n",
    "if response.status_code == 200:\n",
    "    # Parse the HTML content\n",
    "    soup = BeautifulSoup(response.text, 'html.parser')\n",
    "\n",
    "    # Find the span element with the specified class and extract the address\n",
    "    address_element = soup.find(\"span\", class_=\"hp_address_subtitle\")\n",
    "\n",
    "    if address_element:\n",
    "        address = address_element.text.strip()\n",
    "        print(\"The location is\" ,address)\n",
    "    else:\n",
    "        print(\"Address element not found.\")\n",
    "else:\n",
    "    print(\"Failed to retrieve the page. Status code:\", response.status_code)\n"
   ]
  },
  {
   "cell_type": "code",
   "execution_count": 173,
   "id": "16567259",
   "metadata": {},
   "outputs": [
    {
     "name": "stdout",
     "output_type": "stream",
     "text": [
      "The Room types are:\n",
      "Premier Family Suite with Kitchen\n",
      "Deluxe Family Room\n",
      "Executive Suite\n",
      "Superior Twin Room\n",
      "Superior Triple Room\n",
      "Superior Family Room\n",
      "Deluxe Triple Room\n",
      "Deluxe Twin Room\n",
      "Superior Quadruple Room\n",
      "Deluxe Quadruple Room\n",
      "Family Suite\n",
      "Kimberly Queen Loft Annex\n",
      "Kimberly Family Loft Annex\n",
      "Premier Studio Suite with Kitchen\n"
     ]
    }
   ],
   "source": [
    "import requests\n",
    "from bs4 import BeautifulSoup\n",
    "\n",
    "# URL of the page to scrape\n",
    "url = 'https://www.booking.com/hotel/ph/kimberly-manila.en-gb.html?aid=306395&label=manila-FQAtFrQpwv6S9K4IrmV3gAS392865645013%3Apl%3Ata%3Ap1720%3Ap2%3Aac%3Aap%3Aneg%3Afi%3Atiaud-146342137030%3Akwd-139454200%3Alp9066820%3Ali%3Adec%3Adm%3Appccp%3DUmFuZG9tSVYkc2RlIyh9YZVcNNsENnH02-pWD53qm9c&sid=fc9096d21bc731377561807eebb08b70&dest_id=-2437894;dest_type=city;dist=0;group_adults=2;group_children=0;hapos=35;hpos=10;nflt=ht_id%3D204;no_rooms=1;req_adults=2;req_children=0;room1=A%2CA;sb_price_type=total;sr_order=popularity;srepoch=1694961768;srpvid=768c46fb585a0098;type=total;ucfs=1&#hotelTmpl'\n",
    "\n",
    "# Send an HTTP GET request to the URL\n",
    "response = requests.get(url)\n",
    "\n",
    "# Check if the request was successful (status code 200)\n",
    "if response.status_code == 200:\n",
    "    # Parse the HTML content of the page\n",
    "    soup = BeautifulSoup(response.text, 'html.parser')\n",
    "\n",
    "    # Find all the room type elements\n",
    "    room_type_elements = soup.find_all(\"a\", class_=\"a83ed08757 f88a5204c2 d1c4779e7a js-legacy-room-name b98133fb50\")\n",
    "\n",
    "    # Extract and print the room types\n",
    "    room_types = [element.find(\"span\").text for element in room_type_elements]\n",
    "\n",
    "    # Print the header\n",
    "    print(\"The Room types are:\")\n",
    "\n",
    "    for room_type in room_types:\n",
    "        print(room_type)\n",
    "else:\n",
    "    print(\"Failed to retrieve the page. Status code:\", response.status_code)\n"
   ]
  },
  {
   "cell_type": "code",
   "execution_count": 174,
   "id": "a7c959bb",
   "metadata": {},
   "outputs": [
    {
     "name": "stdout",
     "output_type": "stream",
     "text": [
      "The amenities are:\n",
      "Free WiFi\n",
      "Airport shuttle\n",
      "Parking\n",
      "Family rooms\n",
      "Non-smoking rooms\n",
      "Restaurant\n",
      "Room service\n",
      "24-hour front desk\n",
      "Bar\n",
      "Good breakfast\n"
     ]
    }
   ],
   "source": [
    "import requests\n",
    "from bs4 import BeautifulSoup\n",
    "\n",
    "# Define the URL\n",
    "url = 'https://www.booking.com/hotel/ph/kimberly-manila.en-gb.html?aid=306395&label=manila-FQAtFrQpwv6S9K4IrmV3gAS392865645013%3Apl%3Ata%3Ap1720%3Ap2%3Aac%3Aap%3Aneg%3Afi%3Atiaud-146342137030%3Akwd-139454200%3Alp9066820%3Ali%3Adec%3Adm%3Appccp%3DUmFuZG9tSVYkc2RlIyh9YZVcNNsENnH02-pWD53qm9c&sid=fc9096d21bc731377561807eebb08b70&dest_id=-2437894;dest_type=city;dist=0;group_adults=2;group_children=0;hapos=35;hpos=10;nflt=ht_id%3D204;no_rooms=1;req_adults=2;req_children=0;room1=A%2CA;sb_price_type=total;sr_order=popularity;srepoch=1694961768;srpvid=768c46fb585a0098;type=total;ucfs=1&#hotelTmpl'\n",
    "\n",
    "# Send an HTTP GET request to the URL\n",
    "response = requests.get(url)\n",
    "\n",
    "# Check if the request was successful (status code 200)\n",
    "if response.status_code == 200:\n",
    "    # Parse the HTML content\n",
    "    soup = BeautifulSoup(response.text, 'html.parser')\n",
    "\n",
    "    # Find the ul element with the specified class\n",
    "    facility_ul = soup.find(\"ul\", class_=\"c807d72881 e5e0727360 e10711a42e\")\n",
    "\n",
    "    if facility_ul:\n",
    "        # Find all the list items within the ul and extract their text\n",
    "        facility_items = facility_ul.find_all(\"li\")\n",
    "\n",
    "        # Print the header\n",
    "        print(\"The amenities are:\")\n",
    "\n",
    "        # Loop through the list items and print their text\n",
    "        for item in facility_items:\n",
    "            print(item.text.strip())\n",
    "    else:\n",
    "        print(\"Facility ul not found.\")\n",
    "else:\n",
    "    print(\"Failed to retrieve the page. Status code:\", response.status_code)\n"
   ]
  },
  {
   "cell_type": "code",
   "execution_count": 175,
   "id": "6a248c3d",
   "metadata": {},
   "outputs": [
    {
     "name": "stdout",
     "output_type": "stream",
     "text": [
      "Review 1: No text found\n",
      "Review 2: No text found\n",
      "Review 3:\n",
      "“staff were amazingly polite and nice always smiling and ready to help.On photos room looked bigger”\n",
      "\n",
      "Review 4:\n",
      "“Good location,comfortable stay,very clean,restaurantand and room service is good,staff are so friendly,definitely will use again on my next trip and also recommend to family and friends”\n",
      "\n",
      "Review 5:\n",
      "“Food are delicious. Satisfied with overall stay.  Thank you for the good service”\n",
      "\n",
      "Review 6:\n",
      "“Quiet and spacious room. Got upgraded to room with kitchen. Friendly and courteous staff. Housekeeping responded promptly to my requests. My second time here and didn't disappointed. Would stay again”\n",
      "\n",
      "Review 7:\n",
      "“The hotel staff were very friendly and helpful. I found the room to be clean and comfortable.”\n",
      "\n",
      "Review 8:\n",
      "“The room was clean and tidy and staff was nice and polite.”\n",
      "\n",
      "Review 9:\n",
      "“Clean service is excellent , especially staffs are kind helpful. Facility is comfortable, and breakfast is great.  Highly recommended.”\n",
      "\n",
      "Review 10:\n",
      "“Very large room. Clean. Good selection TV channels. Friendly staff. Close to Robinsons. Was in street facing room on 7 floor but not very noisy”\n",
      "\n",
      "Review 11:\n",
      "“Good locations, and very accessible to anything you need. Their breakfast has a good selections and so delicious.”\n",
      "\n",
      "Review 12:\n",
      "“Staff are very accomodating. All my request are all provided. The room are so clean and very comfortable to stay that i wat to stay longer. Accessible to all shops, mall trasportaiin etc. hotel kimberly is highly reccommended.”\n",
      "\n",
      "Review 13: No text found\n",
      "Review 14: No text found\n"
     ]
    }
   ],
   "source": [
    "import requests\n",
    "from bs4 import BeautifulSoup\n",
    "\n",
    "# URL of the page to scrape\n",
    "url = 'https://www.booking.com/hotel/ph/kimberly-manila.en-gb.html?aid=306395&label=manila-FQAtFrQpwv6S9K4IrmV3gAS392865645013%3Apl%3Ata%3Ap1720%3Ap2%3Aac%3Aap%3Aneg%3Afi%3Atiaud-146342137030%3Akwd-139454200%3Alp9066820%3Ali%3Adec%3Adm%3Appccp%3DUmFuZG9tSVYkc2RlIyh9YZVcNNsENnH02-pWD53qm9c&sid=fc9096d21bc731377561807eebb08b70&dest_id=-2437894;dest_type=city;dist=0;group_adults=2;group_children=0;hapos=35;hpos=10;nflt=ht_id%3D204;no_rooms=1;req_adults=2;req_children=0;room1=A%2CA;sb_price_type=total;sr_order=popularity;srepoch=1694961768;srpvid=768c46fb585a0098;type=total;ucfs=1&#hotelTmpl'\n",
    "\n",
    "# Send an HTTP GET request to the URL\n",
    "response = requests.get(url)\n",
    "\n",
    "# Check if the request was successful (status code 200)\n",
    "if response.status_code == 200:\n",
    "    # Parse the HTML content of the page\n",
    "    soup = BeautifulSoup(response.text, 'html.parser')\n",
    "\n",
    "    # Find all the review elements\n",
    "    review_elements = soup.find_all(\"div\", class_=\"aca0ade214 aaf30230d9 cd2e7d62b0\")\n",
    "\n",
    "    # Print all review texts\n",
    "    for i, review_element in enumerate(review_elements, start=1):\n",
    "        review_text_element = review_element.find(\"div\", class_=\"a53cbfa6de c688f151a2\")\n",
    "        if review_text_element:\n",
    "            review_text = review_text_element.text.strip()\n",
    "            print(f\"Review {i}:\")\n",
    "            print(review_text)\n",
    "            print()\n",
    "        else:\n",
    "            print(f\"Review {i}: No text found\")\n",
    "else:\n",
    "    print(\"Failed to retrieve the page. Status code:\", response.status_code)\n"
   ]
  },
  {
   "cell_type": "markdown",
   "id": "b4ceda7d",
   "metadata": {},
   "source": [
    "#  24. Selah Pods Hotel Manila"
   ]
  },
  {
   "cell_type": "code",
   "execution_count": 2,
   "id": "67320e32",
   "metadata": {},
   "outputs": [
    {
     "name": "stdout",
     "output_type": "stream",
     "text": [
      "Selah Pods Hotel Manila\n"
     ]
    }
   ],
   "source": [
    "import requests\n",
    "from bs4 import BeautifulSoup\n",
    "\n",
    "# Define the URL\n",
    "url = 'https://www.booking.com/hotel/ph/selah-pods-hotel-manila.en-gb.html?aid=306395&label=manila-FQAtFrQpwv6S9K4IrmV3gAS392865645013%3Apl%3Ata%3Ap1720%3Ap2%3Aac%3Aap%3Aneg%3Afi%3Atiaud-146342137030%3Akwd-139454200%3Alp9066820%3Ali%3Adec%3Adm%3Appccp%3DUmFuZG9tSVYkc2RlIyh9YZVcNNsENnH02-pWD53qm9c&sid=fc9096d21bc731377561807eebb08b70&dest_id=-2437894;dest_type=city;dist=0;group_adults=2;group_children=0;hapos=38;hpos=13;nflt=ht_id%3D204;no_rooms=1;req_adults=2;req_children=0;room1=A%2CA;sb_price_type=total;sr_order=popularity;srepoch=1694961768;srpvid=768c46fb585a0098;type=total;ucfs=1&#hotelTmpl'\n",
    "\n",
    "# Send an HTTP GET request to the URL\n",
    "\n",
    "response = requests.get(url)\n",
    "\n",
    "# Check if the request was successful (status code 200)\n",
    "if response.status_code == 200:\n",
    "    # Parse the HTML content\n",
    "    soup = BeautifulSoup(response.text, 'html.parser')\n",
    "\n",
    "    # Find the h2 element with the specified class\n",
    "    h2_element = soup.find(\"h2\", class_=\"d2fee87262 pp-header__title\")\n",
    "\n",
    "    # Extract and print the text content of the h2 element\n",
    "    if h2_element:\n",
    "        print(h2_element.text.strip())\n",
    "    else:\n",
    "        print(\"H2 element not found.\")\n",
    "else:\n",
    "    print(\"Failed to retrieve the page. Status code:\", response.status_code)\n"
   ]
  },
  {
   "cell_type": "code",
   "execution_count": 177,
   "id": "63624ecb",
   "metadata": {},
   "outputs": [
    {
     "name": "stdout",
     "output_type": "stream",
     "text": [
      "The location is 2004-224 David Street corner PH, San Hose, F.B. Harrison Street, Pasay, 1305 Manila, Philippines\n"
     ]
    }
   ],
   "source": [
    "import requests\n",
    "from bs4 import BeautifulSoup\n",
    "\n",
    "\n",
    "# Define the URL\n",
    "url = 'https://www.booking.com/hotel/ph/selah-pods-hotel-manila.en-gb.html?aid=306395&label=manila-FQAtFrQpwv6S9K4IrmV3gAS392865645013%3Apl%3Ata%3Ap1720%3Ap2%3Aac%3Aap%3Aneg%3Afi%3Atiaud-146342137030%3Akwd-139454200%3Alp9066820%3Ali%3Adec%3Adm%3Appccp%3DUmFuZG9tSVYkc2RlIyh9YZVcNNsENnH02-pWD53qm9c&sid=fc9096d21bc731377561807eebb08b70&dest_id=-2437894;dest_type=city;dist=0;group_adults=2;group_children=0;hapos=38;hpos=13;nflt=ht_id%3D204;no_rooms=1;req_adults=2;req_children=0;room1=A%2CA;sb_price_type=total;sr_order=popularity;srepoch=1694961768;srpvid=768c46fb585a0098;type=total;ucfs=1&#hotelTmpl'\n",
    "\n",
    "# Send an HTTP GET request to the URL\n",
    "response = requests.get(url)\n",
    "\n",
    "# Check if the request was successful (status code 200)\n",
    "if response.status_code == 200:\n",
    "    # Parse the HTML content\n",
    "    soup = BeautifulSoup(response.text, 'html.parser')\n",
    "\n",
    "    # Find the span element with the specified class and extract the address\n",
    "    address_element = soup.find(\"span\", class_=\"hp_address_subtitle\")\n",
    "\n",
    "    if address_element:\n",
    "        address = address_element.text.strip()\n",
    "        print(\"The location is\" ,address)\n",
    "    else:\n",
    "        print(\"Address element not found.\")\n",
    "else:\n",
    "    print(\"Failed to retrieve the page. Status code:\", response.status_code)\n"
   ]
  },
  {
   "cell_type": "code",
   "execution_count": 178,
   "id": "9ed9c474",
   "metadata": {},
   "outputs": [
    {
     "name": "stdout",
     "output_type": "stream",
     "text": [
      "The Room types are:\n",
      "Standard Double Room without View\n",
      "Standard Double Room\n",
      "Deluxe Double or Twin Room without View\n",
      "Deluxe Double or Twin Room\n",
      "Deluxe Twin Premium\n",
      "Executive Suite\n",
      "Loft Suite for 6\n",
      "Loft Suite for 8\n",
      "Suite\n"
     ]
    }
   ],
   "source": [
    "import requests\n",
    "from bs4 import BeautifulSoup\n",
    "\n",
    "# URL of the page to scrape\n",
    "url = 'https://www.booking.com/hotel/ph/selah-pods-hotel-manila.en-gb.html?aid=306395&label=manila-FQAtFrQpwv6S9K4IrmV3gAS392865645013%3Apl%3Ata%3Ap1720%3Ap2%3Aac%3Aap%3Aneg%3Afi%3Atiaud-146342137030%3Akwd-139454200%3Alp9066820%3Ali%3Adec%3Adm%3Appccp%3DUmFuZG9tSVYkc2RlIyh9YZVcNNsENnH02-pWD53qm9c&sid=fc9096d21bc731377561807eebb08b70&dest_id=-2437894;dest_type=city;dist=0;group_adults=2;group_children=0;hapos=38;hpos=13;nflt=ht_id%3D204;no_rooms=1;req_adults=2;req_children=0;room1=A%2CA;sb_price_type=total;sr_order=popularity;srepoch=1694961768;srpvid=768c46fb585a0098;type=total;ucfs=1&#hotelTmpl'\n",
    "\n",
    "# Send an HTTP GET request to the URL\n",
    "response = requests.get(url)\n",
    "\n",
    "# Check if the request was successful (status code 200)\n",
    "if response.status_code == 200:\n",
    "    # Parse the HTML content of the page\n",
    "    soup = BeautifulSoup(response.text, 'html.parser')\n",
    "\n",
    "    # Find all the room type elements\n",
    "    room_type_elements = soup.find_all(\"a\", class_=\"a83ed08757 f88a5204c2 d1c4779e7a js-legacy-room-name b98133fb50\")\n",
    "\n",
    "    # Extract and print the room types\n",
    "    room_types = [element.find(\"span\").text for element in room_type_elements]\n",
    "\n",
    "    # Print the header\n",
    "    print(\"The Room types are:\")\n",
    "\n",
    "    for room_type in room_types:\n",
    "        print(room_type)\n",
    "else:\n",
    "    print(\"Failed to retrieve the page. Status code:\", response.status_code)\n"
   ]
  },
  {
   "cell_type": "code",
   "execution_count": 179,
   "id": "6fd9aab8",
   "metadata": {
    "scrolled": false
   },
   "outputs": [
    {
     "name": "stdout",
     "output_type": "stream",
     "text": [
      "The amenities are:\n",
      "Free WiFi\n",
      "Private parking\n",
      "Family rooms\n",
      "Non-smoking rooms\n",
      "Spa and wellness centre\n",
      "Room service\n",
      "24-hour front desk\n",
      "Facilities for disabled guests\n",
      "Bar\n",
      "Breakfast\n"
     ]
    }
   ],
   "source": [
    "import requests\n",
    "from bs4 import BeautifulSoup\n",
    "\n",
    "# Define the URL\n",
    "url = 'https://www.booking.com/hotel/ph/selah-pods-hotel-manila.en-gb.html?aid=306395&label=manila-FQAtFrQpwv6S9K4IrmV3gAS392865645013%3Apl%3Ata%3Ap1720%3Ap2%3Aac%3Aap%3Aneg%3Afi%3Atiaud-146342137030%3Akwd-139454200%3Alp9066820%3Ali%3Adec%3Adm%3Appccp%3DUmFuZG9tSVYkc2RlIyh9YZVcNNsENnH02-pWD53qm9c&sid=fc9096d21bc731377561807eebb08b70&dest_id=-2437894;dest_type=city;dist=0;group_adults=2;group_children=0;hapos=38;hpos=13;nflt=ht_id%3D204;no_rooms=1;req_adults=2;req_children=0;room1=A%2CA;sb_price_type=total;sr_order=popularity;srepoch=1694961768;srpvid=768c46fb585a0098;type=total;ucfs=1&#hotelTmpl'\n",
    "\n",
    "# Send an HTTP GET request to the URL\n",
    "response = requests.get(url)\n",
    "\n",
    "# Check if the request was successful (status code 200)\n",
    "if response.status_code == 200:\n",
    "    # Parse the HTML content\n",
    "    soup = BeautifulSoup(response.text, 'html.parser')\n",
    "\n",
    "    # Find the ul element with the specified class\n",
    "    facility_ul = soup.find(\"ul\", class_=\"c807d72881 e5e0727360 e10711a42e\")\n",
    "\n",
    "    if facility_ul:\n",
    "        # Find all the list items within the ul and extract their text\n",
    "        facility_items = facility_ul.find_all(\"li\")\n",
    "\n",
    "        # Print the header\n",
    "        print(\"The amenities are:\")\n",
    "\n",
    "        # Loop through the list items and print their text\n",
    "        for item in facility_items:\n",
    "            print(item.text.strip())\n",
    "    else:\n",
    "        print(\"Facility ul not found.\")\n",
    "else:\n",
    "    print(\"Failed to retrieve the page. Status code:\", response.status_code)\n"
   ]
  },
  {
   "cell_type": "code",
   "execution_count": 3,
   "id": "6dfd7149",
   "metadata": {},
   "outputs": [
    {
     "name": "stdout",
     "output_type": "stream",
     "text": [
      "Review 1: No text found\n",
      "Review 2: No text found\n",
      "Review 3: No text found\n",
      "Review 4: No text found\n"
     ]
    }
   ],
   "source": [
    "# import requests\n",
    "from bs4 import BeautifulSoup\n",
    "\n",
    "# URL of the page to scrape\n",
    "url = 'https://www.booking.com/hotel/ph/selah-pods-hotel-manila.en-gb.html?aid=306395&label=manila-FQAtFrQpwv6S9K4IrmV3gAS392865645013%3Apl%3Ata%3Ap1720%3Ap2%3Aac%3Aap%3Aneg%3Afi%3Atiaud-146342137030%3Akwd-139454200%3Alp9066820%3Ali%3Adec%3Adm%3Appccp%3DUmFuZG9tSVYkc2RlIyh9YZVcNNsENnH02-pWD53qm9c&sid=fc9096d21bc731377561807eebb08b70&dest_id=-2437894;dest_type=city;dist=0;group_adults=2;group_children=0;hapos=38;hpos=13;nflt=ht_id%3D204;no_rooms=1;req_adults=2;req_children=0;room1=A%2CA;sb_price_type=total;sr_order=popularity;srepoch=1694961768;srpvid=768c46fb585a0098;type=total;ucfs=1&#hotelTmpl'\n",
    "\n",
    "# Send an HTTP GET request to the URL\n",
    "response = requests.get(url)\n",
    "\n",
    "# Check if the request was successful (status code 200)\n",
    "if response.status_code == 200:\n",
    "    # Parse the HTML content of the page\n",
    "    soup = BeautifulSoup(response.text, 'html.parser')\n",
    "\n",
    "    # Find all the review elements\n",
    "    review_elements = soup.find_all(\"div\", class_=\"aca0ade214 aaf30230d9 cd2e7d62b0\")\n",
    "\n",
    "    # Print all review texts\n",
    "    for i, review_element in enumerate(review_elements, start=1):\n",
    "        review_text_element = review_element.find(\"div\", class_=\"a53cbfa6de c688f151a2\")\n",
    "        if review_text_element:\n",
    "            review_text = review_text_element.text.strip()\n",
    "            print(f\"Review {i}:\")\n",
    "            print(review_text)\n",
    "            print()\n",
    "        else:\n",
    "            print(f\"Review {i}: No text found\")\n",
    "else:\n",
    "    print(\"Failed to retrieve the page. Status code:\", response.status_code)\n"
   ]
  },
  {
   "cell_type": "markdown",
   "id": "419f1919",
   "metadata": {},
   "source": [
    "#  25. Studio 8A FL w/ Balcony across Terminal 3 Airport"
   ]
  },
  {
   "cell_type": "code",
   "execution_count": 5,
   "id": "d7379db5",
   "metadata": {},
   "outputs": [
    {
     "name": "stdout",
     "output_type": "stream",
     "text": [
      "Studio 8A FL w/ Balcony across Terminal 3 Airport\n"
     ]
    }
   ],
   "source": [
    "import requests\n",
    "from bs4 import BeautifulSoup\n",
    "\n",
    "# Define the URL\n",
    "url ='https://www.booking.com/hotel/ph/studio-8a-fl-w-balcony-across-terminal-3-airport.en-gb.html?aid=311984&label=manila-manor-hA7oLSK6VdjCc90cQaA4bgS392743253654%253Apl%253Ata%253Ap1%253Ap2%253Aac%253Aap%253Aneg%253Afi%253Atikwd-2832696030%253Alp9066820%253Ali%253Adec%253Adm%253Appccp%253DUmFuZG9tSVYkc2RlIyh9YXORK0YJiVoOxcWODxYDaAA&sid=fc9096d21bc731377561807eebb08b70&dest_id=-2437894;dest_type=city;dist=0;group_adults=2;group_children=0;hapos=903;hpos=3;no_rooms=1;req_adults=2;req_children=0;room1=A%2CA;sb_price_type=total;sr_order=popularity;srepoch=1695701669;srpvid=043e1b75c1a401f3;type=total;ucfs=1&#hotelTmpl'\n",
    "\n",
    "# Send an HTTP GET request to the URL\n",
    "\n",
    "response = requests.get(url)\n",
    "\n",
    "# Check if the request was successful (status code 200)\n",
    "if response.status_code == 200:\n",
    "    # Parse the HTML content\n",
    "    soup = BeautifulSoup(response.text, 'html.parser')\n",
    "\n",
    "    # Find the h2 element with the specified class\n",
    "    h2_element = soup.find(\"h2\", class_=\"d2fee87262 pp-header__title\")\n",
    "\n",
    "    # Extract and print the text content of the h2 element\n",
    "    if h2_element:\n",
    "        print(h2_element.text.strip())\n",
    "    else:\n",
    "        print(\"H2 element not found.\")\n",
    "else:\n",
    "    print(\"Failed to retrieve the page. Status code:\", response.status_code)\n"
   ]
  },
  {
   "cell_type": "code",
   "execution_count": 6,
   "id": "aee2610d",
   "metadata": {},
   "outputs": [
    {
     "name": "stdout",
     "output_type": "stream",
     "text": [
      "The location is 1 Newport Boulevard, Pasay, 1309 Manila, Philippines\n"
     ]
    }
   ],
   "source": [
    "import requests\n",
    "from bs4 import BeautifulSoup\n",
    "\n",
    "\n",
    "# Define the URL\n",
    "url ='https://www.booking.com/hotel/ph/studio-8a-fl-w-balcony-across-terminal-3-airport.en-gb.html?aid=311984&label=manila-manor-hA7oLSK6VdjCc90cQaA4bgS392743253654%253Apl%253Ata%253Ap1%253Ap2%253Aac%253Aap%253Aneg%253Afi%253Atikwd-2832696030%253Alp9066820%253Ali%253Adec%253Adm%253Appccp%253DUmFuZG9tSVYkc2RlIyh9YXORK0YJiVoOxcWODxYDaAA&sid=fc9096d21bc731377561807eebb08b70&dest_id=-2437894;dest_type=city;dist=0;group_adults=2;group_children=0;hapos=903;hpos=3;no_rooms=1;req_adults=2;req_children=0;room1=A%2CA;sb_price_type=total;sr_order=popularity;srepoch=1695701669;srpvid=043e1b75c1a401f3;type=total;ucfs=1&#hotelTmpl'\n",
    "\n",
    "# Send an HTTP GET request to the URL\n",
    "response = requests.get(url)\n",
    "\n",
    "# Check if the request was successful (status code 200)\n",
    "if response.status_code == 200:\n",
    "    # Parse the HTML content\n",
    "    soup = BeautifulSoup(response.text, 'html.parser')\n",
    "\n",
    "    # Find the span element with the specified class and extract the address\n",
    "    address_element = soup.find(\"span\", class_=\"hp_address_subtitle\")\n",
    "\n",
    "    if address_element:\n",
    "        address = address_element.text.strip()\n",
    "        print(\"The location is\" ,address)\n",
    "    else:\n",
    "        print(\"Address element not found.\")\n",
    "else:\n",
    "    print(\"Failed to retrieve the page. Status code:\", response.status_code)\n"
   ]
  },
  {
   "cell_type": "code",
   "execution_count": 7,
   "id": "111a7e57",
   "metadata": {},
   "outputs": [
    {
     "name": "stdout",
     "output_type": "stream",
     "text": [
      "The Room types are:\n",
      "Studio with Balcony\n"
     ]
    }
   ],
   "source": [
    "import requests\n",
    "from bs4 import BeautifulSoup\n",
    "\n",
    "# URL of the page to scrape\n",
    "url ='https://www.booking.com/hotel/ph/studio-8a-fl-w-balcony-across-terminal-3-airport.en-gb.html?aid=311984&label=manila-manor-hA7oLSK6VdjCc90cQaA4bgS392743253654%253Apl%253Ata%253Ap1%253Ap2%253Aac%253Aap%253Aneg%253Afi%253Atikwd-2832696030%253Alp9066820%253Ali%253Adec%253Adm%253Appccp%253DUmFuZG9tSVYkc2RlIyh9YXORK0YJiVoOxcWODxYDaAA&sid=fc9096d21bc731377561807eebb08b70&dest_id=-2437894;dest_type=city;dist=0;group_adults=2;group_children=0;hapos=903;hpos=3;no_rooms=1;req_adults=2;req_children=0;room1=A%2CA;sb_price_type=total;sr_order=popularity;srepoch=1695701669;srpvid=043e1b75c1a401f3;type=total;ucfs=1&#hotelTmpl'\n",
    "\n",
    "# Send an HTTP GET request to the URL\n",
    "response = requests.get(url)\n",
    "\n",
    "# Check if the request was successful (status code 200)\n",
    "if response.status_code == 200:\n",
    "    # Parse the HTML content of the page\n",
    "    soup = BeautifulSoup(response.text, 'html.parser')\n",
    "\n",
    "    # Find all the room type elements\n",
    "    room_type_elements = soup.find_all(\"a\", class_=\"a83ed08757 f88a5204c2 d1c4779e7a js-legacy-room-name b98133fb50\")\n",
    "\n",
    "    # Extract and print the room types\n",
    "    room_types = [element.find(\"span\").text for element in room_type_elements]\n",
    "\n",
    "    # Print the header\n",
    "    print(\"The Room types are:\")\n",
    "\n",
    "    for room_type in room_types:\n",
    "        print(room_type)\n",
    "else:\n",
    "    print(\"Failed to retrieve the page. Status code:\", response.status_code)\n"
   ]
  },
  {
   "cell_type": "code",
   "execution_count": 8,
   "id": "c0fd1099",
   "metadata": {},
   "outputs": [
    {
     "name": "stdout",
     "output_type": "stream",
     "text": [
      "The amenities are:\n",
      "Outdoor swimming pool\n",
      "Free WiFi\n",
      "Private parking\n",
      "Non-smoking rooms\n",
      "24-hour front desk\n",
      "Terrace\n",
      "Garden\n",
      "Lift\n"
     ]
    }
   ],
   "source": [
    "import requests\n",
    "from bs4 import BeautifulSoup\n",
    "\n",
    "# Define the URL\n",
    "url ='https://www.booking.com/hotel/ph/studio-8a-fl-w-balcony-across-terminal-3-airport.en-gb.html?aid=311984&label=manila-manor-hA7oLSK6VdjCc90cQaA4bgS392743253654%253Apl%253Ata%253Ap1%253Ap2%253Aac%253Aap%253Aneg%253Afi%253Atikwd-2832696030%253Alp9066820%253Ali%253Adec%253Adm%253Appccp%253DUmFuZG9tSVYkc2RlIyh9YXORK0YJiVoOxcWODxYDaAA&sid=fc9096d21bc731377561807eebb08b70&dest_id=-2437894;dest_type=city;dist=0;group_adults=2;group_children=0;hapos=903;hpos=3;no_rooms=1;req_adults=2;req_children=0;room1=A%2CA;sb_price_type=total;sr_order=popularity;srepoch=1695701669;srpvid=043e1b75c1a401f3;type=total;ucfs=1&#hotelTmpl'\n",
    "\n",
    "# Send an HTTP GET request to the URL\n",
    "response = requests.get(url)\n",
    "\n",
    "# Check if the request was successful (status code 200)\n",
    "if response.status_code == 200:\n",
    "    # Parse the HTML content\n",
    "    soup = BeautifulSoup(response.text, 'html.parser')\n",
    "\n",
    "    # Find the ul element with the specified class\n",
    "    facility_ul = soup.find(\"ul\", class_=\"c807d72881 e5e0727360 e10711a42e\")\n",
    "\n",
    "    if facility_ul:\n",
    "        # Find all the list items within the ul and extract their text\n",
    "        facility_items = facility_ul.find_all(\"li\")\n",
    "\n",
    "        # Print the header\n",
    "        print(\"The amenities are:\")\n",
    "\n",
    "        # Loop through the list items and print their text\n",
    "        for item in facility_items:\n",
    "            print(item.text.strip())\n",
    "    else:\n",
    "        print(\"Facility ul not found.\")\n",
    "else:\n",
    "    print(\"Failed to retrieve the page. Status code:\", response.status_code)\n"
   ]
  },
  {
   "cell_type": "code",
   "execution_count": 9,
   "id": "ebe0d10f",
   "metadata": {},
   "outputs": [
    {
     "name": "stdout",
     "output_type": "stream",
     "text": [
      "Review 1: No text found\n",
      "Review 2: No text found\n",
      "Review 3: No text found\n",
      "Review 4: No text found\n",
      "Review 5: No text found\n",
      "Review 6: No text found\n",
      "Review 7: No text found\n",
      "Review 8: No text found\n",
      "Review 9: No text found\n",
      "Review 10: No text found\n",
      "Review 11: No text found\n",
      "Review 12: No text found\n",
      "Review 13: No text found\n"
     ]
    }
   ],
   "source": [
    "# import requests\n",
    "from bs4 import BeautifulSoup\n",
    "\n",
    "# URL of the page to scrape\n",
    "url ='https://www.booking.com/hotel/ph/studio-8a-fl-w-balcony-across-terminal-3-airport.en-gb.html?aid=311984&label=manila-manor-hA7oLSK6VdjCc90cQaA4bgS392743253654%253Apl%253Ata%253Ap1%253Ap2%253Aac%253Aap%253Aneg%253Afi%253Atikwd-2832696030%253Alp9066820%253Ali%253Adec%253Adm%253Appccp%253DUmFuZG9tSVYkc2RlIyh9YXORK0YJiVoOxcWODxYDaAA&sid=fc9096d21bc731377561807eebb08b70&dest_id=-2437894;dest_type=city;dist=0;group_adults=2;group_children=0;hapos=903;hpos=3;no_rooms=1;req_adults=2;req_children=0;room1=A%2CA;sb_price_type=total;sr_order=popularity;srepoch=1695701669;srpvid=043e1b75c1a401f3;type=total;ucfs=1&#hotelTmpl'\n",
    "\n",
    "# Send an HTTP GET request to the URL\n",
    "response = requests.get(url)\n",
    "\n",
    "# Check if the request was successful (status code 200)\n",
    "if response.status_code == 200:\n",
    "    # Parse the HTML content of the page\n",
    "    soup = BeautifulSoup(response.text, 'html.parser')\n",
    "\n",
    "    # Find all the review elements\n",
    "    review_elements = soup.find_all(\"div\", class_=\"aca0ade214 aaf30230d9 cd2e7d62b0\")\n",
    "\n",
    "    # Print all review texts\n",
    "    for i, review_element in enumerate(review_elements, start=1):\n",
    "        review_text_element = review_element.find(\"div\", class_=\"a53cbfa6de c688f151a2\")\n",
    "        if review_text_element:\n",
    "            review_text = review_text_element.text.strip()\n",
    "            print(f\"Review {i}:\")\n",
    "            print(review_text)\n",
    "            print()\n",
    "        else:\n",
    "            print(f\"Review {i}: No text found\")\n",
    "else:\n",
    "    print(\"Failed to retrieve the page. Status code:\", response.status_code)\n"
   ]
  },
  {
   "cell_type": "code",
   "execution_count": null,
   "id": "52288731",
   "metadata": {},
   "outputs": [],
   "source": []
  }
 ],
 "metadata": {
  "kernelspec": {
   "display_name": "Python 3 (ipykernel)",
   "language": "python",
   "name": "python3"
  },
  "language_info": {
   "codemirror_mode": {
    "name": "ipython",
    "version": 3
   },
   "file_extension": ".py",
   "mimetype": "text/x-python",
   "name": "python",
   "nbconvert_exporter": "python",
   "pygments_lexer": "ipython3",
   "version": "3.10.11"
  }
 },
 "nbformat": 4,
 "nbformat_minor": 5
}
